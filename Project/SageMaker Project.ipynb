{
 "cells": [
  {
   "cell_type": "markdown",
   "metadata": {},
   "source": [
    "# Creating a Sentiment Analysis Web App\n",
    "## Using PyTorch and SageMaker\n",
    "\n",
    "_Deep Learning Nanodegree Program | Deployment_\n",
    "\n",
    "---\n",
    "\n",
    "Now that we have a basic understanding of how SageMaker works we will try to use it to construct a complete project from end to end. Our goal will be to have a simple web page which a user can use to enter a movie review. The web page will then send the review off to our deployed model which will predict the sentiment of the entered review.\n",
    "\n",
    "## Instructions\n",
    "\n",
    "Some template code has already been provided for you, and you will need to implement additional functionality to successfully complete this notebook. You will not need to modify the included code beyond what is requested. Sections that begin with '**TODO**' in the header indicate that you need to complete or implement some portion within them. Instructions will be provided for each section and the specifics of the implementation are marked in the code block with a `# TODO: ...` comment. Please be sure to read the instructions carefully!\n",
    "\n",
    "In addition to implementing code, there will be questions for you to answer which relate to the task and your implementation. Each section where you will answer a question is preceded by a '**Question:**' header. Carefully read each question and provide your answer below the '**Answer:**' header by editing the Markdown cell.\n",
    "\n",
    "> **Note**: Code and Markdown cells can be executed using the **Shift+Enter** keyboard shortcut. In addition, a cell can be edited by typically clicking it (double-click for Markdown cells) or by pressing **Enter** while it is highlighted.\n",
    "\n",
    "## General Outline\n",
    "\n",
    "Recall the general outline for SageMaker projects using a notebook instance.\n",
    "\n",
    "1. Download or otherwise retrieve the data.\n",
    "2. Process / Prepare the data.\n",
    "3. Upload the processed data to S3.\n",
    "4. Train a chosen model.\n",
    "5. Test the trained model (typically using a batch transform job).\n",
    "6. Deploy the trained model.\n",
    "7. Use the deployed model.\n",
    "\n",
    "For this project, you will be following the steps in the general outline with some modifications. \n",
    "\n",
    "First, you will not be testing the model in its own step. You will still be testing the model, however, you will do it by deploying your model and then using the deployed model by sending the test data to it. One of the reasons for doing this is so that you can make sure that your deployed model is working correctly before moving forward.\n",
    "\n",
    "In addition, you will deploy and use your trained model a second time. In the second iteration you will customize the way that your trained model is deployed by including some of your own code. In addition, your newly deployed model will be used in the sentiment analysis web app."
   ]
  },
  {
   "cell_type": "markdown",
   "metadata": {},
   "source": [
    "## Step 1: Downloading the data\n",
    "\n",
    "As in the XGBoost in SageMaker notebook, we will be using the [IMDb dataset](http://ai.stanford.edu/~amaas/data/sentiment/)\n",
    "\n",
    "> Maas, Andrew L., et al. [Learning Word Vectors for Sentiment Analysis](http://ai.stanford.edu/~amaas/data/sentiment/). In _Proceedings of the 49th Annual Meeting of the Association for Computational Linguistics: Human Language Technologies_. Association for Computational Linguistics, 2011."
   ]
  },
  {
   "cell_type": "code",
   "execution_count": 1,
   "metadata": {},
   "outputs": [
    {
     "name": "stdout",
     "output_type": "stream",
     "text": [
      "mkdir: cannot create directory ‘../data’: File exists\n",
      "--2020-04-12 19:55:48--  http://ai.stanford.edu/~amaas/data/sentiment/aclImdb_v1.tar.gz\n",
      "Resolving ai.stanford.edu (ai.stanford.edu)... 171.64.68.10\n",
      "Connecting to ai.stanford.edu (ai.stanford.edu)|171.64.68.10|:80... connected.\n",
      "HTTP request sent, awaiting response... 200 OK\n",
      "Length: 84125825 (80M) [application/x-gzip]\n",
      "Saving to: ‘../data/aclImdb_v1.tar.gz’\n",
      "\n",
      "../data/aclImdb_v1. 100%[===================>]  80.23M  23.0MB/s    in 4.1s    \n",
      "\n",
      "2020-04-12 19:55:52 (19.7 MB/s) - ‘../data/aclImdb_v1.tar.gz’ saved [84125825/84125825]\n",
      "\n"
     ]
    }
   ],
   "source": [
    "%mkdir ../data\n",
    "!wget -O ../data/aclImdb_v1.tar.gz http://ai.stanford.edu/~amaas/data/sentiment/aclImdb_v1.tar.gz\n",
    "!tar -zxf ../data/aclImdb_v1.tar.gz -C ../data"
   ]
  },
  {
   "cell_type": "markdown",
   "metadata": {},
   "source": [
    "## Step 2: Preparing and Processing the data\n",
    "\n",
    "Also, as in the XGBoost notebook, we will be doing some initial data processing. The first few steps are the same as in the XGBoost example. To begin with, we will read in each of the reviews and combine them into a single input structure. Then, we will split the dataset into a training set and a testing set."
   ]
  },
  {
   "cell_type": "code",
   "execution_count": 2,
   "metadata": {},
   "outputs": [],
   "source": [
    "import os\n",
    "import glob\n",
    "\n",
    "def read_imdb_data(data_dir='../data/aclImdb'):\n",
    "    data = {}\n",
    "    labels = {}\n",
    "    \n",
    "    for data_type in ['train', 'test']:\n",
    "        data[data_type] = {}\n",
    "        labels[data_type] = {}\n",
    "        \n",
    "        for sentiment in ['pos', 'neg']:\n",
    "            data[data_type][sentiment] = []\n",
    "            labels[data_type][sentiment] = []\n",
    "            \n",
    "            path = os.path.join(data_dir, data_type, sentiment, '*.txt')\n",
    "            files = glob.glob(path)\n",
    "            \n",
    "            for f in files:\n",
    "                with open(f) as review:\n",
    "                    data[data_type][sentiment].append(review.read())\n",
    "                    # Here we represent a positive review by '1' and a negative review by '0'\n",
    "                    labels[data_type][sentiment].append(1 if sentiment == 'pos' else 0)\n",
    "                    \n",
    "            assert len(data[data_type][sentiment]) == len(labels[data_type][sentiment]), \\\n",
    "                    \"{}/{} data size does not match labels size\".format(data_type, sentiment)\n",
    "                \n",
    "    return data, labels"
   ]
  },
  {
   "cell_type": "code",
   "execution_count": 3,
   "metadata": {},
   "outputs": [
    {
     "name": "stdout",
     "output_type": "stream",
     "text": [
      "IMDB reviews: train = 12500 pos / 12500 neg, test = 12500 pos / 12500 neg\n"
     ]
    }
   ],
   "source": [
    "data, labels = read_imdb_data()\n",
    "print(\"IMDB reviews: train = {} pos / {} neg, test = {} pos / {} neg\".format(\n",
    "            len(data['train']['pos']), len(data['train']['neg']),\n",
    "            len(data['test']['pos']), len(data['test']['neg'])))"
   ]
  },
  {
   "cell_type": "markdown",
   "metadata": {},
   "source": [
    "Now that we've read the raw training and testing data from the downloaded dataset, we will combine the positive and negative reviews and shuffle the resulting records."
   ]
  },
  {
   "cell_type": "code",
   "execution_count": 4,
   "metadata": {},
   "outputs": [],
   "source": [
    "from sklearn.utils import shuffle\n",
    "\n",
    "def prepare_imdb_data(data, labels):\n",
    "    \"\"\"Prepare training and test sets from IMDb movie reviews.\"\"\"\n",
    "    \n",
    "    #Combine positive and negative reviews and labels\n",
    "    data_train = data['train']['pos'] + data['train']['neg']\n",
    "    data_test = data['test']['pos'] + data['test']['neg']\n",
    "    labels_train = labels['train']['pos'] + labels['train']['neg']\n",
    "    labels_test = labels['test']['pos'] + labels['test']['neg']\n",
    "    \n",
    "    #Shuffle reviews and corresponding labels within training and test sets\n",
    "    data_train, labels_train = shuffle(data_train, labels_train)\n",
    "    data_test, labels_test = shuffle(data_test, labels_test)\n",
    "    \n",
    "    # Return a unified training data, test data, training labels, test labets\n",
    "    return data_train, data_test, labels_train, labels_test"
   ]
  },
  {
   "cell_type": "code",
   "execution_count": 5,
   "metadata": {},
   "outputs": [
    {
     "name": "stdout",
     "output_type": "stream",
     "text": [
      "IMDb reviews (combined): train = 25000, test = 25000\n"
     ]
    }
   ],
   "source": [
    "train_X, test_X, train_y, test_y = prepare_imdb_data(data, labels)\n",
    "print(\"IMDb reviews (combined): train = {}, test = {}\".format(len(train_X), len(test_X)))"
   ]
  },
  {
   "cell_type": "markdown",
   "metadata": {},
   "source": [
    "Now that we have our training and testing sets unified and prepared, we should do a quick check and see an example of the data our model will be trained on. This is generally a good idea as it allows you to see how each of the further processing steps affects the reviews and it also ensures that the data has been loaded correctly."
   ]
  },
  {
   "cell_type": "code",
   "execution_count": 6,
   "metadata": {},
   "outputs": [
    {
     "name": "stdout",
     "output_type": "stream",
     "text": [
      "This is one of Jackies best films that is him without opera buddies Sammo Hung and Yuen Biao it has one of the best openings in any action film and it carrys on in that way with Jackie showing some high quality stunts the only critisim is that in the middle it gets a bit slow but it shows up for a frantic last 25 mins in the film and the end credits show what a crazy fool jackie chan is just to keep us film addicts happy\n",
      "1\n"
     ]
    }
   ],
   "source": [
    "print(train_X[100])\n",
    "print(train_y[100])"
   ]
  },
  {
   "cell_type": "markdown",
   "metadata": {},
   "source": [
    "The first step in processing the reviews is to make sure that any html tags that appear should be removed. In addition we wish to tokenize our input, that way words such as *entertained* and *entertaining* are considered the same with regard to sentiment analysis."
   ]
  },
  {
   "cell_type": "code",
   "execution_count": 7,
   "metadata": {},
   "outputs": [],
   "source": [
    "import nltk\n",
    "from nltk.corpus import stopwords\n",
    "from nltk.stem.porter import *\n",
    "\n",
    "import re\n",
    "from bs4 import BeautifulSoup\n",
    "\n",
    "def review_to_words(review):\n",
    "    nltk.download(\"stopwords\", quiet=True)\n",
    "    stemmer = PorterStemmer()\n",
    "    \n",
    "    text = BeautifulSoup(review, \"html.parser\").get_text() # Remove HTML tags\n",
    "    text = re.sub(r\"[^a-zA-Z0-9]\", \" \", text.lower()) # Convert to lower case\n",
    "    words = text.split() # Split string into words\n",
    "    words = [w for w in words if w not in stopwords.words(\"english\")] # Remove stopwords\n",
    "    words = [PorterStemmer().stem(w) for w in words] # stem\n",
    "    \n",
    "    return words"
   ]
  },
  {
   "cell_type": "markdown",
   "metadata": {},
   "source": [
    "The `review_to_words` method defined above uses `BeautifulSoup` to remove any html tags that appear and uses the `nltk` package to tokenize the reviews. As a check to ensure we know how everything is working, try applying `review_to_words` to one of the reviews in the training set."
   ]
  },
  {
   "cell_type": "code",
   "execution_count": 8,
   "metadata": {},
   "outputs": [
    {
     "data": {
      "text/plain": [
       "['one',\n",
       " 'jacki',\n",
       " 'best',\n",
       " 'film',\n",
       " 'without',\n",
       " 'opera',\n",
       " 'buddi',\n",
       " 'sammo',\n",
       " 'hung',\n",
       " 'yuen',\n",
       " 'biao',\n",
       " 'one',\n",
       " 'best',\n",
       " 'open',\n",
       " 'action',\n",
       " 'film',\n",
       " 'carri',\n",
       " 'way',\n",
       " 'jacki',\n",
       " 'show',\n",
       " 'high',\n",
       " 'qualiti',\n",
       " 'stunt',\n",
       " 'critisim',\n",
       " 'middl',\n",
       " 'get',\n",
       " 'bit',\n",
       " 'slow',\n",
       " 'show',\n",
       " 'frantic',\n",
       " 'last',\n",
       " '25',\n",
       " 'min',\n",
       " 'film',\n",
       " 'end',\n",
       " 'credit',\n",
       " 'show',\n",
       " 'crazi',\n",
       " 'fool',\n",
       " 'jacki',\n",
       " 'chan',\n",
       " 'keep',\n",
       " 'us',\n",
       " 'film',\n",
       " 'addict',\n",
       " 'happi']"
      ]
     },
     "execution_count": 8,
     "metadata": {},
     "output_type": "execute_result"
    }
   ],
   "source": [
    "# TODO: Apply review_to_words to a review (train_X[100] or any other review)\n",
    "review_to_words(train_X[100])"
   ]
  },
  {
   "cell_type": "markdown",
   "metadata": {},
   "source": [
    "**Question:** Above we mentioned that `review_to_words` method removes html formatting and allows us to tokenize the words found in a review, for example, converting *entertained* and *entertaining* into *entertain* so that they are treated as though they are the same word. What else, if anything, does this method do to the input?"
   ]
  },
  {
   "cell_type": "markdown",
   "metadata": {},
   "source": [
    "**Answer:**\n",
    "The above method prepares the data for better and faster training by removing html tags in the string and converts entertained and entertaining into entertain so that they are treated as though they are the same word.\n",
    "aditionaly this method\n",
    "\n",
    "1) Converts review text into a word list.\n",
    "\n",
    "2) Converts all the words to lower case and only retains numbers and characters and removes other special characters.\n",
    "\n",
    "3) Removes stop words.\n"
   ]
  },
  {
   "cell_type": "markdown",
   "metadata": {},
   "source": [
    "The method below applies the `review_to_words` method to each of the reviews in the training and testing datasets. In addition it caches the results. This is because performing this processing step can take a long time. This way if you are unable to complete the notebook in the current session, you can come back without needing to process the data a second time."
   ]
  },
  {
   "cell_type": "code",
   "execution_count": 9,
   "metadata": {},
   "outputs": [],
   "source": [
    "import pickle\n",
    "\n",
    "cache_dir = os.path.join(\"../cache\", \"sentiment_analysis\")  # where to store cache files\n",
    "os.makedirs(cache_dir, exist_ok=True)  # ensure cache directory exists\n",
    "\n",
    "def preprocess_data(data_train, data_test, labels_train, labels_test,\n",
    "                    cache_dir=cache_dir, cache_file=\"preprocessed_data.pkl\"):\n",
    "    \"\"\"Convert each review to words; read from cache if available.\"\"\"\n",
    "\n",
    "    # If cache_file is not None, try to read from it first\n",
    "    cache_data = None\n",
    "    if cache_file is not None:\n",
    "        try:\n",
    "            with open(os.path.join(cache_dir, cache_file), \"rb\") as f:\n",
    "                cache_data = pickle.load(f)\n",
    "            print(\"Read preprocessed data from cache file:\", cache_file)\n",
    "        except:\n",
    "            pass  # unable to read from cache, but that's okay\n",
    "    \n",
    "    # If cache is missing, then do the heavy lifting\n",
    "    if cache_data is None:\n",
    "        # Preprocess training and test data to obtain words for each review\n",
    "        #words_train = list(map(review_to_words, data_train))\n",
    "        #words_test = list(map(review_to_words, data_test))\n",
    "        words_train = [review_to_words(review) for review in data_train]\n",
    "        words_test = [review_to_words(review) for review in data_test]\n",
    "        \n",
    "        # Write to cache file for future runs\n",
    "        if cache_file is not None:\n",
    "            cache_data = dict(words_train=words_train, words_test=words_test,\n",
    "                              labels_train=labels_train, labels_test=labels_test)\n",
    "            with open(os.path.join(cache_dir, cache_file), \"wb\") as f:\n",
    "                pickle.dump(cache_data, f)\n",
    "            print(\"Wrote preprocessed data to cache file:\", cache_file)\n",
    "    else:\n",
    "        # Unpack data loaded from cache file\n",
    "        words_train, words_test, labels_train, labels_test = (cache_data['words_train'],\n",
    "                cache_data['words_test'], cache_data['labels_train'], cache_data['labels_test'])\n",
    "    \n",
    "    return words_train, words_test, labels_train, labels_test"
   ]
  },
  {
   "cell_type": "code",
   "execution_count": 10,
   "metadata": {},
   "outputs": [
    {
     "name": "stdout",
     "output_type": "stream",
     "text": [
      "Read preprocessed data from cache file: preprocessed_data.pkl\n"
     ]
    }
   ],
   "source": [
    "# Preprocess data\n",
    "train_X, test_X, train_y, test_y = preprocess_data(train_X, test_X, train_y, test_y)"
   ]
  },
  {
   "cell_type": "markdown",
   "metadata": {},
   "source": [
    "## Transform the data\n",
    "\n",
    "In the XGBoost notebook we transformed the data from its word representation to a bag-of-words feature representation. For the model we are going to construct in this notebook we will construct a feature representation which is very similar. To start, we will represent each word as an integer. Of course, some of the words that appear in the reviews occur very infrequently and so likely don't contain much information for the purposes of sentiment analysis. The way we will deal with this problem is that we will fix the size of our working vocabulary and we will only include the words that appear most frequently. We will then combine all of the infrequent words into a single category and, in our case, we will label it as `1`.\n",
    "\n",
    "Since we will be using a recurrent neural network, it will be convenient if the length of each review is the same. To do this, we will fix a size for our reviews and then pad short reviews with the category 'no word' (which we will label `0`) and truncate long reviews."
   ]
  },
  {
   "cell_type": "markdown",
   "metadata": {},
   "source": [
    "### (TODO) Create a word dictionary\n",
    "\n",
    "To begin with, we need to construct a way to map words that appear in the reviews to integers. Here we fix the size of our vocabulary (including the 'no word' and 'infrequent' categories) to be `5000` but you may wish to change this to see how it affects the model.\n",
    "\n",
    "> **TODO:** Complete the implementation for the `build_dict()` method below. Note that even though the vocab_size is set to `5000`, we only want to construct a mapping for the most frequently appearing `4998` words. This is because we want to reserve the special labels `0` for 'no word' and `1` for 'infrequent word'."
   ]
  },
  {
   "cell_type": "code",
   "execution_count": 11,
   "metadata": {},
   "outputs": [],
   "source": [
    "import numpy as np\n",
    "from collections import Counter\n",
    "import re\n",
    "\n",
    "def build_dict(data, vocab_size = 5000):\n",
    "    \"\"\"Construct and return a dictionary mapping each of the most frequently appearing words to a unique integer.\"\"\"\n",
    "    \n",
    "    # TODO: Determine how often each word appears in `data`. Note that `data` is a list of sentences and that a\n",
    "    #       sentence is a list of words.\n",
    "    #{} # A dict storing the words that appear in the reviews along with how often they occur\n",
    "    \n",
    "    word_count = Counter(np.concatenate( data, axis=0 ))\n",
    "    #print(word_count)\n",
    "    \n",
    "    # TODO: Sort the words found in `data` so that sorted_words[0] is the most frequently appearing word and\n",
    "    #       sorted_words[-1] is the least frequently appearing word.\n",
    "    \n",
    "    sorted_words = sorted(word_count, key=word_count.get, reverse=True)\n",
    "    \n",
    "    \n",
    "    word_dict = {} # This is what we are building, a dictionary that translates words into integers\n",
    "    for idx, word in enumerate(sorted_words[:vocab_size - 2]): # The -2 is so that we save room for the 'no word'\n",
    "        word_dict[word] = idx + 2                              # 'infrequent' labels\n",
    "        \n",
    "    return word_dict"
   ]
  },
  {
   "cell_type": "code",
   "execution_count": 12,
   "metadata": {},
   "outputs": [],
   "source": [
    "word_dict = build_dict(train_X)"
   ]
  },
  {
   "cell_type": "markdown",
   "metadata": {},
   "source": [
    "**Question:** What are the five most frequently appearing (tokenized) words in the training set? Does it makes sense that these words appear frequently in the training set?"
   ]
  },
  {
   "cell_type": "markdown",
   "metadata": {},
   "source": [
    "**Answer:**\n",
    "Below are the most frequently appearing words in the training set, there words are generic words used in movie comments and do not hold sentiment value hence they don’t help  in identifying the comment's sentiment.\n",
    "\n",
    "'movi', 'film', 'one', 'like', 'time' "
   ]
  },
  {
   "cell_type": "code",
   "execution_count": 13,
   "metadata": {},
   "outputs": [
    {
     "name": "stdout",
     "output_type": "stream",
     "text": [
      "['movi', 'film', 'one', 'like', 'time']\n"
     ]
    }
   ],
   "source": [
    "# TODO: Use this space to determine the five most frequently appearing words in the training set.\n",
    "train_words = Counter(np.concatenate(train_X,axis=0))\n",
    "sorted_train_wd = sorted(train_words,key=train_words.get,reverse=True)\n",
    "print(sorted_train_wd[0:5])"
   ]
  },
  {
   "cell_type": "markdown",
   "metadata": {},
   "source": [
    "### Save `word_dict`\n",
    "\n",
    "Later on when we construct an endpoint which processes a submitted review we will need to make use of the `word_dict` which we have created. As such, we will save it to a file now for future use."
   ]
  },
  {
   "cell_type": "code",
   "execution_count": 14,
   "metadata": {},
   "outputs": [],
   "source": [
    "data_dir = '../data/pytorch' # The folder we will use for storing data\n",
    "if not os.path.exists(data_dir): # Make sure that the folder exists\n",
    "    os.makedirs(data_dir)"
   ]
  },
  {
   "cell_type": "code",
   "execution_count": 15,
   "metadata": {},
   "outputs": [],
   "source": [
    "with open(os.path.join(data_dir, 'word_dict.pkl'), \"wb\") as f:\n",
    "    pickle.dump(word_dict, f)"
   ]
  },
  {
   "cell_type": "markdown",
   "metadata": {},
   "source": [
    "### Transform the reviews\n",
    "\n",
    "Now that we have our word dictionary which allows us to transform the words appearing in the reviews into integers, it is time to make use of it and convert our reviews to their integer sequence representation, making sure to pad or truncate to a fixed length, which in our case is `500`."
   ]
  },
  {
   "cell_type": "code",
   "execution_count": 16,
   "metadata": {},
   "outputs": [],
   "source": [
    "def convert_and_pad(word_dict, sentence, pad=500):\n",
    "    NOWORD = 0 # We will use 0 to represent the 'no word' category\n",
    "    INFREQ = 1 # and we use 1 to represent the infrequent words, i.e., words not appearing in word_dict\n",
    "    \n",
    "    working_sentence = [NOWORD] * pad\n",
    "    \n",
    "    for word_index, word in enumerate(sentence[:pad]):\n",
    "        if word in word_dict:\n",
    "            working_sentence[word_index] = word_dict[word]\n",
    "        else:\n",
    "            working_sentence[word_index] = INFREQ\n",
    "            \n",
    "    return working_sentence, min(len(sentence), pad)\n",
    "\n",
    "def convert_and_pad_data(word_dict, data, pad=500):\n",
    "    result = []\n",
    "    lengths = []\n",
    "    \n",
    "    for sentence in data:\n",
    "        converted, leng = convert_and_pad(word_dict, sentence, pad)\n",
    "        result.append(converted)\n",
    "        lengths.append(leng)\n",
    "        \n",
    "    return np.array(result), np.array(lengths)"
   ]
  },
  {
   "cell_type": "code",
   "execution_count": 17,
   "metadata": {},
   "outputs": [],
   "source": [
    "train_X, train_X_len = convert_and_pad_data(word_dict, train_X)\n",
    "test_X, test_X_len = convert_and_pad_data(word_dict, test_X)"
   ]
  },
  {
   "cell_type": "markdown",
   "metadata": {},
   "source": [
    "As a quick check to make sure that things are working as intended, check to see what one of the reviews in the training set looks like after having been processeed. Does this look reasonable? What is the length of a review in the training set?"
   ]
  },
  {
   "cell_type": "code",
   "execution_count": 18,
   "metadata": {},
   "outputs": [
    {
     "name": "stdout",
     "output_type": "stream",
     "text": [
      "[   4    3    8   49    6 1012   12   64    5    6 1012 1899  504    6\n",
      " 1012   10  297  920  453   28   19 4436  295  276    8   24    3   31\n",
      "    3    8  104   19    1  147 1598   13  289 3706   25 3706 2075  170\n",
      "   78  190  225   25  992  983  368   31   10 2155 1037 1165   25  439\n",
      "   10  613  325 3112 2324    1  757 3376 4248  378  645  506  648   25\n",
      " 1406 2394  190  160  907   78 1900    1    1  363    1    1  996    1\n",
      "  450    1    1  153   42 1637    1  173  287  350   19  781 2075  683\n",
      " 1125   10 3533  213 1156 3706 3028  393  139 2412  152   72    1   75\n",
      "   31  332  201    1 1165 2394  439  330 2055  190 4504  231  357   21\n",
      "  231 2075  829 4314  159  262   61  909    1 1319  188  290   68  382\n",
      "   52 1829  190  666    1  244 2186 2038 1288    1  190   15  240  456\n",
      "  549 2038 1288    1    2 1493  325 3112 2324  191 1026  806    6 1638\n",
      "   39  124  806  233   10  163  658  437   49  240   59 3237 3238 1780\n",
      " 2678  166   32  281  216  555  281  144 4860  739   61  356   14  279\n",
      "  564 1157  229   83    0    0    0    0    0    0    0    0    0    0\n",
      "    0    0    0    0    0    0    0    0    0    0    0    0    0    0\n",
      "    0    0    0    0    0    0    0    0    0    0    0    0    0    0\n",
      "    0    0    0    0    0    0    0    0    0    0    0    0    0    0\n",
      "    0    0    0    0    0    0    0    0    0    0    0    0    0    0\n",
      "    0    0    0    0    0    0    0    0    0    0    0    0    0    0\n",
      "    0    0    0    0    0    0    0    0    0    0    0    0    0    0\n",
      "    0    0    0    0    0    0    0    0    0    0    0    0    0    0\n",
      "    0    0    0    0    0    0    0    0    0    0    0    0    0    0\n",
      "    0    0    0    0    0    0    0    0    0    0    0    0    0    0\n",
      "    0    0    0    0    0    0    0    0    0    0    0    0    0    0\n",
      "    0    0    0    0    0    0    0    0    0    0    0    0    0    0\n",
      "    0    0    0    0    0    0    0    0    0    0    0    0    0    0\n",
      "    0    0    0    0    0    0    0    0    0    0    0    0    0    0\n",
      "    0    0    0    0    0    0    0    0    0    0    0    0    0    0\n",
      "    0    0    0    0    0    0    0    0    0    0    0    0    0    0\n",
      "    0    0    0    0    0    0    0    0    0    0    0    0    0    0\n",
      "    0    0    0    0    0    0    0    0    0    0    0    0    0    0\n",
      "    0    0    0    0    0    0    0    0    0    0    0    0    0    0\n",
      "    0    0    0    0    0    0    0    0    0    0    0    0    0    0\n",
      "    0    0    0    0    0    0    0    0    0    0    0    0    0    0\n",
      "    0    0    0    0    0    0    0    0    0    0]\n"
     ]
    }
   ],
   "source": [
    "# Use this cell to examine one of the processed reviews to make sure everything is working as intended.\n",
    "print(train_X[0])"
   ]
  },
  {
   "cell_type": "code",
   "execution_count": 19,
   "metadata": {},
   "outputs": [
    {
     "name": "stdout",
     "output_type": "stream",
     "text": [
      "{'movi': 2, 'film': 3, 'one': 4, 'like': 5, 'time': 6, 'good': 7, 'make': 8, 'charact': 9, 'get': 10, 'see': 11, 'watch': 12, 'stori': 13, 'even': 14, 'would': 15, 'realli': 16, 'well': 17, 'scene': 18, 'look': 19, 'show': 20, 'much': 21, 'end': 22, 'peopl': 23, 'bad': 24, 'go': 25, 'great': 26, 'also': 27, 'first': 28, 'love': 29, 'think': 30, 'way': 31, 'act': 32, 'play': 33, 'made': 34, 'thing': 35, 'could': 36, 'know': 37, 'say': 38, 'seem': 39, 'work': 40, 'plot': 41, 'two': 42, 'actor': 43, 'year': 44, 'come': 45, 'mani': 46, 'seen': 47, 'take': 48, 'want': 49, 'life': 50, 'never': 51, 'littl': 52, 'best': 53, 'tri': 54, 'man': 55, 'ever': 56, 'give': 57, 'better': 58, 'still': 59, 'perform': 60, 'find': 61, 'feel': 62, 'part': 63, 'back': 64, 'use': 65, 'someth': 66, 'director': 67, 'actual': 68, 'interest': 69, 'lot': 70, 'real': 71, 'old': 72, 'cast': 73, 'though': 74, 'live': 75, 'star': 76, 'enjoy': 77, 'guy': 78, 'anoth': 79, 'new': 80, 'role': 81, 'noth': 82, '10': 83, 'funni': 84, 'music': 85, 'point': 86, 'start': 87, 'set': 88, 'girl': 89, 'origin': 90, 'day': 91, 'world': 92, 'everi': 93, 'believ': 94, 'turn': 95, 'quit': 96, 'us': 97, 'direct': 98, 'thought': 99, 'fact': 100, 'minut': 101, 'horror': 102, 'kill': 103, 'action': 104, 'comedi': 105, 'pretti': 106, 'young': 107, 'wonder': 108, 'happen': 109, 'around': 110, 'got': 111, 'effect': 112, 'right': 113, 'long': 114, 'howev': 115, 'big': 116, 'line': 117, 'famili': 118, 'enough': 119, 'seri': 120, 'may': 121, 'need': 122, 'fan': 123, 'bit': 124, 'script': 125, 'beauti': 126, 'person': 127, 'becom': 128, 'without': 129, 'must': 130, 'alway': 131, 'friend': 132, 'tell': 133, 'reason': 134, 'saw': 135, 'last': 136, 'final': 137, 'kid': 138, 'almost': 139, 'put': 140, 'least': 141, 'sure': 142, 'done': 143, 'whole': 144, 'place': 145, 'complet': 146, 'kind': 147, 'differ': 148, 'expect': 149, 'shot': 150, 'far': 151, 'mean': 152, 'anyth': 153, 'book': 154, 'laugh': 155, 'might': 156, 'name': 157, 'sinc': 158, 'begin': 159, '2': 160, 'probabl': 161, 'woman': 162, 'help': 163, 'entertain': 164, 'let': 165, 'screen': 166, 'call': 167, 'tv': 168, 'moment': 169, 'away': 170, 'read': 171, 'yet': 172, 'rather': 173, 'worst': 174, 'run': 175, 'fun': 176, 'lead': 177, 'hard': 178, 'audienc': 179, 'idea': 180, 'anyon': 181, 'episod': 182, 'american': 183, 'found': 184, 'appear': 185, 'bore': 186, 'especi': 187, 'although': 188, 'hope': 189, 'cours': 190, 'keep': 191, 'anim': 192, 'job': 193, 'goe': 194, 'move': 195, 'sens': 196, 'dvd': 197, 'version': 198, 'war': 199, 'money': 200, 'someon': 201, 'mind': 202, 'mayb': 203, 'problem': 204, 'true': 205, 'hous': 206, 'everyth': 207, 'nice': 208, 'second': 209, 'rate': 210, 'three': 211, 'night': 212, 'face': 213, 'follow': 214, 'recommend': 215, 'product': 216, 'main': 217, 'worth': 218, 'leav': 219, 'human': 220, 'special': 221, 'excel': 222, 'togeth': 223, 'wast': 224, 'everyon': 225, 'sound': 226, 'john': 227, 'hand': 228, '1': 229, 'father': 230, 'later': 231, 'eye': 232, 'said': 233, 'view': 234, 'instead': 235, 'review': 236, 'boy': 237, 'high': 238, 'hour': 239, 'miss': 240, 'talk': 241, 'classic': 242, 'wife': 243, 'understand': 244, 'left': 245, 'care': 246, 'black': 247, 'death': 248, 'open': 249, 'murder': 250, 'write': 251, 'half': 252, 'head': 253, 'rememb': 254, 'chang': 255, 'viewer': 256, 'fight': 257, 'gener': 258, 'surpris': 259, 'includ': 260, 'short': 261, 'die': 262, 'fall': 263, 'less': 264, 'els': 265, 'entir': 266, 'piec': 267, 'involv': 268, 'pictur': 269, 'simpli': 270, 'home': 271, 'power': 272, 'top': 273, 'total': 274, 'usual': 275, 'budget': 276, 'attempt': 277, 'suppos': 278, 'releas': 279, 'hollywood': 280, 'terribl': 281, 'song': 282, 'men': 283, 'possibl': 284, 'featur': 285, 'portray': 286, 'disappoint': 287, 'poor': 288, '3': 289, 'coupl': 290, 'stupid': 291, 'camera': 292, 'dead': 293, 'wrong': 294, 'low': 295, 'produc': 296, 'video': 297, 'either': 298, 'aw': 299, 'definit': 300, 'except': 301, 'rest': 302, 'given': 303, 'absolut': 304, 'women': 305, 'lack': 306, 'word': 307, 'writer': 308, 'titl': 309, 'talent': 310, 'decid': 311, 'full': 312, 'perfect': 313, 'along': 314, 'style': 315, 'close': 316, 'truli': 317, 'school': 318, 'save': 319, 'emot': 320, 'age': 321, 'sex': 322, 'next': 323, 'bring': 324, 'mr': 325, 'case': 326, 'killer': 327, 'heart': 328, 'comment': 329, 'sort': 330, 'creat': 331, 'perhap': 332, 'came': 333, 'brother': 334, 'sever': 335, 'joke': 336, 'art': 337, 'dialogu': 338, 'game': 339, 'small': 340, 'base': 341, 'flick': 342, 'written': 343, 'sequenc': 344, 'meet': 345, 'earli': 346, 'often': 347, 'other': 348, 'mother': 349, 'develop': 350, 'humor': 351, 'actress': 352, 'consid': 353, 'dark': 354, 'guess': 355, 'amaz': 356, 'unfortun': 357, 'light': 358, 'lost': 359, 'exampl': 360, 'cinema': 361, 'drama': 362, 'ye': 363, 'white': 364, 'experi': 365, 'imagin': 366, 'mention': 367, 'stop': 368, 'natur': 369, 'forc': 370, 'manag': 371, 'felt': 372, 'cut': 373, 'present': 374, 'children': 375, 'fail': 376, 'son': 377, 'car': 378, 'support': 379, 'qualiti': 380, 'ask': 381, 'hit': 382, 'side': 383, 'voic': 384, 'extrem': 385, 'impress': 386, 'evil': 387, 'wors': 388, 'went': 389, 'stand': 390, 'certainli': 391, 'basic': 392, 'oh': 393, 'overal': 394, 'favorit': 395, 'horribl': 396, 'mysteri': 397, 'number': 398, 'type': 399, 'danc': 400, 'wait': 401, 'hero': 402, 'alreadi': 403, '5': 404, 'learn': 405, 'matter': 406, '4': 407, 'michael': 408, 'genr': 409, 'fine': 410, 'despit': 411, 'throughout': 412, 'walk': 413, 'success': 414, 'histori': 415, 'question': 416, 'zombi': 417, 'town': 418, 'relationship': 419, 'realiz': 420, 'child': 421, 'past': 422, 'daughter': 423, 'late': 424, 'b': 425, 'wish': 426, 'hate': 427, 'credit': 428, 'event': 429, 'theme': 430, 'touch': 431, 'citi': 432, 'today': 433, 'sometim': 434, 'behind': 435, 'god': 436, 'twist': 437, 'sit': 438, 'stay': 439, 'annoy': 440, 'deal': 441, 'abl': 442, 'rent': 443, 'pleas': 444, 'edit': 445, 'blood': 446, 'deserv': 447, 'anyway': 448, 'comic': 449, 'appar': 450, 'soon': 451, 'gave': 452, 'etc': 453, 'level': 454, 'slow': 455, 'chanc': 456, 'score': 457, 'bodi': 458, 'brilliant': 459, 'incred': 460, 'figur': 461, 'situat': 462, 'major': 463, 'self': 464, 'stuff': 465, 'decent': 466, 'element': 467, 'return': 468, 'dream': 469, 'obvious': 470, 'continu': 471, 'order': 472, 'pace': 473, 'ridicul': 474, 'happi': 475, 'highli': 476, 'group': 477, 'add': 478, 'thank': 479, 'ladi': 480, 'novel': 481, 'pain': 482, 'speak': 483, 'career': 484, 'shoot': 485, 'strang': 486, 'heard': 487, 'sad': 488, 'husband': 489, 'polic': 490, 'import': 491, 'break': 492, 'took': 493, 'strong': 494, 'cannot': 495, 'predict': 496, 'robert': 497, 'violenc': 498, 'hilari': 499, 'recent': 500, 'countri': 501, 'known': 502, 'particularli': 503, 'pick': 504, 'documentari': 505, 'season': 506, 'critic': 507, 'jame': 508, 'compar': 509, 'alon': 510, 'obviou': 511, 'told': 512, 'state': 513, 'visual': 514, 'rock': 515, 'theater': 516, 'offer': 517, 'exist': 518, 'opinion': 519, 'gore': 520, 'hold': 521, 'crap': 522, 'result': 523, 'realiti': 524, 'room': 525, 'hear': 526, 'effort': 527, 'clich': 528, 'thriller': 529, 'caus': 530, 'explain': 531, 'serious': 532, 'sequel': 533, 'king': 534, 'local': 535, 'ago': 536, 'hell': 537, 'none': 538, 'note': 539, 'allow': 540, 'sister': 541, 'david': 542, 'simpl': 543, 'femal': 544, 'deliv': 545, 'ok': 546, 'class': 547, 'convinc': 548, 'check': 549, 'suspens': 550, 'win': 551, 'buy': 552, 'oscar': 553, 'huge': 554, 'valu': 555, 'sexual': 556, 'scari': 557, 'cool': 558, 'excit': 559, 'similar': 560, 'apart': 561, 'provid': 562, 'exactli': 563, 'avoid': 564, 'shown': 565, 'seriou': 566, 'english': 567, 'whose': 568, 'taken': 569, 'cinematographi': 570, 'shock': 571, 'polit': 572, 'spoiler': 573, 'offic': 574, 'across': 575, 'middl': 576, 'street': 577, 'pass': 578, 'messag': 579, 'charm': 580, 'somewhat': 581, 'silli': 582, 'modern': 583, 'filmmak': 584, 'confus': 585, 'form': 586, 'tale': 587, 'singl': 588, 'jack': 589, 'mostli': 590, 'william': 591, 'attent': 592, 'carri': 593, 'sing': 594, 'subject': 595, 'five': 596, 'prove': 597, 'richard': 598, 'stage': 599, 'team': 600, 'unlik': 601, 'cop': 602, 'georg': 603, 'televis': 604, 'monster': 605, 'earth': 606, 'villain': 607, 'cover': 608, 'pay': 609, 'marri': 610, 'toward': 611, 'build': 612, 'pull': 613, 'parent': 614, 'due': 615, 'fill': 616, 'respect': 617, 'dialog': 618, 'four': 619, 'remind': 620, 'futur': 621, 'weak': 622, 'typic': 623, '7': 624, 'cheap': 625, 'intellig': 626, 'british': 627, 'atmospher': 628, '80': 629, 'clearli': 630, 'non': 631, 'dog': 632, 'paul': 633, 'artist': 634, '8': 635, 'knew': 636, 'fast': 637, 'crime': 638, 'easili': 639, 'escap': 640, 'adult': 641, 'doubt': 642, 'detail': 643, 'date': 644, 'fire': 645, 'romant': 646, 'member': 647, 'drive': 648, 'gun': 649, 'straight': 650, 'beyond': 651, 'fit': 652, 'attack': 653, 'imag': 654, 'upon': 655, 'posit': 656, 'whether': 657, 'fantast': 658, 'peter': 659, 'captur': 660, 'aspect': 661, 'appreci': 662, 'ten': 663, 'plan': 664, 'discov': 665, 'remain': 666, 'near': 667, 'period': 668, 'realist': 669, 'air': 670, 'mark': 671, 'red': 672, 'dull': 673, 'adapt': 674, 'within': 675, 'spend': 676, 'lose': 677, 'materi': 678, 'color': 679, 'chase': 680, 'mari': 681, 'storylin': 682, 'forget': 683, 'bunch': 684, 'clear': 685, 'lee': 686, 'victim': 687, 'nearli': 688, 'box': 689, 'york': 690, 'inspir': 691, 'match': 692, 'finish': 693, 'mess': 694, 'standard': 695, 'easi': 696, 'truth': 697, 'suffer': 698, 'busi': 699, 'space': 700, 'dramat': 701, 'bill': 702, 'western': 703, 'e': 704, 'list': 705, 'battl': 706, 'notic': 707, 'de': 708, 'french': 709, 'ad': 710, '9': 711, 'tom': 712, 'larg': 713, 'among': 714, 'eventu': 715, 'accept': 716, 'train': 717, 'agre': 718, 'spirit': 719, 'soundtrack': 720, 'third': 721, 'teenag': 722, 'adventur': 723, 'soldier': 724, 'suggest': 725, 'famou': 726, 'drug': 727, 'sorri': 728, 'babi': 729, 'normal': 730, 'cri': 731, 'ultim': 732, 'troubl': 733, 'contain': 734, 'certain': 735, 'cultur': 736, 'romanc': 737, 'rare': 738, 'lame': 739, 'somehow': 740, 'mix': 741, 'disney': 742, 'gone': 743, 'cartoon': 744, 'student': 745, 'fear': 746, 'reveal': 747, 'kept': 748, 'suck': 749, 'attract': 750, 'appeal': 751, 'premis': 752, 'secret': 753, 'greatest': 754, 'design': 755, 'shame': 756, 'throw': 757, 'scare': 758, 'copi': 759, 'wit': 760, 'america': 761, 'admit': 762, 'brought': 763, 'particular': 764, 'relat': 765, 'screenplay': 766, 'whatev': 767, 'pure': 768, '70': 769, 'harri': 770, 'averag': 771, 'master': 772, 'describ': 773, 'male': 774, 'treat': 775, '20': 776, 'issu': 777, 'fantasi': 778, 'warn': 779, 'inde': 780, 'forward': 781, 'background': 782, 'free': 783, 'project': 784, 'japanes': 785, 'memor': 786, 'poorli': 787, 'award': 788, 'locat': 789, 'potenti': 790, 'amus': 791, 'struggl': 792, 'weird': 793, 'magic': 794, 'societi': 795, 'okay': 796, 'imdb': 797, 'doctor': 798, 'accent': 799, 'water': 800, 'hot': 801, 'express': 802, 'alien': 803, '30': 804, 'dr': 805, 'odd': 806, 'choic': 807, 'crazi': 808, 'studio': 809, 'fiction': 810, 'becam': 811, 'control': 812, 'masterpiec': 813, 'difficult': 814, 'fli': 815, 'joe': 816, 'scream': 817, 'costum': 818, 'lover': 819, 'uniqu': 820, 'refer': 821, 'remak': 822, 'girlfriend': 823, 'vampir': 824, 'prison': 825, 'execut': 826, 'wear': 827, 'jump': 828, 'wood': 829, 'unless': 830, 'creepi': 831, 'cheesi': 832, 'superb': 833, 'otherwis': 834, 'parti': 835, 'roll': 836, 'ghost': 837, 'public': 838, 'mad': 839, 'depict': 840, 'moral': 841, 'badli': 842, 'week': 843, 'earlier': 844, 'jane': 845, 'dumb': 846, 'fi': 847, 'grow': 848, 'flaw': 849, 'deep': 850, 'sci': 851, 'cat': 852, 'maker': 853, 'connect': 854, 'footag': 855, 'older': 856, 'plenti': 857, 'bother': 858, 'outsid': 859, 'stick': 860, 'gay': 861, 'catch': 862, 'plu': 863, 'co': 864, 'popular': 865, 'equal': 866, 'social': 867, 'quickli': 868, 'disturb': 869, 'perfectli': 870, 'dress': 871, 'era': 872, '90': 873, 'mistak': 874, 'lie': 875, 'previou': 876, 'ride': 877, 'combin': 878, 'concept': 879, 'band': 880, 'surviv': 881, 'answer': 882, 'rich': 883, 'front': 884, 'christma': 885, 'sweet': 886, 'insid': 887, 'eat': 888, 'bare': 889, 'concern': 890, 'beat': 891, 'listen': 892, 'ben': 893, 'c': 894, 'serv': 895, 'term': 896, 'meant': 897, 'german': 898, 'la': 899, 'hardli': 900, 'stereotyp': 901, 'innoc': 902, 'law': 903, 'desper': 904, 'promis': 905, 'memori': 906, 'cute': 907, 'intent': 908, 'variou': 909, 'steal': 910, 'inform': 911, 'brain': 912, 'post': 913, 'tone': 914, 'island': 915, 'amount': 916, 'track': 917, 'nuditi': 918, 'compani': 919, 'store': 920, 'claim': 921, 'flat': 922, 'hair': 923, '50': 924, 'land': 925, 'univers': 926, 'kick': 927, 'danger': 928, 'scott': 929, 'fairli': 930, 'player': 931, 'step': 932, 'crew': 933, 'plain': 934, 'toni': 935, 'share': 936, 'centuri': 937, 'tast': 938, 'engag': 939, 'achiev': 940, 'travel': 941, 'cold': 942, 'rip': 943, 'record': 944, 'suit': 945, 'sadli': 946, 'manner': 947, 'tension': 948, 'spot': 949, 'wrote': 950, 'intens': 951, 'fascin': 952, 'familiar': 953, 'depth': 954, 'remark': 955, 'burn': 956, 'histor': 957, 'destroy': 958, 'sleep': 959, 'purpos': 960, 'languag': 961, 'ruin': 962, 'ignor': 963, 'delight': 964, 'italian': 965, 'unbeliev': 966, 'abil': 967, 'collect': 968, 'soul': 969, 'detect': 970, 'clever': 971, 'violent': 972, 'rape': 973, 'reach': 974, 'door': 975, 'trash': 976, 'scienc': 977, 'liter': 978, 'reveng': 979, 'commun': 980, 'caught': 981, 'creatur': 982, 'trip': 983, 'approach': 984, 'intrigu': 985, 'fashion': 986, 'skill': 987, 'paint': 988, 'introduc': 989, 'complex': 990, 'channel': 991, 'camp': 992, 'christian': 993, 'hole': 994, 'extra': 995, 'immedi': 996, 'limit': 997, 'ann': 998, 'mental': 999, 'million': 1000, 'comput': 1001, '6': 1002, 'slightli': 1003, 'mere': 1004, 'conclus': 1005, 'slasher': 1006, 'imposs': 1007, 'suddenli': 1008, 'neither': 1009, 'crimin': 1010, 'teen': 1011, 'spent': 1012, 'physic': 1013, 'nation': 1014, 'respons': 1015, 'planet': 1016, 'receiv': 1017, 'fake': 1018, 'sick': 1019, 'blue': 1020, 'bizarr': 1021, 'embarrass': 1022, 'indian': 1023, 'ring': 1024, '15': 1025, 'pop': 1026, 'drop': 1027, 'drag': 1028, 'haunt': 1029, 'pointless': 1030, 'suspect': 1031, 'edg': 1032, 'search': 1033, 'handl': 1034, 'biggest': 1035, 'common': 1036, 'arriv': 1037, 'hurt': 1038, 'faith': 1039, 'technic': 1040, 'angel': 1041, 'dad': 1042, 'genuin': 1043, 'f': 1044, 'awesom': 1045, 'solid': 1046, 'former': 1047, 'colleg': 1048, 'focu': 1049, 'van': 1050, 'count': 1051, 'heavi': 1052, 'tear': 1053, 'rais': 1054, 'wall': 1055, 'younger': 1056, 'laughabl': 1057, 'visit': 1058, 'fair': 1059, 'excus': 1060, 'sign': 1061, 'cult': 1062, 'key': 1063, 'motion': 1064, 'tough': 1065, 'super': 1066, 'desir': 1067, 'addit': 1068, 'stun': 1069, 'exploit': 1070, 'cloth': 1071, 'tortur': 1072, 'smith': 1073, 'davi': 1074, 'race': 1075, 'author': 1076, 'cross': 1077, 'jim': 1078, 'consist': 1079, 'focus': 1080, 'minor': 1081, 'compel': 1082, 'pathet': 1083, 'chemistri': 1084, 'commit': 1085, 'park': 1086, 'tradit': 1087, 'frank': 1088, 'obsess': 1089, 'grade': 1090, '60': 1091, 'asid': 1092, 'brutal': 1093, 'somewher': 1094, 'steve': 1095, 'u': 1096, 'opportun': 1097, 'grant': 1098, 'rule': 1099, 'depress': 1100, 'explor': 1101, 'honest': 1102, 'besid': 1103, 'anti': 1104, 'dub': 1105, 'trailer': 1106, 'intend': 1107, 'bar': 1108, 'longer': 1109, 'regard': 1110, 'scientist': 1111, 'west': 1112, 'decad': 1113, 'judg': 1114, 'silent': 1115, 'creativ': 1116, 'armi': 1117, 'wild': 1118, 'south': 1119, 'g': 1120, 'stewart': 1121, 'draw': 1122, 'road': 1123, 'govern': 1124, 'ex': 1125, 'boss': 1126, 'practic': 1127, 'gang': 1128, 'festiv': 1129, 'surprisingli': 1130, 'motiv': 1131, 'club': 1132, 'page': 1133, 'green': 1134, 'redeem': 1135, 'london': 1136, 'militari': 1137, 'aliv': 1138, 'idiot': 1139, 'machin': 1140, 'display': 1141, 'repeat': 1142, 'thrill': 1143, 'folk': 1144, '100': 1145, 'yeah': 1146, 'nobodi': 1147, '40': 1148, 'garbag': 1149, 'journey': 1150, 'smile': 1151, 'ground': 1152, 'tire': 1153, 'bought': 1154, 'mood': 1155, 'stone': 1156, 'cost': 1157, 'sam': 1158, 'noir': 1159, 'mouth': 1160, 'agent': 1161, 'terrif': 1162, 'requir': 1163, 'utterli': 1164, 'area': 1165, 'honestli': 1166, 'sexi': 1167, 'report': 1168, 'geniu': 1169, 'humour': 1170, 'investig': 1171, 'glad': 1172, 'enter': 1173, 'serial': 1174, 'occasion': 1175, 'narr': 1176, 'passion': 1177, 'marriag': 1178, 'climax': 1179, 'studi': 1180, 'industri': 1181, 'nowher': 1182, 'demon': 1183, 'center': 1184, 'ship': 1185, 'charli': 1186, 'hors': 1187, 'bear': 1188, 'loos': 1189, 'wow': 1190, 'hang': 1191, 'graphic': 1192, 'giant': 1193, 'admir': 1194, 'send': 1195, 'loud': 1196, 'damn': 1197, 'nake': 1198, 'profession': 1199, 'rel': 1200, 'subtl': 1201, 'blow': 1202, 'bottom': 1203, 'batman': 1204, 'insult': 1205, 'doubl': 1206, 'boyfriend': 1207, 'r': 1208, 'kelli': 1209, 'initi': 1210, 'frame': 1211, 'opera': 1212, 'gem': 1213, 'cinemat': 1214, 'drawn': 1215, 'church': 1216, 'affect': 1217, 'challeng': 1218, 'fulli': 1219, 'j': 1220, 'seek': 1221, 'evid': 1222, 'nightmar': 1223, 'l': 1224, 'arm': 1225, 'essenti': 1226, 'conflict': 1227, 'christoph': 1228, 'wind': 1229, 'henri': 1230, 'grace': 1231, 'assum': 1232, 'narrat': 1233, 'witch': 1234, 'push': 1235, 'hunt': 1236, 'wise': 1237, 'chri': 1238, 'repres': 1239, 'month': 1240, 'nomin': 1241, 'hide': 1242, 'avail': 1243, 'affair': 1244, 'sceneri': 1245, 'smart': 1246, 'justic': 1247, 'bond': 1248, 'thu': 1249, 'interview': 1250, 'flashback': 1251, 'outstand': 1252, 'satisfi': 1253, 'presenc': 1254, 'constantli': 1255, 'central': 1256, 'bed': 1257, 'content': 1258, 'iron': 1259, 'sell': 1260, 'everybodi': 1261, 'gag': 1262, 'slowli': 1263, 'hotel': 1264, 'hire': 1265, 'system': 1266, 'thrown': 1267, 'individu': 1268, 'hey': 1269, 'charl': 1270, 'adam': 1271, 'allen': 1272, 'jone': 1273, 'mediocr': 1274, 'ray': 1275, 'lesson': 1276, 'billi': 1277, 'photographi': 1278, 'cameo': 1279, 'pari': 1280, 'fellow': 1281, 'strike': 1282, 'absurd': 1283, 'independ': 1284, 'rise': 1285, 'brief': 1286, 'neg': 1287, 'phone': 1288, 'impact': 1289, 'born': 1290, 'ill': 1291, 'model': 1292, 'fresh': 1293, 'angl': 1294, 'spoil': 1295, 'abus': 1296, 'likabl': 1297, 'discuss': 1298, 'hill': 1299, 'ahead': 1300, 'sight': 1301, 'photograph': 1302, 'sent': 1303, 'blame': 1304, 'shine': 1305, 'occur': 1306, 'logic': 1307, 'bruce': 1308, 'mainli': 1309, 'skip': 1310, 'commerci': 1311, 'forev': 1312, 'teacher': 1313, 'surround': 1314, 'segment': 1315, 'held': 1316, 'zero': 1317, 'blond': 1318, 'trap': 1319, 'satir': 1320, 'resembl': 1321, 'summer': 1322, 'ball': 1323, 'six': 1324, 'fool': 1325, 'queen': 1326, 'twice': 1327, 'sub': 1328, 'tragedi': 1329, 'pack': 1330, 'reaction': 1331, 'bomb': 1332, 'will': 1333, 'protagonist': 1334, 'hospit': 1335, 'mile': 1336, 'sport': 1337, 'vote': 1338, 'jerri': 1339, 'mom': 1340, 'drink': 1341, 'trust': 1342, 'encount': 1343, 'plane': 1344, 'station': 1345, 'al': 1346, 'current': 1347, 'program': 1348, 'choos': 1349, 'martin': 1350, 'celebr': 1351, 'join': 1352, 'favourit': 1353, 'round': 1354, 'lord': 1355, 'tragic': 1356, 'field': 1357, 'vision': 1358, 'jean': 1359, 'robot': 1360, 'tie': 1361, 'arthur': 1362, 'roger': 1363, 'fortun': 1364, 'random': 1365, 'dread': 1366, 'intern': 1367, 'psycholog': 1368, 'prefer': 1369, 'nonsens': 1370, 'improv': 1371, 'epic': 1372, 'highlight': 1373, 'legend': 1374, 'pleasur': 1375, 'formula': 1376, '11': 1377, 'tape': 1378, 'dollar': 1379, 'gorgeou': 1380, 'object': 1381, 'thin': 1382, 'porn': 1383, 'wide': 1384, 'fox': 1385, 'influenc': 1386, 'buddi': 1387, 'ugli': 1388, 'ii': 1389, 'nasti': 1390, 'prepar': 1391, 'warm': 1392, 'reflect': 1393, 'supposedli': 1394, 'progress': 1395, 'youth': 1396, 'worthi': 1397, 'latter': 1398, 'length': 1399, 'unusu': 1400, 'crash': 1401, 'shop': 1402, 'seven': 1403, 'childhood': 1404, 'superior': 1405, 'remot': 1406, 'theatr': 1407, 'paid': 1408, 'pilot': 1409, 'funniest': 1410, 'disgust': 1411, 'castl': 1412, 'convers': 1413, 'fell': 1414, 'trick': 1415, 'gangster': 1416, 'establish': 1417, 'disast': 1418, 'rob': 1419, 'suicid': 1420, 'heaven': 1421, 'disappear': 1422, 'ident': 1423, 'mine': 1424, 'tend': 1425, 'decis': 1426, 'forgotten': 1427, 'singer': 1428, 'mask': 1429, 'heroin': 1430, 'partner': 1431, 'brian': 1432, 'desert': 1433, 'alan': 1434, 'recogn': 1435, 'thoroughli': 1436, 'stuck': 1437, 'sky': 1438, 'p': 1439, 'ms': 1440, 'accur': 1441, 'replac': 1442, 'market': 1443, 'commentari': 1444, 'eddi': 1445, 'danni': 1446, 'uncl': 1447, 'seemingli': 1448, 'clue': 1449, 'andi': 1450, 'jackson': 1451, 'devil': 1452, 'refus': 1453, 'that': 1454, 'pair': 1455, 'therefor': 1456, 'accid': 1457, 'fate': 1458, 'river': 1459, 'ed': 1460, 'fault': 1461, 'unit': 1462, 'afraid': 1463, 'tune': 1464, 'hidden': 1465, 'stephen': 1466, 'clean': 1467, 'russian': 1468, 'test': 1469, 'convey': 1470, 'irrit': 1471, 'captain': 1472, 'instanc': 1473, 'readi': 1474, 'quick': 1475, 'european': 1476, 'insan': 1477, 'frustrat': 1478, 'daniel': 1479, 'food': 1480, 'chines': 1481, 'rescu': 1482, 'wed': 1483, '1950': 1484, 'angri': 1485, 'dirti': 1486, 'lock': 1487, 'joy': 1488, 'steven': 1489, 'price': 1490, 'cage': 1491, 'bland': 1492, 'anymor': 1493, 'rang': 1494, 'wooden': 1495, 'rush': 1496, 'jason': 1497, 'n': 1498, 'news': 1499, '12': 1500, 'twenti': 1501, 'board': 1502, 'worri': 1503, 'martial': 1504, 'led': 1505, 'cgi': 1506, 'symbol': 1507, 'transform': 1508, 'hunter': 1509, 'invent': 1510, 'piti': 1511, 'x': 1512, 'sentiment': 1513, 'johnni': 1514, 'onto': 1515, 'explan': 1516, 'process': 1517, 'attitud': 1518, 'owner': 1519, 'awar': 1520, 'aim': 1521, 'target': 1522, 'floor': 1523, 'energi': 1524, 'favor': 1525, 'necessari': 1526, 'religi': 1527, 'opposit': 1528, 'window': 1529, 'blind': 1530, 'chick': 1531, 'insight': 1532, 'movement': 1533, 'mountain': 1534, 'comparison': 1535, 'research': 1536, 'possess': 1537, 'deepli': 1538, 'grand': 1539, 'comed': 1540, 'whatsoev': 1541, 'rain': 1542, 'mid': 1543, 'bank': 1544, 'began': 1545, 'shadow': 1546, 'princ': 1547, 'parodi': 1548, 'friendship': 1549, 'credibl': 1550, 'weapon': 1551, 'taylor': 1552, 'pre': 1553, 'dougla': 1554, 'flesh': 1555, 'teach': 1556, 'bloodi': 1557, 'terror': 1558, 'hint': 1559, 'protect': 1560, 'marvel': 1561, 'leader': 1562, 'drunk': 1563, 'load': 1564, 'anybodi': 1565, 'accord': 1566, 'watchabl': 1567, 'superman': 1568, 'freddi': 1569, 'brown': 1570, 'seat': 1571, 'tim': 1572, 'appropri': 1573, 'hitler': 1574, 'jeff': 1575, 'unknown': 1576, 'charg': 1577, 'knock': 1578, 'keaton': 1579, 'villag': 1580, 'unnecessari': 1581, 'enemi': 1582, 'empti': 1583, 'media': 1584, 'england': 1585, 'buck': 1586, 'dare': 1587, 'perspect': 1588, 'utter': 1589, 'strength': 1590, 'wave': 1591, 'craft': 1592, 'contrast': 1593, 'correct': 1594, 'ford': 1595, 'nativ': 1596, 'kiss': 1597, 'distract': 1598, 'magnific': 1599, 'chill': 1600, 'speed': 1601, 'knowledg': 1602, 'soap': 1603, 'anywher': 1604, 'nazi': 1605, 'ice': 1606, '1980': 1607, 'fred': 1608, 'breath': 1609, 'mission': 1610, 'joan': 1611, 'moon': 1612, 'jr': 1613, 'crowd': 1614, 'kate': 1615, 'soft': 1616, '000': 1617, 'frighten': 1618, 'hundr': 1619, 'nick': 1620, 'dick': 1621, 'dan': 1622, 'somebodi': 1623, 'radio': 1624, 'simon': 1625, 'dozen': 1626, 'loss': 1627, 'academi': 1628, 'thousand': 1629, 'shakespear': 1630, 'andrew': 1631, 'sum': 1632, 'account': 1633, 'vehicl': 1634, 'quot': 1635, 'root': 1636, 'leg': 1637, 'behavior': 1638, '1970': 1639, 'convent': 1640, 'gold': 1641, 'regular': 1642, 'compet': 1643, 'demand': 1644, 'pretenti': 1645, 'worker': 1646, 'japan': 1647, 'notabl': 1648, 'candi': 1649, 'stretch': 1650, 'privat': 1651, 'explos': 1652, 'interpret': 1653, 'lynch': 1654, 'constant': 1655, 'debut': 1656, 'tarzan': 1657, 'revolv': 1658, 'sea': 1659, 'translat': 1660, 'prais': 1661, 'spi': 1662, 'threaten': 1663, 'quiet': 1664, 'franc': 1665, 'jesu': 1666, 'failur': 1667, 'ass': 1668, 'sat': 1669, 'technolog': 1670, 'punch': 1671, 'toy': 1672, 'aid': 1673, 'higher': 1674, 'met': 1675, 'kevin': 1676, 'mike': 1677, 'vh': 1678, 'abandon': 1679, 'interact': 1680, 'bet': 1681, 'confront': 1682, 'separ': 1683, 'command': 1684, 'site': 1685, 'servic': 1686, 'gotten': 1687, 'techniqu': 1688, 'belong': 1689, 'recal': 1690, 'stunt': 1691, 'freak': 1692, 'foot': 1693, 'cabl': 1694, 'bug': 1695, 'fu': 1696, 'jimmi': 1697, 'african': 1698, 'bright': 1699, 'capabl': 1700, 'presid': 1701, 'boat': 1702, 'succeed': 1703, 'clark': 1704, 'stock': 1705, 'fat': 1706, 'spanish': 1707, 'structur': 1708, 'gene': 1709, 'kidnap': 1710, 'paper': 1711, 'whilst': 1712, 'factor': 1713, 'belief': 1714, 'attend': 1715, 'tree': 1716, 'realis': 1717, 'bob': 1718, 'complic': 1719, 'witti': 1720, 'educ': 1721, 'realism': 1722, 'broken': 1723, 'assist': 1724, 'santa': 1725, 'finest': 1726, 'depart': 1727, 'determin': 1728, 'v': 1729, 'observ': 1730, 'smoke': 1731, 'up': 1732, 'rubbish': 1733, 'oper': 1734, 'hat': 1735, 'fame': 1736, 'domin': 1737, 'lewi': 1738, 'routin': 1739, 'hook': 1740, 'kinda': 1741, 'safe': 1742, 'foreign': 1743, 'lone': 1744, 'advanc': 1745, 'morgan': 1746, 'numer': 1747, 'rank': 1748, 'vs': 1749, 'shape': 1750, 'rose': 1751, 'shallow': 1752, 'werewolf': 1753, 'civil': 1754, 'washington': 1755, 'gari': 1756, 'morn': 1757, 'kong': 1758, 'ordinari': 1759, 'accomplish': 1760, 'winner': 1761, 'virtual': 1762, 'whenev': 1763, 'peac': 1764, 'grab': 1765, 'offens': 1766, 'luck': 1767, 'h': 1768, 'bigger': 1769, 'welcom': 1770, 'activ': 1771, 'contriv': 1772, 'patient': 1773, 'complain': 1774, 'unfunni': 1775, 'dimension': 1776, 'pretend': 1777, 'con': 1778, 'trek': 1779, 'wake': 1780, 'cain': 1781, 'eric': 1782, 'flash': 1783, 'dri': 1784, 'code': 1785, 'lesbian': 1786, 'statu': 1787, 'manipul': 1788, 'albert': 1789, 'guard': 1790, 'dancer': 1791, 'corrupt': 1792, 'gain': 1793, 'signific': 1794, 'speech': 1795, 'sourc': 1796, 'awkward': 1797, 'context': 1798, 'corni': 1799, 'clip': 1800, 'anthoni': 1801, '13': 1802, 'psycho': 1803, 'sean': 1804, 'theatric': 1805, 'curiou': 1806, 'reli': 1807, 'w': 1808, 'advic': 1809, 'priest': 1810, 'religion': 1811, 'addict': 1812, 'flow': 1813, 'skin': 1814, 'secur': 1815, 'specif': 1816, 'howard': 1817, 'jennif': 1818, 'asian': 1819, 'promot': 1820, 'golden': 1821, 'core': 1822, 'organ': 1823, 'comfort': 1824, 'luke': 1825, 'lucki': 1826, 'cash': 1827, 'cheat': 1828, 'lower': 1829, 'dislik': 1830, 'associ': 1831, 'degre': 1832, 'contribut': 1833, 'wing': 1834, 'balanc': 1835, 'frankli': 1836, 'spell': 1837, 'frequent': 1838, 'regret': 1839, 'devic': 1840, 'print': 1841, 'forgiv': 1842, 'lake': 1843, 'sake': 1844, 'mass': 1845, 'thoma': 1846, 'betti': 1847, 'crack': 1848, 'unexpect': 1849, 'gordon': 1850, 'categori': 1851, 'grown': 1852, 'depend': 1853, 'construct': 1854, 'invit': 1855, 'unfold': 1856, 'amateur': 1857, 'matur': 1858, 'walter': 1859, 'condit': 1860, 'intellectu': 1861, 'honor': 1862, 'grew': 1863, 'anna': 1864, 'veteran': 1865, 'mirror': 1866, 'spectacular': 1867, 'sole': 1868, 'sudden': 1869, 'robin': 1870, 'experienc': 1871, 'overli': 1872, 'meanwhil': 1873, 'card': 1874, 'demonstr': 1875, 'liner': 1876, 'grip': 1877, 'freedom': 1878, 'gift': 1879, 'colour': 1880, 'circumst': 1881, 'sheriff': 1882, 'brilliantli': 1883, 'oliv': 1884, 'crappi': 1885, 'unabl': 1886, 'subtitl': 1887, 'drew': 1888, 'theori': 1889, 'section': 1890, 'sheer': 1891, 'path': 1892, 'laughter': 1893, 'parker': 1894, 'pile': 1895, 'matt': 1896, 'altern': 1897, 'cook': 1898, 'accident': 1899, 'wander': 1900, 'lawyer': 1901, 'relief': 1902, 'hall': 1903, 'defin': 1904, 'treatment': 1905, 'sinatra': 1906, 'dragon': 1907, 'captiv': 1908, 'hank': 1909, 'gratuit': 1910, 'halloween': 1911, 'moor': 1912, 'kung': 1913, 'wound': 1914, 'wayn': 1915, 'k': 1916, 'unintent': 1917, 'barbara': 1918, 'cowboy': 1919, 'jacki': 1920, 'broadway': 1921, 'statement': 1922, 'winter': 1923, 'surreal': 1924, 'canadian': 1925, 'spoof': 1926, 'gonna': 1927, 'cheer': 1928, 'fare': 1929, 'compos': 1930, 'fish': 1931, 'treasur': 1932, 'sensit': 1933, 'victor': 1934, 'emerg': 1935, 'unrealist': 1936, 'woodi': 1937, 'neighbor': 1938, 'driven': 1939, 'ran': 1940, 'sympathet': 1941, 'glass': 1942, 'menac': 1943, 'overlook': 1944, 'authent': 1945, 'expos': 1946, 'topic': 1947, 'ancient': 1948, 'gross': 1949, 'michel': 1950, 'handsom': 1951, 'chief': 1952, 'pleasant': 1953, 'contemporari': 1954, 'russel': 1955, 'feet': 1956, 'nevertheless': 1957, 'stranger': 1958, 'built': 1959, 'comedian': 1960, 'network': 1961, 'cinderella': 1962, 'consider': 1963, 'blockbust': 1964, 'endless': 1965, 'underr': 1966, 'earn': 1967, 'miser': 1968, 'gori': 1969, 'letter': 1970, 'switch': 1971, 'brook': 1972, 'solv': 1973, 'bullet': 1974, 'convict': 1975, 'edward': 1976, 'virgin': 1977, 'victoria': 1978, 'joseph': 1979, 'scenario': 1980, 'cynic': 1981, 'scale': 1982, 'alex': 1983, 'chosen': 1984, '0': 1985, 'curs': 1986, 'gut': 1987, 'outrag': 1988, 'com': 1989, 'sword': 1990, 'uk': 1991, 'substanc': 1992, 'wrap': 1993, 'screenwrit': 1994, 'juli': 1995, 'monkey': 1996, 'driver': 1997, 'proper': 1998, 'court': 1999, 'remov': 2000, 'par': 2001, 'indic': 2002, 'bird': 2003, 'advertis': 2004, 'rental': 2005, 'consequ': 2006, 'loser': 2007, 'inevit': 2008, 'roy': 2009, 'grave': 2010, 'naiv': 2011, 'nanci': 2012, 'bridg': 2013, 'slap': 2014, 'le': 2015, 'brave': 2016, 'germani': 2017, 'fatal': 2018, 'invis': 2019, 'ador': 2020, 'provok': 2021, 'anger': 2022, 'footbal': 2023, 'loui': 2024, 'anderson': 2025, 'alcohol': 2026, 'chan': 2027, 'willi': 2028, 'stumbl': 2029, 'ryan': 2030, 'professor': 2031, 'australian': 2032, 'bat': 2033, 'patrick': 2034, 'sharp': 2035, 'assassin': 2036, '1930': 2037, 'cell': 2038, 'deni': 2039, 'liber': 2040, 'refresh': 2041, 'amateurish': 2042, 'heck': 2043, 'ape': 2044, 'eight': 2045, 'lousi': 2046, 'strongli': 2047, 'saturday': 2048, 'trilog': 2049, 'sin': 2050, 'resid': 2051, 'vagu': 2052, 'justifi': 2053, 'san': 2054, 'reput': 2055, 'indi': 2056, 'defeat': 2057, 'terrifi': 2058, 'creator': 2059, 'sympathi': 2060, 'mini': 2061, 'endur': 2062, 'tediou': 2063, 'prevent': 2064, 'tabl': 2065, 'task': 2066, 'expert': 2067, 'imit': 2068, 'rival': 2069, 'employ': 2070, 'basebal': 2071, 'offend': 2072, 'trial': 2073, 'che': 2074, 'weekend': 2075, 'europ': 2076, 'pitch': 2077, 'beach': 2078, 'complaint': 2079, 'dig': 2080, 'fairi': 2081, 'max': 2082, 'format': 2083, 'purchas': 2084, 'murphi': 2085, 'risk': 2086, 'reminisc': 2087, 'bite': 2088, 'nois': 2089, 'tini': 2090, 'glimps': 2091, 'harsh': 2092, 'titan': 2093, 'powel': 2094, 'hype': 2095, 'fals': 2096, 'strip': 2097, 'asleep': 2098, 'north': 2099, '14': 2100, 'prime': 2101, 'till': 2102, 'destruct': 2103, 'descript': 2104, 'africa': 2105, 'texa': 2106, 'revel': 2107, 'sitcom': 2108, 'inner': 2109, 'spin': 2110, 'uninterest': 2111, 'surfac': 2112, 'excess': 2113, 'semi': 2114, 'arrest': 2115, 'controversi': 2116, 'twin': 2117, 'dinosaur': 2118, 'argu': 2119, 'massiv': 2120, 'hitchcock': 2121, 'maintain': 2122, 'makeup': 2123, 'kim': 2124, 'expens': 2125, 'ideal': 2126, 'ludicr': 2127, 'stare': 2128, 'insist': 2129, 'reject': 2130, 'melodrama': 2131, 'ga': 2132, 'ala': 2133, 'supernatur': 2134, 'nail': 2135, 'atroci': 2136, 'press': 2137, 'erot': 2138, 'columbo': 2139, 'subplot': 2140, 'forest': 2141, 'host': 2142, 'identifi': 2143, 'dude': 2144, 'notch': 2145, 'presum': 2146, 'cant': 2147, 'plagu': 2148, 'character': 2149, 'closer': 2150, 'crude': 2151, 'forgett': 2152, 'method': 2153, 'guest': 2154, 'ear': 2155, 'landscap': 2156, 'border': 2157, 'beast': 2158, 'princess': 2159, 'foster': 2160, 'lion': 2161, 'bound': 2162, 'previous': 2163, 'urban': 2164, 'pacino': 2165, 'aunt': 2166, 'storytel': 2167, 'accus': 2168, 'jungl': 2169, 'damag': 2170, 'birth': 2171, 'doll': 2172, 'chose': 2173, 'nude': 2174, 'thirti': 2175, 'propaganda': 2176, 'guid': 2177, 'emma': 2178, 'jess': 2179, 'mate': 2180, 'mainstream': 2181, '25': 2182, 'warrior': 2183, 'pet': 2184, 'whoever': 2185, 'upset': 2186, 'merit': 2187, 'latest': 2188, 'size': 2189, 'exact': 2190, 'poster': 2191, 'deadli': 2192, 'friday': 2193, 'cooper': 2194, 'gritti': 2195, 'popul': 2196, 'corps': 2197, 'rough': 2198, 'settl': 2199, '1990': 2200, 'wilson': 2201, 'buff': 2202, 'contest': 2203, 'warner': 2204, 'citizen': 2205, 'sun': 2206, 'contact': 2207, 'blend': 2208, 'ton': 2209, 'metal': 2210, 'overcom': 2211, 'widow': 2212, 'bu': 2213, 'environ': 2214, 'select': 2215, 'mgm': 2216, 'rat': 2217, 'pitt': 2218, 'alic': 2219, 'lift': 2220, 'ted': 2221, 'link': 2222, 'revolut': 2223, 'guilti': 2224, 'particip': 2225, 'prostitut': 2226, 'exagger': 2227, 'matrix': 2228, 'corner': 2229, 'johnson': 2230, 'accompani': 2231, 'corpor': 2232, '1960': 2233, 'moron': 2234, 'afternoon': 2235, 'friendli': 2236, 'instal': 2237, 'hood': 2238, 'holm': 2239, 'leagu': 2240, 'multipl': 2241, 'sincer': 2242, 'doom': 2243, 'clair': 2244, 'irish': 2245, 'advis': 2246, 'blah': 2247, 'grim': 2248, 'defend': 2249, 'aka': 2250, 'campi': 2251, 'string': 2252, 'hip': 2253, 'examin': 2254, 'junk': 2255, 'sunday': 2256, 'lugosi': 2257, 'rachel': 2258, 'tight': 2259, 'shake': 2260, 'pro': 2261, 'icon': 2262, 'varieti': 2263, 'shut': 2264, 'confid': 2265, 'medic': 2266, 'attach': 2267, 'denni': 2268, 'mexican': 2269, 'sullivan': 2270, 'directli': 2271, 'jaw': 2272, 'goal': 2273, 'prior': 2274, 'legendari': 2275, 'duke': 2276, 'terrorist': 2277, 'breast': 2278, 'dean': 2279, 'bourn': 2280, 'courag': 2281, 'vietnam': 2282, 'sarah': 2283, 'sentenc': 2284, 'truck': 2285, 'hong': 2286, 'donald': 2287, 'behav': 2288, 'proceed': 2289, 'un': 2290, 'entri': 2291, 'nose': 2292, 'yell': 2293, 'split': 2294, 'buri': 2295, 'confess': 2296, 'borrow': 2297, 'stolen': 2298, 'concentr': 2299, 'lifetim': 2300, 'swim': 2301, 'gather': 2302, 'crush': 2303, 'jerk': 2304, 'forth': 2305, 'unconvinc': 2306, 'everywher': 2307, 'turkey': 2308, 'spite': 2309, 'julia': 2310, 'deliveri': 2311, 'california': 2312, 'pan': 2313, 'lip': 2314, 'hoffman': 2315, 'proud': 2316, 'china': 2317, 'downright': 2318, 'offici': 2319, 'flight': 2320, 'freeman': 2321, 'quest': 2322, 'reward': 2323, 'sir': 2324, 'encourag': 2325, 'sink': 2326, 'inept': 2327, 'worthwhil': 2328, 'fade': 2329, 'notori': 2330, 'fabul': 2331, 'jail': 2332, 'jon': 2333, 'lazi': 2334, 'betray': 2335, 'teeth': 2336, 'susan': 2337, 'imageri': 2338, 'bag': 2339, 'relev': 2340, 'storm': 2341, 'shower': 2342, 'survivor': 2343, 'cousin': 2344, 'retard': 2345, 'lisa': 2346, 'bell': 2347, 'branagh': 2348, 'finger': 2349, 'shark': 2350, 'alright': 2351, 'summari': 2352, 'tremend': 2353, 'quirki': 2354, 'bride': 2355, 'hugh': 2356, 'trade': 2357, 'mexico': 2358, 'stab': 2359, 'toler': 2360, 'facial': 2361, 'blown': 2362, 'pose': 2363, 'von': 2364, 'bitter': 2365, 'hyster': 2366, 'ha': 2367, 'afterward': 2368, 'address': 2369, 'christ': 2370, 'cruel': 2371, 'ned': 2372, 'larri': 2373, 'scheme': 2374, 'bone': 2375, 'ron': 2376, 'beg': 2377, 'feed': 2378, 'snake': 2379, 'thumb': 2380, 'pursu': 2381, 'tour': 2382, 'distinct': 2383, 'screw': 2384, 'traci': 2385, 'swear': 2386, 'raw': 2387, 'obscur': 2388, 'photo': 2389, 'occas': 2390, 'mechan': 2391, 'stomach': 2392, 'chair': 2393, 'cabin': 2394, 'resist': 2395, 'argument': 2396, 'chain': 2397, 'heavili': 2398, 'gruesom': 2399, 'holiday': 2400, 'render': 2401, 'southern': 2402, 'hardi': 2403, 'necessarili': 2404, 'sidney': 2405, 'india': 2406, 'understood': 2407, 'indulg': 2408, 'satan': 2409, 'philip': 2410, 'racist': 2411, 'forgot': 2412, 'outfit': 2413, 'fourth': 2414, 'midnight': 2415, 'tongu': 2416, 'pregnant': 2417, 'stalk': 2418, 'lay': 2419, 'integr': 2420, 'obnoxi': 2421, 'belov': 2422, 'restor': 2423, 'inhabit': 2424, 'garden': 2425, '17': 2426, 'carol': 2427, 'deeper': 2428, 'slapstick': 2429, 'ticket': 2430, 'magazin': 2431, 'devot': 2432, 'shoe': 2433, 'incid': 2434, 'brad': 2435, 'lincoln': 2436, 'elizabeth': 2437, 'anticip': 2438, 'lili': 2439, 'underground': 2440, 'disbelief': 2441, 'benefit': 2442, 'maria': 2443, 'divorc': 2444, 'guarante': 2445, 'sandler': 2446, 'cring': 2447, 'greater': 2448, 'slave': 2449, 'princip': 2450, 'mildli': 2451, 'capit': 2452, 'explod': 2453, 'bbc': 2454, 'amazingli': 2455, 'creation': 2456, 'introduct': 2457, 'funnier': 2458, 'lesli': 2459, 'extraordinari': 2460, 'halfway': 2461, 'advantag': 2462, 'wreck': 2463, 'punish': 2464, 'overwhelm': 2465, 'enhanc': 2466, 'transfer': 2467, 'extent': 2468, 'text': 2469, 'tap': 2470, 'lo': 2471, 'preview': 2472, 'east': 2473, 'plant': 2474, 'horrif': 2475, 'jessica': 2476, 'deliber': 2477, 'lane': 2478, 'dynam': 2479, 'error': 2480, 'sophist': 2481, '2000': 2482, 'basi': 2483, 'ensu': 2484, 'miscast': 2485, 'homosexu': 2486, 'vincent': 2487, 'miller': 2488, 'appli': 2489, 'vacat': 2490, 'reed': 2491, 'uncomfort': 2492, 'via': 2493, 'extend': 2494, 'steel': 2495, 'mansion': 2496, 'elev': 2497, 'measur': 2498, 'bollywood': 2499, 'sleazi': 2500, 'spoken': 2501, 'melt': 2502, 'goofi': 2503, 'alter': 2504, 'fix': 2505, 'breathtak': 2506, 'mous': 2507, 'hippi': 2508, 'overact': 2509, 'daili': 2510, 'assign': 2511, 'conceiv': 2512, 'cathol': 2513, 'beer': 2514, 'blair': 2515, 'savag': 2516, 'stanley': 2517, 'dentist': 2518, 'oppos': 2519, 'sacrific': 2520, 'carpent': 2521, 'everyday': 2522, 'nowaday': 2523, 'properli': 2524, 'inspector': 2525, 'succe': 2526, 'burt': 2527, 'subsequ': 2528, 'circl': 2529, 'massacr': 2530, 'laura': 2531, 'neck': 2532, 'block': 2533, 'access': 2534, 'fay': 2535, 'pool': 2536, 'fallen': 2537, 'concert': 2538, 'grey': 2539, 'mob': 2540, 'portrait': 2541, 'lesser': 2542, 'seagal': 2543, 'christi': 2544, 'isol': 2545, 'competit': 2546, 'relax': 2547, 'usa': 2548, 'chees': 2549, 'jewish': 2550, 'react': 2551, 'sinist': 2552, 'jake': 2553, 'nonetheless': 2554, '2006': 2555, 'ironi': 2556, 'lyric': 2557, 'creep': 2558, 'immens': 2559, 'chop': 2560, 'suitabl': 2561, 'spiritu': 2562, 'nine': 2563, 'stink': 2564, 'appal': 2565, 'adopt': 2566, 'franchis': 2567, 'user': 2568, 'navi': 2569, 'luci': 2570, 'rage': 2571, 'needless': 2572, 'sold': 2573, 'nut': 2574, 'spring': 2575, 'showcas': 2576, 'retir': 2577, 'shirt': 2578, 'reduc': 2579, 'stanwyck': 2580, 'bulli': 2581, 'zone': 2582, 'bath': 2583, 'uninspir': 2584, 'per': 2585, 'jay': 2586, 'asham': 2587, 'digit': 2588, 'nurs': 2589, '2001': 2590, 'upper': 2591, 'sutherland': 2592, 'illustr': 2593, '1940': 2594, 'laid': 2595, 'oddli': 2596, 'amongst': 2597, 'broadcast': 2598, 'aspir': 2599, 'fulfil': 2600, 'throat': 2601, 'baker': 2602, 'brando': 2603, 'disguis': 2604, 'stylish': 2605, 'nobl': 2606, 'endear': 2607, 'wwii': 2608, 'wanna': 2609, 'impli': 2610, 'neighborhood': 2611, 'pound': 2612, 'em': 2613, 'pride': 2614, 'thief': 2615, '18': 2616, 'rochest': 2617, 'distribut': 2618, 'cinematograph': 2619, 'dinner': 2620, 'shift': 2621, '16': 2622, 'tens': 2623, 'coher': 2624, 'diseas': 2625, 'prop': 2626, 'albeit': 2627, 'bo': 2628, 'bett': 2629, 'shoulder': 2630, 'dawn': 2631, 'shout': 2632, 'function': 2633, 'forti': 2634, 'snow': 2635, 'wash': 2636, 'knife': 2637, 'rebel': 2638, 'silenc': 2639, 'poignant': 2640, 'contract': 2641, 'matthau': 2642, 'surf': 2643, 'internet': 2644, 'mindless': 2645, 'cancel': 2646, 'widmark': 2647, 'silver': 2648, 'horrend': 2649, 'proof': 2650, 'heat': 2651, 'elvira': 2652, 'eeri': 2653, 'cannib': 2654, 'chuck': 2655, 'instinct': 2656, 'henc': 2657, 'duti': 2658, 'height': 2659, 'reunion': 2660, 'derek': 2661, 'etern': 2662, 'neat': 2663, 'greatli': 2664, 'pie': 2665, 'mill': 2666, 'alik': 2667, 'absorb': 2668, 'innov': 2669, 'musician': 2670, 'torn': 2671, 'premier': 2672, 'glori': 2673, 'spielberg': 2674, 'incoher': 2675, 'elvi': 2676, 'repetit': 2677, 'blank': 2678, 'itali': 2679, 'trite': 2680, 'announc': 2681, 'precis': 2682, 'wealthi': 2683, 'burton': 2684, 'homag': 2685, 'infam': 2686, 'redempt': 2687, 'britain': 2688, 'racism': 2689, 'diamond': 2690, 'lovabl': 2691, 'horrifi': 2692, 'crisi': 2693, 'bang': 2694, 'nelson': 2695, 'fbi': 2696, 'ensembl': 2697, 'hammer': 2698, 'streisand': 2699, 'happili': 2700, 'flop': 2701, 'pat': 2702, 'helen': 2703, 'wilder': 2704, 'resolut': 2705, 'parallel': 2706, 'chaplin': 2707, 'dedic': 2708, 'oil': 2709, 'carter': 2710, 'plastic': 2711, 'triumph': 2712, 'broke': 2713, 'factori': 2714, 'mar': 2715, 'st': 2716, 'conclud': 2717, 'disagre': 2718, 'cube': 2719, 'rocket': 2720, 'own': 2721, 'bush': 2722, 'climb': 2723, 'weight': 2724, 'vega': 2725, 'fighter': 2726, 'march': 2727, 'row': 2728, 'chuckl': 2729, 'wherea': 2730, 'kurt': 2731, 'thug': 2732, 'mst3k': 2733, 'sensibl': 2734, 'boot': 2735, 'lust': 2736, 'spare': 2737, 'meaning': 2738, 'dump': 2739, 'enorm': 2740, 'unforgett': 2741, 'luca': 2742, 'dane': 2743, 'arnold': 2744, 'threat': 2745, 'stress': 2746, 'engin': 2747, 'rap': 2748, 'difficulti': 2749, 'caricatur': 2750, 'adequ': 2751, 'karloff': 2752, 'brand': 2753, 'butt': 2754, 'bobbi': 2755, 'fifti': 2756, 'dear': 2757, 'swing': 2758, 'ralph': 2759, 'ego': 2760, 'barri': 2761, 'flynn': 2762, 'elabor': 2763, 'homeless': 2764, 'secretari': 2765, 'fest': 2766, 'journalist': 2767, 'arrog': 2768, 'polish': 2769, 'hamlet': 2770, 'fanci': 2771, 'grate': 2772, 'induc': 2773, 'tool': 2774, 'arrang': 2775, 'unbear': 2776, 'puppet': 2777, 'conspiraci': 2778, 'resort': 2779, 'spike': 2780, 'simpson': 2781, 'float': 2782, 'choreograph': 2783, 'basement': 2784, 'guilt': 2785, 'phillip': 2786, 'cruis': 2787, 'pig': 2788, 'tribut': 2789, 'muppet': 2790, 'exercis': 2791, 'boll': 2792, 'slip': 2793, 'document': 2794, '24': 2795, 'babe': 2796, 'korean': 2797, 'stan': 2798, 'fianc': 2799, 'item': 2800, 'layer': 2801, 'file': 2802, 'medium': 2803, 'ward': 2804, 'tower': 2805, 'toilet': 2806, 'editor': 2807, 'ham': 2808, 'puzzl': 2809, 'scarecrow': 2810, 'persona': 2811, 'catherin': 2812, 'minim': 2813, 'transit': 2814, 'spark': 2815, 'glover': 2816, 'territori': 2817, 'slaughter': 2818, 'philosoph': 2819, 'assur': 2820, 'librari': 2821, 'larger': 2822, 'portion': 2823, 'doc': 2824, 'inexplic': 2825, 'superfici': 2826, 'denzel': 2827, 'orient': 2828, 'wolf': 2829, 'ban': 2830, 'boredom': 2831, 'curti': 2832, 'sneak': 2833, 'jet': 2834, 'owe': 2835, 'shi': 2836, 'dorothi': 2837, 'pg': 2838, 'walken': 2839, 'financi': 2840, 'jeremi': 2841, 'multi': 2842, 'metaphor': 2843, 'backdrop': 2844, 'profound': 2845, 'cusack': 2846, 'ambigu': 2847, 'hudson': 2848, 'whale': 2849, 'eleph': 2850, '2005': 2851, 'hack': 2852, 'ultra': 2853, 'elsewher': 2854, 'rave': 2855, 'birthday': 2856, 'stiff': 2857, 'implaus': 2858, 'viru': 2859, 'notion': 2860, 'union': 2861, 'gadget': 2862, 'bibl': 2863, 'afford': 2864, 'eva': 2865, 'reader': 2866, 'superhero': 2867, 'newspap': 2868, 'pad': 2869, 'slight': 2870, '1st': 2871, 'distanc': 2872, 'squar': 2873, 'canada': 2874, 'urg': 2875, 'lloyd': 2876, 'poison': 2877, 'deriv': 2878, 'hawk': 2879, 'eastwood': 2880, 'disc': 2881, 'spread': 2882, 'cure': 2883, 'charisma': 2884, 'health': 2885, 'button': 2886, 'drown': 2887, 'heston': 2888, 'huh': 2889, 'montag': 2890, 'essenc': 2891, 'skit': 2892, 'restaur': 2893, 'sadist': 2894, 'companion': 2895, 'godfath': 2896, 'lab': 2897, 'muslim': 2898, 'fetch': 2899, 'invest': 2900, 'estat': 2901, 'peak': 2902, 'dealt': 2903, 'gradual': 2904, 'scoobi': 2905, 'maniac': 2906, 'countless': 2907, 'alli': 2908, 'servant': 2909, 'subtleti': 2910, 'cup': 2911, 'tea': 2912, 'gothic': 2913, 'ritter': 2914, 'kane': 2915, 'miik': 2916, 'briefli': 2917, 'charismat': 2918, 'heroic': 2919, 'iii': 2920, 'electr': 2921, 'elect': 2922, 'salli': 2923, 'ingredi': 2924, 'tender': 2925, 'bud': 2926, 'admittedli': 2927, 'grandmoth': 2928, 'neil': 2929, 'wannab': 2930, 'nuanc': 2931, 'resourc': 2932, 'toss': 2933, 'reel': 2934, 'cole': 2935, 'gate': 2936, 'mild': 2937, 'poverti': 2938, 'kubrick': 2939, 'punk': 2940, 'shall': 2941, 'stood': 2942, 'pit': 2943, 'label': 2944, 'stronger': 2945, 'mafia': 2946, 'reev': 2947, 'carrey': 2948, 'pauli': 2949, 'dawson': 2950, 'outcom': 2951, 'smooth': 2952, 'astair': 2953, 'tag': 2954, 'useless': 2955, 'assault': 2956, 'updat': 2957, 'terri': 2958, 'fond': 2959, 'cardboard': 2960, 'cox': 2961, 'burst': 2962, 'smash': 2963, 'bakshi': 2964, 'ian': 2965, 'easier': 2966, 'vari': 2967, 'melodramat': 2968, 'rex': 2969, 'qualifi': 2970, '2002': 2971, 'vulner': 2972, 'coincid': 2973, 'sketch': 2974, 'fist': 2975, 'divers': 2976, 'increasingli': 2977, 'resolv': 2978, 'samurai': 2979, 'exchang': 2980, 'blast': 2981, 'conveni': 2982, 'templ': 2983, 'suspend': 2984, 'brillianc': 2985, 'scratch': 2986, 'insert': 2987, 'tame': 2988, 'luckili': 2989, 'be': 2990, 'reynold': 2991, 'meat': 2992, 'walker': 2993, 'strictli': 2994, 'gotta': 2995, 'pin': 2996, 'soprano': 2997, 'seventi': 2998, 'jami': 2999, 'farm': 3000, 'ambiti': 3001, 'nuclear': 3002, 'hamilton': 3003, 'fisher': 3004, 'matthew': 3005, 'coach': 3006, 'worthless': 3007, 'spooki': 3008, 'recreat': 3009, 'revers': 3010, 'kudo': 3011, 'cave': 3012, 'timeless': 3013, 'struck': 3014, 'ninja': 3015, 'butcher': 3016, 'clock': 3017, 'eccentr': 3018, 'convolut': 3019, 'discoveri': 3020, 'grasp': 3021, 'monk': 3022, 'instantli': 3023, 'empir': 3024, 'closet': 3025, 'brosnan': 3026, 'joey': 3027, 'pal': 3028, 'selfish': 3029, 'miracl': 3030, 'seller': 3031, 'norman': 3032, 'fifteen': 3033, 'clown': 3034, 'declar': 3035, 'inconsist': 3036, 'sidekick': 3037, 'evok': 3038, 'bleak': 3039, 'cliff': 3040, 'wipe': 3041, 'gray': 3042, 'eighti': 3043, 'sloppi': 3044, 'communist': 3045, 'partli': 3046, 'importantli': 3047, 'mitchel': 3048, 'websit': 3049, 'lifestyl': 3050, '45': 3051, 'flawless': 3052, 'chew': 3053, 'aforement': 3054, 'superbl': 3055, 'cheek': 3056, 'australia': 3057, 'piano': 3058, 'psychiatrist': 3059, 'destin': 3060, 'farc': 3061, 'ho': 3062, 'debat': 3063, 'enthusiast': 3064, 'seed': 3065, 'stoog': 3066, 'directori': 3067, 'dire': 3068, 'wrestl': 3069, 'kitchen': 3070, 'emili': 3071, 'akshay': 3072, 'incompet': 3073, 'pressur': 3074, 'drivel': 3075, 'splatter': 3076, 'slice': 3077, 'soviet': 3078, 'regardless': 3079, 'dash': 3080, 'anni': 3081, 'bash': 3082, 'wick': 3083, 'abc': 3084, 'cameron': 3085, 'duo': 3086, 'beaten': 3087, 'seduc': 3088, 'judi': 3089, 'flower': 3090, 'prize': 3091, 'increas': 3092, 'pleasantli': 3093, 'boil': 3094, 'helicopt': 3095, 'suppli': 3096, 'artifici': 3097, 'glow': 3098, 'distant': 3099, 'doo': 3100, 'lou': 3101, 'cia': 3102, 'curios': 3103, 'dave': 3104, 'jar': 3105, 'mann': 3106, 'cagney': 3107, 'recov': 3108, 'blob': 3109, 'ken': 3110, 'chapter': 3111, 'ranger': 3112, 'web': 3113, 'glenn': 3114, 'psychot': 3115, 'splendid': 3116, 'favour': 3117, 'craig': 3118, 'eleg': 3119, 'francisco': 3120, 'hop': 3121, 'panic': 3122, 'turner': 3123, 'craven': 3124, 'drunken': 3125, 'ellen': 3126, 'goldberg': 3127, 'laurel': 3128, 'perri': 3129, 'combat': 3130, 'greek': 3131, 'philosophi': 3132, 'ruth': 3133, 'shortli': 3134, 'modesti': 3135, 'plausibl': 3136, '20th': 3137, 'slightest': 3138, 'rid': 3139, 'hatr': 3140, 'flip': 3141, 'alexand': 3142, 'min': 3143, 'falk': 3144, 'gentl': 3145, 'graduat': 3146, 'fx': 3147, 'wizard': 3148, 'gandhi': 3149, 'preciou': 3150, 'manhattan': 3151, 'holi': 3152, 'fund': 3153, 'legal': 3154, 'unpleas': 3155, 'ocean': 3156, 'tall': 3157, 'jealou': 3158, 'lend': 3159, 'dracula': 3160, 'futurist': 3161, 'we': 3162, 'knight': 3163, 'felix': 3164, 'harm': 3165, 'explicit': 3166, 'mock': 3167, 'digniti': 3168, 'ami': 3169, 'reviv': 3170, 'tank': 3171, 'giallo': 3172, 'thread': 3173, 'bless': 3174, 'childish': 3175, 'scientif': 3176, 'nod': 3177, 'overdon': 3178, 'forbidden': 3179, 'eve': 3180, 'fever': 3181, 'elderli': 3182, 'verhoeven': 3183, '99': 3184, 'torment': 3185, 'awe': 3186, 'thick': 3187, 'margaret': 3188, 'awaken': 3189, 'repeatedli': 3190, '2004': 3191, 'pirat': 3192, 'nerv': 3193, 'broad': 3194, 'yesterday': 3195, 'unwatch': 3196, 'mel': 3197, 'acclaim': 3198, 'launch': 3199, 'publish': 3200, 'absenc': 3201, 'eas': 3202, 'royal': 3203, 'roman': 3204, 'timothi': 3205, 'ambit': 3206, 'romero': 3207, 'automat': 3208, 'custom': 3209, 'griffith': 3210, 'ah': 3211, 'bin': 3212, 'lean': 3213, 'kay': 3214, 'stiller': 3215, 'uniform': 3216, 'rivet': 3217, 'politician': 3218, 'antic': 3219, 'darker': 3220, 'phrase': 3221, 'bathroom': 3222, 'stinker': 3223, 'warren': 3224, 'pierc': 3225, 'termin': 3226, 'wallac': 3227, 'pulp': 3228, 'crook': 3229, 'homicid': 3230, 'tomato': 3231, 'transport': 3232, 'sunshin': 3233, 'foul': 3234, 'gabriel': 3235, 'purpl': 3236, 'awak': 3237, 'pray': 3238, 'album': 3239, 'evolv': 3240, 'hollow': 3241, '2003': 3242, 'revolutionari': 3243, 'sixti': 3244, 'saint': 3245, 'viciou': 3246, 'horrid': 3247, 'rambo': 3248, 'packag': 3249, 'contrari': 3250, 'marin': 3251, 'karen': 3252, 'q': 3253, 'donna': 3254, 'juvenil': 3255, 'kenneth': 3256, 'choreographi': 3257, 'brazil': 3258, 'eyr': 3259, 'ought': 3260, 'coloni': 3261, 'prom': 3262, 'li': 3263, 'stole': 3264, 'boast': 3265, 'overr': 3266, 'ramon': 3267, 'nerd': 3268, 'kapoor': 3269, 'option': 3270, 'blade': 3271, 'ireland': 3272, 'dose': 3273, 'candid': 3274, 'twelv': 3275, 'beatti': 3276, 'conserv': 3277, 'defi': 3278, 'mildr': 3279, 'mummi': 3280, 'global': 3281, 'jazz': 3282, 'trio': 3283, 'kirk': 3284, 'flame': 3285, 'detract': 3286, 'fulci': 3287, 'confirm': 3288, 'altman': 3289, 'astonish': 3290, 'natali': 3291, 'protest': 3292, 'funer': 3293, 'collabor': 3294, 'bull': 3295, 'delici': 3296, 'spit': 3297, 'destini': 3298, 'bottl': 3299, 'mystic': 3300, 'nicholson': 3301, 'enterpris': 3302, 'audio': 3303, 'whip': 3304, 'yellow': 3305, 'tommi': 3306, 'leap': 3307, 'blake': 3308, 'shade': 3309, 'racial': 3310, 'enchant': 3311, 'vivid': 3312, 'popcorn': 3313, 'staff': 3314, 'meaningless': 3315, 'merci': 3316, 'harder': 3317, 'reunit': 3318, 'threw': 3319, 'swedish': 3320, 'bedroom': 3321, 'neo': 3322, 'todd': 3323, 'altogeth': 3324, 'fonda': 3325, 'visibl': 3326, 'pseudo': 3327, 'inherit': 3328, 'adolesc': 3329, 'lawrenc': 3330, 'roommat': 3331, 'bust': 3332, 'reserv': 3333, 'voight': 3334, 'ruthless': 3335, 'fanat': 3336, 'tip': 3337, 'befriend': 3338, 'decor': 3339, 'wire': 3340, 'jew': 3341, 'moodi': 3342, 'synopsi': 3343, 'respond': 3344, 'kennedi': 3345, 'uneven': 3346, 'edi': 3347, 'atlanti': 3348, 'leonard': 3349, 'await': 3350, 'lemmon': 3351, 'exhibit': 3352, 'madonna': 3353, 'suspici': 3354, 'crocodil': 3355, 'bargain': 3356, 'unsettl': 3357, 'clumsi': 3358, '2007': 3359, 'abysm': 3360, 'audit': 3361, 'palma': 3362, 'voyag': 3363, 'bold': 3364, 'chao': 3365, 'carl': 3366, 'incident': 3367, 'clint': 3368, 'bradi': 3369, 'ventur': 3370, 'garner': 3371, 'dimens': 3372, 'rural': 3373, 'centr': 3374, 'holli': 3375, 'lit': 3376, 'tiger': 3377, 'versu': 3378, 'cd': 3379, 'characterist': 3380, 'imperson': 3381, 'mall': 3382, 'cari': 3383, 'immigr': 3384, 'elimin': 3385, 'hart': 3386, 'cuba': 3387, 'daddi': 3388, 'humili': 3389, 'trail': 3390, 'poetic': 3391, 'acknowledg': 3392, 'nearbi': 3393, 'neglect': 3394, 'echo': 3395, 'ant': 3396, 'troop': 3397, '2nd': 3398, 'wealth': 3399, 'timon': 3400, 'repuls': 3401, 'domest': 3402, 'homer': 3403, 'paus': 3404, 'solo': 3405, 'jeffrey': 3406, 'saga': 3407, 'collaps': 3408, 'celluloid': 3409, 'prejudic': 3410, 'infect': 3411, 'mistaken': 3412, 'marshal': 3413, 'pun': 3414, 'mickey': 3415, 'milk': 3416, 'olivi': 3417, 'coat': 3418, 'ginger': 3419, 'cake': 3420, 'harvey': 3421, 'hbo': 3422, 'interrupt': 3423, 'inappropri': 3424, 'sore': 3425, 'leon': 3426, 'undoubtedli': 3427, 'coffe': 3428, 'apolog': 3429, 'gear': 3430, 'chest': 3431, 'promin': 3432, 'equip': 3433, 'assembl': 3434, 'inan': 3435, '1996': 3436, 'pant': 3437, 'tribe': 3438, 'trace': 3439, 'florida': 3440, 'solut': 3441, 'highest': 3442, 'pen': 3443, 'aveng': 3444, 'retain': 3445, 'consum': 3446, 'instant': 3447, 'institut': 3448, 'embrac': 3449, 'pot': 3450, 'maggi': 3451, 'colonel': 3452, 'humbl': 3453, 'devast': 3454, 'vulgar': 3455, 'jenni': 3456, 'primari': 3457, 'furthermor': 3458, 'airplan': 3459, 'colleagu': 3460, 'brooklyn': 3461, 'polanski': 3462, 'exot': 3463, 'poke': 3464, 'smaller': 3465, '3rd': 3466, 'ya': 3467, 'cope': 3468, 'bowl': 3469, 'rick': 3470, 'wive': 3471, 'seduct': 3472, 'godzilla': 3473, 'dian': 3474, '1999': 3475, 'gender': 3476, 'outer': 3477, 'descend': 3478, 'principl': 3479, 'illog': 3480, 'linda': 3481, 'disabl': 3482, 'strain': 3483, 'sale': 3484, 'dutch': 3485, 'glamor': 3486, 'vast': 3487, 'beneath': 3488, 'hal': 3489, 'dive': 3490, 'predecessor': 3491, 'mixtur': 3492, 'devoid': 3493, 'dud': 3494, 'scope': 3495, 'blatant': 3496, 'primarili': 3497, 'yard': 3498, 'cue': 3499, 'secondli': 3500, 'inferior': 3501, 'bubbl': 3502, 'lol': 3503, 'gloriou': 3504, 'gundam': 3505, 'rabbit': 3506, 'domino': 3507, 'april': 3508, 'z': 3509, 'aggress': 3510, 'pearl': 3511, 'et': 3512, 'hideou': 3513, 'alfr': 3514, 'talki': 3515, 'myer': 3516, 'shelf': 3517, 'breed': 3518, 'arab': 3519, 'senseless': 3520, 'streep': 3521, 'invas': 3522, 'alert': 3523, 'trademark': 3524, 'museum': 3525, 'simplist': 3526, 'disjoint': 3527, 'shirley': 3528, 'countrysid': 3529, 'garbo': 3530, 'casual': 3531, 'grinch': 3532, 'sh': 3533, 'slide': 3534, 'loyal': 3535, 'robberi': 3536, 'mail': 3537, 'illeg': 3538, 'hopeless': 3539, 'unhappi': 3540, 'acid': 3541, 'stellar': 3542, 'applaud': 3543, 'khan': 3544, 'hardcor': 3545, 'obtain': 3546, 'disgrac': 3547, 'maci': 3548, 'experiment': 3549, 'defens': 3550, 'oz': 3551, 'rendit': 3552, 'vanish': 3553, 'mayor': 3554, 'uwe': 3555, 'stir': 3556, 'boom': 3557, 'stack': 3558, 'robinson': 3559, 'berlin': 3560, 'wont': 3561, 'hartley': 3562, 'dismiss': 3563, 'counter': 3564, 'declin': 3565, 'fri': 3566, 'psychic': 3567, 'scroog': 3568, 'dicken': 3569, 'craze': 3570, 'incomprehens': 3571, 'recruit': 3572, 'tempt': 3573, 'blew': 3574, 'grandfath': 3575, 'emphasi': 3576, 'topless': 3577, 'amanda': 3578, 'spider': 3579, 'tenant': 3580, 'span': 3581, 'rifl': 3582, 'diana': 3583, 'soccer': 3584, 'wet': 3585, 'shaw': 3586, 'trashi': 3587, 'faster': 3588, 'goer': 3589, 'parad': 3590, 'niro': 3591, 'sympath': 3592, 'sibl': 3593, 'revolt': 3594, 'justin': 3595, 'woo': 3596, 'resurrect': 3597, 'bitch': 3598, 'ethnic': 3599, 'intim': 3600, 'porno': 3601, 'ration': 3602, 'riot': 3603, 'shed': 3604, 'lumet': 3605, 'feminist': 3606, 'hesit': 3607, 'immort': 3608, 'farmer': 3609, 'lena': 3610, 'weakest': 3611, 'andr': 3612, 'patriot': 3613, 'eager': 3614, 'wendi': 3615, 'nephew': 3616, 'wheel': 3617, 'mario': 3618, 'region': 3619, 'gap': 3620, 'enlighten': 3621, 'steam': 3622, 'commend': 3623, 'dealer': 3624, '00': 3625, 'honesti': 3626, 'biographi': 3627, 'choru': 3628, 'hopper': 3629, 'jonathan': 3630, 'unreal': 3631, 'slick': 3632, 'partial': 3633, 'ensur': 3634, 'rider': 3635, 'worm': 3636, 'ballet': 3637, 'hung': 3638, 'charlott': 3639, 'safeti': 3640, 'skull': 3641, 'prequel': 3642, 'similarli': 3643, 'mutant': 3644, 'kingdom': 3645, 'victori': 3646, 'macarthur': 3647, 'snap': 3648, 'psychopath': 3649, 'owen': 3650, 'leo': 3651, 'repress': 3652, 'vice': 3653, 'sandra': 3654, 'nostalg': 3655, 'util': 3656, 'wore': 3657, 'sappi': 3658, 'blunt': 3659, 'confin': 3660, 'franco': 3661, 'properti': 3662, 'morri': 3663, 'composit': 3664, 'repli': 3665, 'rope': 3666, 'emperor': 3667, 'heartbreak': 3668, 'recycl': 3669, 'thru': 3670, 'dust': 3671, 'bow': 3672, 'montana': 3673, 'nervou': 3674, 'bergman': 3675, 'cg': 3676, 'drain': 3677, 'tad': 3678, 'tail': 3679, 'deed': 3680, 'dalton': 3681, 'valuabl': 3682, 'strand': 3683, 'del': 3684, 'drum': 3685, 'compens': 3686, 'rambl': 3687, 'farrel': 3688, 'campbel': 3689, 'hyde': 3690, 'acquir': 3691, 'snl': 3692, 'bonu': 3693, 'rocki': 3694, 'kyle': 3695, 'latin': 3696, 'miseri': 3697, '1972': 3698, 'pattern': 3699, 'despair': 3700, 'exit': 3701, 'bumbl': 3702, 'whoopi': 3703, 'compass': 3704, 'speci': 3705, 'gal': 3706, 'contempl': 3707, 'da': 3708, 'tonight': 3709, 'chess': 3710, 'orson': 3711, 'bleed': 3712, 'rotten': 3713, '35': 3714, 'airport': 3715, 'radic': 3716, 'percept': 3717, 'wacki': 3718, 'romp': 3719, 'gimmick': 3720, 'martian': 3721, 'downhil': 3722, 'slug': 3723, 'roth': 3724, 'rapist': 3725, 'pour': 3726, 'mistress': 3727, 'carradin': 3728, 'oppress': 3729, 'olli': 3730, 'dazzl': 3731, 'tooth': 3732, 'taught': 3733, 'tackl': 3734, 'preach': 3735, 'programm': 3736, 'attorney': 3737, 'pervert': 3738, 'stilt': 3739, 'arc': 3740, 'arguabl': 3741, '1983': 3742, 'champion': 3743, 'slash': 3744, 'banal': 3745, 'pursuit': 3746, 'edgar': 3747, 'shelley': 3748, 'mislead': 3749, 'paltrow': 3750, 'heal': 3751, 'belt': 3752, 'pervers': 3753, 'unpredict': 3754, 'melodi': 3755, 'vocal': 3756, 'poem': 3757, 'plight': 3758, 'vengeanc': 3759, 'sensat': 3760, 'marti': 3761, 'duval': 3762, 'maid': 3763, 'chicken': 3764, 'virginia': 3765, 'closest': 3766, 'graham': 3767, 'gambl': 3768, 'passeng': 3769, 'bela': 3770, 'raymond': 3771, 'franki': 3772, 'rubi': 3773, 'mesmer': 3774, 'cleverli': 3775, 'conneri': 3776, 'employe': 3777, 'orang': 3778, 'tiresom': 3779, 'uplift': 3780, 'dixon': 3781, 'tube': 3782, 'amitabh': 3783, 'monologu': 3784, 'whine': 3785, 'gerard': 3786, 'mute': 3787, 'abraham': 3788, 'climact': 3789, 'paranoia': 3790, 'crystal': 3791, '1968': 3792, 'secretli': 3793, 'swallow': 3794, 'clone': 3795, 'giggl': 3796, 'habit': 3797, 'engross': 3798, 'calm': 3799, 'outing': 3800, 'quarter': 3801, 'scottish': 3802, 'inject': 3803, 'volum': 3804, 'convincingli': 3805, 'iran': 3806, 'extens': 3807, 'numb': 3808, 'profan': 3809, 'suffic': 3810, 'bay': 3811, 'lundgren': 3812, 'yawn': 3813, 'sirk': 3814, 'pokemon': 3815, 'richardson': 3816, 'chicago': 3817, 'backward': 3818, 'fed': 3819, 'dispos': 3820, 'nichola': 3821, 'im': 3822, 'junior': 3823, 'surpass': 3824, 'underst': 3825, 'frankenstein': 3826, 'trend': 3827, 'abort': 3828, 'spock': 3829, 'grotesqu': 3830, 'bend': 3831, 'meander': 3832, 'expand': 3833, 'profess': 3834, 'earl': 3835, 'lowest': 3836, 'linger': 3837, 'austen': 3838, 'poetri': 3839, 'taxi': 3840, 'ethan': 3841, 'plod': 3842, 'septemb': 3843, 'franci': 3844, 'household': 3845, 'hum': 3846, 'rubber': 3847, 'myth': 3848, 'nostalgia': 3849, 'eugen': 3850, 'mundan': 3851, 'lure': 3852, 'greedi': 3853, 'simplic': 3854, 'rant': 3855, 'dysfunct': 3856, 'instrument': 3857, 'descent': 3858, 'cannon': 3859, 'waitress': 3860, 'sue': 3861, 'der': 3862, 'econom': 3863, 'stallon': 3864, 'compliment': 3865, 'tourist': 3866, 'catchi': 3867, 'muddl': 3868, 'spoke': 3869, 'literatur': 3870, 'eaten': 3871, 'stale': 3872, 'omen': 3873, 'mortal': 3874, 'equival': 3875, 'crucial': 3876, 'flee': 3877, 'phantom': 3878, 'alongsid': 3879, 'sissi': 3880, 'dement': 3881, 'molli': 3882, 'duck': 3883, 'lang': 3884, 'furi': 3885, 'damon': 3886, 'carel': 3887, 'map': 3888, 'coast': 3889, 'hello': 3890, 'firstli': 3891, 'dictat': 3892, 'deaf': 3893, 'randi': 3894, 'recognis': 3895, 'recognit': 3896, 'occupi': 3897, 'irrelev': 3898, 'cent': 3899, 'june': 3900, 'phoni': 3901, 'mankind': 3902, 'insur': 3903, 'bacal': 3904, 'louis': 3905, '1973': 3906, 'dreari': 3907, 'onlin': 3908, 'daisi': 3909, 'bump': 3910, 'blackmail': 3911, 'lengthi': 3912, 'grayson': 3913, 'damm': 3914, 'twilight': 3915, 'loyalti': 3916, 'wisdom': 3917, 'bike': 3918, 'heel': 3919, 'freez': 3920, 'biko': 3921, 'rooney': 3922, 'labor': 3923, 'likewis': 3924, 'buffalo': 3925, 'rude': 3926, 'distinguish': 3927, 'reign': 3928, 'newli': 3929, 'ashley': 3930, 'cyborg': 3931, 'drake': 3932, 'antwon': 3933, 'boxer': 3934, 'interior': 3935, 'vein': 3936, 'unorigin': 3937, 'pink': 3938, 'prey': 3939, 'startl': 3940, 'analysi': 3941, 'worn': 3942, 'ridden': 3943, 'keith': 3944, 'exposur': 3945, 'baddi': 3946, 'barrymor': 3947, 'incorpor': 3948, 'provoc': 3949, 'chronicl': 3950, 'emphas': 3951, 'attribut': 3952, 'basketbal': 3953, 'approv': 3954, 'sailor': 3955, 'tunnel': 3956, 'proce': 3957, 'inher': 3958, 'butler': 3959, 'nineti': 3960, 'drift': 3961, 'nicol': 3962, 'barrel': 3963, 'substitut': 3964, 'meyer': 3965, 'unrel': 3966, 'mighti': 3967, 'indiffer': 3968, 'millionair': 3969, 'improvis': 3970, 'hypnot': 3971, 'predat': 3972, 'elm': 3973, 'simmon': 3974, 'meg': 3975, 'othello': 3976, 'condemn': 3977, 'belushi': 3978, 'walsh': 3979, 'underli': 3980, 'fleet': 3981, 'bunni': 3982, 'er': 3983, 'robbin': 3984, 'undeni': 3985, 'degrad': 3986, 'carla': 3987, 'stalker': 3988, 'mormon': 3989, 'julian': 3990, 'nyc': 3991, 'mtv': 3992, 'roof': 3993, 'errol': 3994, 'shove': 3995, 'firm': 3996, 'warmth': 3997, 'agenda': 3998, 'enthusiasm': 3999, 'hay': 4000, '3d': 4001, 'priceless': 4002, 'edgi': 4003, 'palac': 4004, 'disord': 4005, 'alarm': 4006, 'vital': 4007, 'lampoon': 4008, 'unawar': 4009, 'novak': 4010, 'greed': 4011, 'watson': 4012, 'exquisit': 4013, 'dolph': 4014, 'reid': 4015, 'marion': 4016, 'rukh': 4017, 'alison': 4018, 'eastern': 4019, 'championship': 4020, 'petti': 4021, 'angela': 4022, '1933': 4023, 'cassidi': 4024, 'peck': 4025, 'session': 4026, 'testament': 4027, 'minimum': 4028, 'thompson': 4029, 'pamela': 4030, 'glanc': 4031, 'spain': 4032, 'drip': 4033, 'randomli': 4034, 'peril': 4035, 'campaign': 4036, 'simultan': 4037, '13th': 4038, 'preserv': 4039, 'crown': 4040, 'iraq': 4041, 'orlean': 4042, 'ponder': 4043, 'unleash': 4044, 'distort': 4045, 'nun': 4046, 'showdown': 4047, 'zizek': 4048, 'israel': 4049, 'gestur': 4050, 'what': 4051, 'profit': 4052, 'sergeant': 4053, 'valentin': 4054, 'beatl': 4055, 'coup': 4056, 'stroke': 4057, 'reson': 4058, 'valley': 4059, 'quinn': 4060, 'din': 4061, 'regist': 4062, 'realm': 4063, 'kurosawa': 4064, 'restrain': 4065, '1984': 4066, 'cream': 4067, 'cooki': 4068, 'empathi': 4069, 'represent': 4070, 'stake': 4071, 'contradict': 4072, 'jan': 4073, 'travesti': 4074, 'scotland': 4075, 'unimagin': 4076, 'fido': 4077, 'bro': 4078, 'miyazaki': 4079, 'brenda': 4080, 'calib': 4081, 'crow': 4082, 'sabrina': 4083, 'shootout': 4084, 'gentleman': 4085, 'exposit': 4086, 'rout': 4087, 'perpetu': 4088, 'climat': 4089, 'crawl': 4090, 'wig': 4091, 'mon': 4092, 'han': 4093, 'buster': 4094, 'businessman': 4095, 'pretens': 4096, 'pole': 4097, 'painter': 4098, 'monoton': 4099, 'passabl': 4100, 'unsatisfi': 4101, 'mclaglen': 4102, 'absent': 4103, 'demis': 4104, '1987': 4105, 'josh': 4106, 'traumat': 4107, 'ustinov': 4108, 'abomin': 4109, 'femm': 4110, '1997': 4111, 'perceiv': 4112, 'distress': 4113, 'baldwin': 4114, 'sammi': 4115, 'ross': 4116, 'compromis': 4117, 'cloud': 4118, 'shaki': 4119, 'spacey': 4120, 'warrant': 4121, 'fuller': 4122, 'dana': 4123, 'derang': 4124, 'sucker': 4125, 'tacki': 4126, 'censor': 4127, 'shoddi': 4128, 'meryl': 4129, 'delic': 4130, 'soderbergh': 4131, 'wax': 4132, 'unseen': 4133, 'crawford': 4134, 'greg': 4135, 'darren': 4136, 'stargat': 4137, 'geek': 4138, 'kumar': 4139, 'verbal': 4140, 'accuraci': 4141, 'exclus': 4142, 'furiou': 4143, 'valid': 4144, 'click': 4145, 'clash': 4146, '1993': 4147, 'deniro': 4148, 'tarantino': 4149, 'norm': 4150, 'tech': 4151, 'fog': 4152, 'correctli': 4153, 'primit': 4154, 'expedit': 4155, 'austin': 4156, 'wholli': 4157, 'seal': 4158, 'unravel': 4159, 'jewel': 4160, 'deceas': 4161, 'dee': 4162, 'nathan': 4163, 'fenc': 4164, 'polici': 4165, 'uncov': 4166, 'anchor': 4167, 'sid': 4168, 'reluct': 4169, 'antonioni': 4170, 'judgment': 4171, 'alec': 4172, 'mode': 4173, 'dreck': 4174, 'unfair': 4175, 'shanghai': 4176, 'crippl': 4177, 'fart': 4178, 'wretch': 4179, 'bake': 4180, 'clerk': 4181, 'murray': 4182, 'slam': 4183, 'fought': 4184, 'enforc': 4185, 'seldom': 4186, '2008': 4187, 'roller': 4188, 'ritual': 4189, 'hallucin': 4190, 'patienc': 4191, 'debt': 4192, 'sand': 4193, 'conduct': 4194, 'logan': 4195, '1995': 4196, 'trait': 4197, 'sheet': 4198, 'joel': 4199, 'temper': 4200, 'malon': 4201, 'nicola': 4202, 'wang': 4203, 'behold': 4204, '3000': 4205, 'sunni': 4206, 'fabric': 4207, 'darn': 4208, '1971': 4209, 'sustain': 4210, 'pocket': 4211, 'vanc': 4212, 'tax': 4213, 'rita': 4214, 'exhaust': 4215, 'canyon': 4216, 'conscious': 4217, 'clau': 4218, 'divid': 4219, 'soup': 4220, 'stuart': 4221, 'penni': 4222, 'runner': 4223, 'stark': 4224, 'tactic': 4225, 'scriptwrit': 4226, 'robber': 4227, 'phil': 4228, 'fundament': 4229, 'preston': 4230, 'pete': 4231, 'bias': 4232, 'shell': 4233, 'guitar': 4234, 'bridget': 4235, 'despis': 4236, 'isabel': 4237, 'legaci': 4238, 'squad': 4239, 'outlin': 4240, 'helpless': 4241, 'schedul': 4242, 'sweep': 4243, 'preposter': 4244, 'grief': 4245, 'critiqu': 4246, 'technicolor': 4247, 'cigarett': 4248, 'vomit': 4249, 'liberti': 4250, 'propos': 4251, 'flair': 4252, 'gregori': 4253, 'downey': 4254, 'alicia': 4255, 'invad': 4256, 'russia': 4257, 'sugar': 4258, 'rear': 4259, 'sniper': 4260, 'culmin': 4261, 'drove': 4262, 'connor': 4263, 'unexpectedli': 4264, 'inabl': 4265, 'restrict': 4266, 'implic': 4267, 'palanc': 4268, 'lacklust': 4269, 'newman': 4270, 'bloom': 4271, 'passag': 4272, 'boyl': 4273, 'agenc': 4274, 'alley': 4275, 'consciou': 4276, 'jacket': 4277, 'kansa': 4278, 'marc': 4279, 'jodi': 4280, 'rehash': 4281, 'delv': 4282, 'sentinel': 4283, 'pale': 4284, '22': 4285, 'rehears': 4286, 'asylum': 4287, 'awhil': 4288, 'ladder': 4289, 'karl': 4290, 'cap': 4291, 'vet': 4292, '1936': 4293, 'behaviour': 4294, 'feat': 4295, 'tripe': 4296, 'rod': 4297, 'wrench': 4298, 'delet': 4299, 'improb': 4300, 'horn': 4301, 'lush': 4302, 'arrow': 4303, 'sharon': 4304, 'tendenc': 4305, 'mccoy': 4306, 'aesthet': 4307, 'foxx': 4308, 'bacon': 4309, 'rampag': 4310, 'chainsaw': 4311, 'yeti': 4312, 'kolchak': 4313, 'visitor': 4314, '1920': 4315, '19th': 4316, 'underneath': 4317, 'basing': 4318, 'hackney': 4319, 'loneli': 4320, 'financ': 4321, 'sung': 4322, 'hulk': 4323, 'prank': 4324, 'coaster': 4325, 'globe': 4326, '1978': 4327, 'weav': 4328, 'suffici': 4329, 'hungri': 4330, 'thunderbird': 4331, 'shortcom': 4332, 'tasteless': 4333, 'tomorrow': 4334, 'filler': 4335, 'aristocrat': 4336, 'paradis': 4337, 'elit': 4338, 'wagner': 4339, 'wildli': 4340, 'el': 4341, 'newcom': 4342, 'rumor': 4343, 'conscienc': 4344, 'paramount': 4345, 'stream': 4346, 'lurk': 4347, 'spice': 4348, 'rhythm': 4349, 'amazon': 4350, 'minu': 4351, 'fright': 4352, 'suspicion': 4353, '1988': 4354, 'scoop': 4355, 'rub': 4356, '1939': 4357, 'abrupt': 4358, 'wwe': 4359, 'posey': 4360, '1989': 4361, 'counterpart': 4362, 'entranc': 4363, 'naughti': 4364, 'ingeni': 4365, 'inmat': 4366, 'bread': 4367, 'en': 4368, 'impos': 4369, 'beverli': 4370, 'hopkin': 4371, 'ram': 4372, 'leigh': 4373, 'curli': 4374, 'couch': 4375, 'lectur': 4376, 'teas': 4377, 'recogniz': 4378, 'tierney': 4379, 'brit': 4380, 'grudg': 4381, 'chavez': 4382, 'straightforward': 4383, 'quietli': 4384, 'atroc': 4385, '75': 4386, 'minist': 4387, 'worship': 4388, 'dirt': 4389, 'smell': 4390, 'immers': 4391, 'literari': 4392, 'paxton': 4393, 'springer': 4394, 'standout': 4395, 'penn': 4396, 'secondari': 4397, 'chamberlain': 4398, 'choppi': 4399, 'heist': 4400, 'iv': 4401, 'cancer': 4402, 'clan': 4403, 'sassi': 4404, 'convert': 4405, 'esther': 4406, 'missil': 4407, 'ratso': 4408, 'entitl': 4409, 'policeman': 4410, 'geni': 4411, 'transcend': 4412, 'skeptic': 4413, 'enthral': 4414, 'nemesi': 4415, 'misguid': 4416, 'ace': 4417, 'attenborough': 4418, 'sublim': 4419, 'moreov': 4420, 'lindsay': 4421, '1986': 4422, 'laurenc': 4423, 'duel': 4424, 'variat': 4425, 'morbid': 4426, 'yearn': 4427, 'cattl': 4428, 'injuri': 4429, 'watcher': 4430, 'heartfelt': 4431, 'nolan': 4432, 'bernard': 4433, 'net': 4434, 'quaid': 4435, 'graini': 4436, 'uncut': 4437, 'characteris': 4438, 'out': 4439, 'youngest': 4440, 'grin': 4441, 'hopelessli': 4442, 'unexplain': 4443, 'facil': 4444, 'obstacl': 4445, 'kidman': 4446, 'puppi': 4447, 'dont': 4448, '1979': 4449, 'steadi': 4450, 'brood': 4451, 'artsi': 4452, 'poe': 4453, 'buzz': 4454, 'bean': 4455, 'cruelti': 4456, 'kitti': 4457, 'reliabl': 4458, 'moder': 4459, 'setup': 4460, 'carlito': 4461, 'bye': 4462, 'diari': 4463, 'tyler': 4464, 'egg': 4465, 'spiral': 4466, 'enabl': 4467, 'hk': 4468, 'vader': 4469, 'rosemari': 4470, 'mytholog': 4471, 'bounc': 4472, 'bewar': 4473, 'weather': 4474, 'acquaint': 4475, 'baffl': 4476, 'oblig': 4477, 'despic': 4478, 'athlet': 4479, 'gina': 4480, 'hain': 4481, 'spontan': 4482, 'fuel': 4483, 'heap': 4484, 'gillian': 4485, 'underworld': 4486, 'niec': 4487, '1969': 4488, 'christin': 4489, 'patricia': 4490, 'brendan': 4491, 'preming': 4492, 'clueless': 4493, 'narrow': 4494, 'disastr': 4495, 'decept': 4496, 'effici': 4497, 'kline': 4498, 'martha': 4499, 'hammi': 4500, 'sweat': 4501, 'exterior': 4502, 'bronson': 4503, 'sooner': 4504, 'tick': 4505, 'housewif': 4506, 'dilemma': 4507, 'astound': 4508, 'trigger': 4509, 'angst': 4510, 'injur': 4511, 'biker': 4512, 'insipid': 4513, 'outlaw': 4514, 'virtu': 4515, 'goof': 4516, 'renaiss': 4517, 'loi': 4518, 'viewpoint': 4519, 'shatter': 4520, 'scar': 4521, 'enlist': 4522, '19': 4523, 'uh': 4524, 'suprem': 4525, 'candl': 4526, 'fontain': 4527, 'sleepwalk': 4528, 'analyz': 4529, 'headach': 4530, 'preachi': 4531, 'loath': 4532, 'circu': 4533, 'harmless': 4534, 'taboo': 4535, 'lester': 4536, 'dandi': 4537, 'mayhem': 4538, '73': 4539, 'mermaid': 4540, 'hepburn': 4541, 'rome': 4542, 'sox': 4543, 'slimi': 4544, 'stimul': 4545, 'glorifi': 4546, 'claustrophob': 4547, 'stair': 4548, 'bent': 4549, 'amor': 4550, 'phenomenon': 4551, 'redund': 4552, 'intric': 4553, 'oldest': 4554, 'spade': 4555, 'contempt': 4556, 'tripl': 4557, 'zoom': 4558, 'ebert': 4559, 'foolish': 4560, 'hooker': 4561, 'steer': 4562, 'overlong': 4563, 'boston': 4564, 'surgeri': 4565, 'scorses': 4566, 'whore': 4567, 'dish': 4568, 'salt': 4569, 'idol': 4570, 'macho': 4571, 'ariel': 4572, 'dismal': 4573, 'camcord': 4574, 'corbett': 4575, 'hokey': 4576, 'guin': 4577, 'fluff': 4578, 'immatur': 4579, 'hostag': 4580, 'filth': 4581, 'gere': 4582, 'cassavet': 4583, 'widescreen': 4584, 'preced': 4585, 'flashi': 4586, 'dwarf': 4587, 'radiat': 4588, '1981': 4589, 'cow': 4590, 'flirt': 4591, 'astronaut': 4592, 'muscl': 4593, '1976': 4594, 'mount': 4595, 'spree': 4596, 'conquer': 4597, 'corman': 4598, 'frantic': 4599, 'remad': 4600, 'zane': 4601, 'antagonist': 4602, 'nolt': 4603, 'down': 4604, 'transplant': 4605, 'faint': 4606, 'gasp': 4607, 'joker': 4608, 'messi': 4609, 'mutual': 4610, 'obligatori': 4611, 'shred': 4612, 'perman': 4613, 'trivia': 4614, 'assert': 4615, 'flag': 4616, 'rhyme': 4617, 'shield': 4618, 'proport': 4619, 'harold': 4620, 'naschi': 4621, 'keen': 4622, 'gabl': 4623, 'cohen': 4624, 'fascist': 4625, 'margin': 4626, 'schlock': 4627, 'spinal': 4628, 'strongest': 4629, 'beard': 4630, 'cush': 4631, 'alvin': 4632, 'raj': 4633, 'brush': 4634, 'repris': 4635, 'hara': 4636, 'discern': 4637, 'carey': 4638, 'off': 4639, 'scandal': 4640, 'divin': 4641, 'info': 4642, 'bitten': 4643, 'resum': 4644, 'archiv': 4645, 'www': 4646, 'neurot': 4647, 'boob': 4648, '95': 4649, 'persuad': 4650, 'sensual': 4651, 'mol': 4652, 'interestingli': 4653, 'mobil': 4654, 'bachelor': 4655, 'fishburn': 4656, 'departur': 4657, 'strive': 4658, 'inflict': 4659, 'danish': 4660, 'deer': 4661, 'someday': 4662, 'triangl': 4663, 'vaniti': 4664, 'wield': 4665, 'flock': 4666, '28': 4667, 'ritchi': 4668, 'claud': 4669, 'instruct': 4670, 'barn': 4671, 'aborigin': 4672, '1945': 4673, 'cb': 4674, 'wendigo': 4675, 'luka': 4676, 'jade': 4677, 'cher': 4678, 'banter': 4679, 'cliffhang': 4680, 'undermin': 4681, 'dim': 4682, 'recit': 4683, 'loretta': 4684, 'frontier': 4685, 'parson': 4686, 'dylan': 4687, 'axe': 4688, 'vibrant': 4689, 'colin': 4690, 'cycl': 4691, 'senior': 4692, 'harrison': 4693, 'carlo': 4694, 'submit': 4695, 'prophet': 4696, 'fragil': 4697, 'rot': 4698, 'heartwarm': 4699, 'casino': 4700, 'pixar': 4701, 'traffic': 4702, 'artwork': 4703, 'helm': 4704, 'mobster': 4705, 'biblic': 4706, 'melissa': 4707, 'hapless': 4708, 'ish': 4709, 'bate': 4710, 'neill': 4711, 'hug': 4712, 'anton': 4713, 'hilar': 4714, 'timberlak': 4715, 'clad': 4716, 'kathryn': 4717, 'pacif': 4718, 'pickford': 4719, 'proclaim': 4720, 'earnest': 4721, 'dame': 4722, 'europa': 4723, 'miracul': 4724, 'jordan': 4725, 'redneck': 4726, 'electron': 4727, 'northern': 4728, 'legitim': 4729, 'foil': 4730, 'estrang': 4731, 'razor': 4732, 'cerebr': 4733, 'choke': 4734, 'wardrob': 4735, 'marlon': 4736, 'akin': 4737, 'bikini': 4738, 'pc': 4739, 'seedi': 4740, 'toronto': 4741, 'vile': 4742, 'static': 4743, 'feast': 4744, 'lui': 4745, 'blatantli': 4746, 'sicken': 4747, 'breakfast': 4748, 'flavor': 4749, 'illus': 4750, 'milo': 4751, 'token': 4752, 'misfortun': 4753, 'uma': 4754, 'venom': 4755, 'rooki': 4756, 'aris': 4757, 'mason': 4758, 'nope': 4759, 'articl': 4760, 'eli': 4761, 'lucil': 4762, 'holocaust': 4763, 'alexandr': 4764, 'mathieu': 4765, 'http': 4766, 'jo': 4767, 'vanessa': 4768, 'antholog': 4769, 'winchest': 4770, 'bondag': 4771, 'isra': 4772, 'orphan': 4773, 'shepherd': 4774, 'trier': 4775, 'clinic': 4776, 'disregard': 4777, 'gunga': 4778, 'cartoonish': 4779, 'oppon': 4780, 'feminin': 4781, 'outdat': 4782, 'affleck': 4783, 'comprehend': 4784, 'charlton': 4785, 'styliz': 4786, 'retriev': 4787, 'shorter': 4788, 'smack': 4789, 'deem': 4790, 'linear': 4791, 'psych': 4792, 'leather': 4793, 'dudley': 4794, 'frog': 4795, 'ceremoni': 4796, 'audrey': 4797, 'ideolog': 4798, 'gilbert': 4799, 'abund': 4800, 'tack': 4801, 'howl': 4802, 'wrestler': 4803, 'highway': 4804, 'boyer': 4805, 'huston': 4806, 'nightclub': 4807, 'glare': 4808, 'swept': 4809, 'peer': 4810, 'turd': 4811, 'magician': 4812, 'fifth': 4813, 'knightley': 4814, 'sleaz': 4815, '1994': 4816, 'durat': 4817, 'cuban': 4818, 'snatch': 4819, '1991': 4820, 'potter': 4821, 'client': 4822, 'greet': 4823, 'summar': 4824, 'toe': 4825, 'lavish': 4826, 'lighter': 4827, 'corn': 4828, 'breakdown': 4829, 'salman': 4830, 'spine': 4831, 'uniformli': 4832, 'plate': 4833, 'newer': 4834, 'cemeteri': 4835, 'chip': 4836, 'bastard': 4837, 'whack': 4838, 'moe': 4839, 'compris': 4840, 'senat': 4841, 'goldsworthi': 4842, 'deliver': 4843, 'evolut': 4844, 'phenomen': 4845, 'lifeless': 4846, 'boo': 4847, 'collector': 4848, 'energet': 4849, 'spawn': 4850, 'tara': 4851, 'monument': 4852, 'einstein': 4853, 'conrad': 4854, 'bogu': 4855, '4th': 4856, 'btw': 4857, 'braveheart': 4858, 'mitch': 4859, 'undertak': 4860, '1974': 4861, '1977': 4862, 'appl': 4863, 'embark': 4864, 'inaccuraci': 4865, 'fluid': 4866, 'healthi': 4867, 'constitut': 4868, 'lex': 4869, 'sorrow': 4870, 'alleg': 4871, 'outright': 4872, 'replay': 4873, 'ie': 4874, 'trauma': 4875, 'jare': 4876, 'neatli': 4877, 'kent': 4878, 'bulk': 4879, 'pronounc': 4880, 'armstrong': 4881, 'clara': 4882, 'undead': 4883, 'evelyn': 4884, 'creek': 4885, 'luxuri': 4886, 'jam': 4887, 'spectacl': 4888, 'jule': 4889, 'ol': 4890, 'historian': 4891, 'bori': 4892, 'belli': 4893, 'mcqueen': 4894, 'occup': 4895, 'liu': 4896, 'cecil': 4897, 'firmli': 4898, 'randolph': 4899, 'nina': 4900, 'jedi': 4901, 'signal': 4902, 'eleven': 4903, 'wtf': 4904, 'judd': 4905, 'kazan': 4906, 'gilliam': 4907, 'capot': 4908, 'inaccur': 4909, 'inclus': 4910, 'mum': 4911, 'relentless': 4912, 'walt': 4913, 'groan': 4914, 'congratul': 4915, 'truman': 4916, 'genet': 4917, 'sacrif': 4918, 'conan': 4919, '1985': 4920, 'pepper': 4921, 'kiddi': 4922, 'palm': 4923, 'unsuspect': 4924, 'bait': 4925, 'comprehens': 4926, 'antonio': 4927, 'miami': 4928, 'roar': 4929, 'curtain': 4930, 'decapit': 4931, 'meal': 4932, 'id': 4933, 'propheci': 4934, 'unattract': 4935, 'comb': 4936, 'forgiven': 4937, 'knee': 4938, 'basket': 4939, 'lauren': 4940, 'galaxi': 4941, 'sidewalk': 4942, 'goldblum': 4943, 'spray': 4944, 'aussi': 4945, 'miniseri': 4946, 'vignett': 4947, 'blur': 4948, 'carmen': 4949, 'poker': 4950, 'paula': 4951, 'vain': 4952, 'tokyo': 4953, 'pioneer': 4954, 'fruit': 4955, 'subtli': 4956, 'cape': 4957, 'ash': 4958, 'porter': 4959, 'abound': 4960, 'lanc': 4961, 'bsg': 4962, 'rosario': 4963, 'evan': 4964, 'motorcycl': 4965, 'epitom': 4966, 'incorrect': 4967, 'ghetto': 4968, 'asset': 4969, 'drone': 4970, 'profil': 4971, 'omin': 4972, 'sparkl': 4973, 'orchestr': 4974, 'hostil': 4975, 'frontal': 4976, 'scarfac': 4977, 'handicap': 4978, 'scariest': 4979, 'modest': 4980, 'turtl': 4981, 'jill': 4982, 'dubiou': 4983, 'vastli': 4984, 'reincarn': 4985, 'substanti': 4986, 'macabr': 4987, 'assort': 4988, 'rapidli': 4989, 'playboy': 4990, 'casper': 4991, 'weari': 4992, 'bach': 4993, 'hackman': 4994, 'spill': 4995, 'masterson': 4996, 'optimist': 4997, 'detach': 4998, 'mice': 4999}\n"
     ]
    }
   ],
   "source": [
    "print(word_dict)"
   ]
  },
  {
   "cell_type": "markdown",
   "metadata": {},
   "source": [
    "**Question:** In the cells above we use the `preprocess_data` and `convert_and_pad_data` methods to process both the training and testing set. Why or why not might this be a problem?"
   ]
  },
  {
   "cell_type": "markdown",
   "metadata": {},
   "source": [
    "**Answer:**\n",
    "preprocess_data method, helps in redusing the training time by removing the noise in the review comments and keeps only the key elements needed for sentiment analysis and saves the training data to cache , so that in event of retraining or if we need to stop the process and restart it next day, we can save time from reading the training data from cache insted of starting from the begining .\n",
    "\n",
    "\n",
    "convert_and_pad_data method ,helps to maintain a data length of 500 words.\n",
    "since we using LSTM Clasifier with Embedding so we need to maintain a constant batch size throughout the training\n"
   ]
  },
  {
   "cell_type": "markdown",
   "metadata": {},
   "source": [
    "## Step 3: Upload the data to S3\n",
    "\n",
    "As in the XGBoost notebook, we will need to upload the training dataset to S3 in order for our training code to access it. For now we will save it locally and we will upload to S3 later on.\n",
    "\n",
    "### Save the processed training dataset locally\n",
    "\n",
    "It is important to note the format of the data that we are saving as we will need to know it when we write the training code. In our case, each row of the dataset has the form `label`, `length`, `review[500]` where `review[500]` is a sequence of `500` integers representing the words in the review."
   ]
  },
  {
   "cell_type": "code",
   "execution_count": 20,
   "metadata": {},
   "outputs": [],
   "source": [
    "import pandas as pd\n",
    "    \n",
    "pd.concat([pd.DataFrame(train_y), pd.DataFrame(train_X_len), pd.DataFrame(train_X)], axis=1) \\\n",
    "        .to_csv(os.path.join(data_dir, 'train.csv'), header=False, index=False)"
   ]
  },
  {
   "cell_type": "markdown",
   "metadata": {},
   "source": [
    "### Uploading the training data\n",
    "\n",
    "\n",
    "Next, we need to upload the training data to the SageMaker default S3 bucket so that we can provide access to it while training our model."
   ]
  },
  {
   "cell_type": "code",
   "execution_count": 21,
   "metadata": {},
   "outputs": [],
   "source": [
    "import sagemaker\n",
    "\n",
    "sagemaker_session = sagemaker.Session()\n",
    "\n",
    "bucket = sagemaker_session.default_bucket()\n",
    "prefix = 'sagemaker/sentiment_rnn'\n",
    "\n",
    "role = sagemaker.get_execution_role()"
   ]
  },
  {
   "cell_type": "code",
   "execution_count": 22,
   "metadata": {},
   "outputs": [],
   "source": [
    "input_data = sagemaker_session.upload_data(path=data_dir, bucket=bucket, key_prefix=prefix)"
   ]
  },
  {
   "cell_type": "markdown",
   "metadata": {},
   "source": [
    "**NOTE:** The cell above uploads the entire contents of our data directory. This includes the `word_dict.pkl` file. This is fortunate as we will need this later on when we create an endpoint that accepts an arbitrary review. For now, we will just take note of the fact that it resides in the data directory (and so also in the S3 training bucket) and that we will need to make sure it gets saved in the model directory."
   ]
  },
  {
   "cell_type": "markdown",
   "metadata": {},
   "source": [
    "## Step 4: Build and Train the PyTorch Model\n",
    "\n",
    "In the XGBoost notebook we discussed what a model is in the SageMaker framework. In particular, a model comprises three objects\n",
    "\n",
    " - Model Artifacts,\n",
    " - Training Code, and\n",
    " - Inference Code,\n",
    " \n",
    "each of which interact with one another. In the XGBoost example we used training and inference code that was provided by Amazon. Here we will still be using containers provided by Amazon with the added benefit of being able to include our own custom code.\n",
    "\n",
    "We will start by implementing our own neural network in PyTorch along with a training script. For the purposes of this project we have provided the necessary model object in the `model.py` file, inside of the `train` folder. You can see the provided implementation by running the cell below."
   ]
  },
  {
   "cell_type": "code",
   "execution_count": 23,
   "metadata": {},
   "outputs": [
    {
     "name": "stdout",
     "output_type": "stream",
     "text": [
      "\u001b[34mimport\u001b[39;49;00m \u001b[04m\u001b[36mtorch.nn\u001b[39;49;00m \u001b[34mas\u001b[39;49;00m \u001b[04m\u001b[36mnn\u001b[39;49;00m\r\n",
      "\r\n",
      "\u001b[34mclass\u001b[39;49;00m \u001b[04m\u001b[32mLSTMClassifier\u001b[39;49;00m(nn.Module):\r\n",
      "    \u001b[33m\"\"\"\u001b[39;49;00m\r\n",
      "\u001b[33m    This is the simple RNN model we will be using to perform Sentiment Analysis.\u001b[39;49;00m\r\n",
      "\u001b[33m    \"\"\"\u001b[39;49;00m\r\n",
      "\r\n",
      "    \u001b[34mdef\u001b[39;49;00m \u001b[32m__init__\u001b[39;49;00m(\u001b[36mself\u001b[39;49;00m, embedding_dim, hidden_dim, vocab_size):\r\n",
      "        \u001b[33m\"\"\"\u001b[39;49;00m\r\n",
      "\u001b[33m        Initialize the model by settingg up the various layers.\u001b[39;49;00m\r\n",
      "\u001b[33m        \"\"\"\u001b[39;49;00m\r\n",
      "        \u001b[36msuper\u001b[39;49;00m(LSTMClassifier, \u001b[36mself\u001b[39;49;00m).\u001b[32m__init__\u001b[39;49;00m()\r\n",
      "\r\n",
      "        \u001b[36mself\u001b[39;49;00m.embedding = nn.Embedding(vocab_size, embedding_dim, padding_idx=\u001b[34m0\u001b[39;49;00m)\r\n",
      "        \u001b[36mself\u001b[39;49;00m.lstm = nn.LSTM(embedding_dim, hidden_dim)\r\n",
      "        \u001b[36mself\u001b[39;49;00m.dense = nn.Linear(in_features=hidden_dim, out_features=\u001b[34m1\u001b[39;49;00m)\r\n",
      "        \u001b[36mself\u001b[39;49;00m.sig = nn.Sigmoid()\r\n",
      "        \r\n",
      "        \u001b[36mself\u001b[39;49;00m.word_dict = \u001b[36mNone\u001b[39;49;00m\r\n",
      "\r\n",
      "    \u001b[34mdef\u001b[39;49;00m \u001b[32mforward\u001b[39;49;00m(\u001b[36mself\u001b[39;49;00m, x):\r\n",
      "        \u001b[33m\"\"\"\u001b[39;49;00m\r\n",
      "\u001b[33m        Perform a forward pass of our model on some input.\u001b[39;49;00m\r\n",
      "\u001b[33m        \"\"\"\u001b[39;49;00m\r\n",
      "        x = x.t()\r\n",
      "        lengths = x[\u001b[34m0\u001b[39;49;00m,:]\r\n",
      "        reviews = x[\u001b[34m1\u001b[39;49;00m:,:]\r\n",
      "        embeds = \u001b[36mself\u001b[39;49;00m.embedding(reviews)\r\n",
      "        lstm_out, _ = \u001b[36mself\u001b[39;49;00m.lstm(embeds)\r\n",
      "        out = \u001b[36mself\u001b[39;49;00m.dense(lstm_out)\r\n",
      "        out = out[lengths - \u001b[34m1\u001b[39;49;00m, \u001b[36mrange\u001b[39;49;00m(\u001b[36mlen\u001b[39;49;00m(lengths))]\r\n",
      "        \u001b[34mreturn\u001b[39;49;00m \u001b[36mself\u001b[39;49;00m.sig(out.squeeze())\r\n"
     ]
    }
   ],
   "source": [
    "!pygmentize train/model.py"
   ]
  },
  {
   "cell_type": "markdown",
   "metadata": {},
   "source": [
    "The important takeaway from the implementation provided is that there are three parameters that we may wish to tweak to improve the performance of our model. These are the embedding dimension, the hidden dimension and the size of the vocabulary. We will likely want to make these parameters configurable in the training script so that if we wish to modify them we do not need to modify the script itself. We will see how to do this later on. To start we will write some of the training code in the notebook so that we can more easily diagnose any issues that arise.\n",
    "\n",
    "First we will load a small portion of the training data set to use as a sample. It would be very time consuming to try and train the model completely in the notebook as we do not have access to a gpu and the compute instance that we are using is not particularly powerful. However, we can work on a small bit of the data to get a feel for how our training script is behaving."
   ]
  },
  {
   "cell_type": "code",
   "execution_count": 24,
   "metadata": {},
   "outputs": [],
   "source": [
    "import torch\n",
    "import torch.utils.data\n",
    "\n",
    "# Read in only the first 250 rows\n",
    "train_sample = pd.read_csv(os.path.join(data_dir, 'train.csv'), header=None, names=None, nrows=250)\n",
    "\n",
    "# Turn the input pandas dataframe into tensors\n",
    "train_sample_y = torch.from_numpy(train_sample[[0]].values).float().squeeze()\n",
    "train_sample_X = torch.from_numpy(train_sample.drop([0], axis=1).values).long()\n",
    "\n",
    "# Build the dataset\n",
    "train_sample_ds = torch.utils.data.TensorDataset(train_sample_X, train_sample_y)\n",
    "# Build the dataloader\n",
    "train_sample_dl = torch.utils.data.DataLoader(train_sample_ds, batch_size=50)"
   ]
  },
  {
   "cell_type": "markdown",
   "metadata": {},
   "source": [
    "### (TODO) Writing the training method\n",
    "\n",
    "Next we need to write the training code itself. This should be very similar to training methods that you have written before to train PyTorch models. We will leave any difficult aspects such as model saving / loading and parameter loading until a little later."
   ]
  },
  {
   "cell_type": "code",
   "execution_count": 25,
   "metadata": {},
   "outputs": [],
   "source": [
    "def train(model, train_loader, epochs, optimizer, loss_fn, device):\n",
    "    for epoch in range(1, epochs + 1):\n",
    "        model.train()\n",
    "        total_loss = 0\n",
    "        for batch in train_loader:         \n",
    "            batch_X, batch_y = batch\n",
    "            \n",
    "            batch_X = batch_X.to(device)\n",
    "            batch_y = batch_y.to(device)\n",
    "            \n",
    "            # TODO: Complete this train method to train the model provided.\n",
    "            #Done\n",
    "            optimizer.zero_grad()\n",
    "            output=model.forward(batch_X)\n",
    "            loss=loss_fn(output,batch_y)\n",
    "            loss.backward()\n",
    "            optimizer.step()\n",
    "            \n",
    "            \n",
    "            total_loss += loss.data.item()\n",
    "        print(\"Epoch: {}, BCELoss: {}\".format(epoch, total_loss / len(train_loader)))"
   ]
  },
  {
   "cell_type": "markdown",
   "metadata": {},
   "source": [
    "Supposing we have the training method above, we will test that it is working by writing a bit of code in the notebook that executes our training method on the small sample training set that we loaded earlier. The reason for doing this in the notebook is so that we have an opportunity to fix any errors that arise early when they are easier to diagnose."
   ]
  },
  {
   "cell_type": "code",
   "execution_count": 26,
   "metadata": {},
   "outputs": [
    {
     "name": "stdout",
     "output_type": "stream",
     "text": [
      "Epoch: 1, BCELoss: 0.6902421355247498\n",
      "Epoch: 2, BCELoss: 0.6820130467414856\n",
      "Epoch: 3, BCELoss: 0.6749670743942261\n",
      "Epoch: 4, BCELoss: 0.6670710325241089\n",
      "Epoch: 5, BCELoss: 0.6571165800094605\n"
     ]
    }
   ],
   "source": [
    "import torch.optim as optim\n",
    "from train.model import LSTMClassifier\n",
    "\n",
    "device = torch.device(\"cuda\" if torch.cuda.is_available() else \"cpu\")\n",
    "model = LSTMClassifier(32, 100, 5000).to(device)\n",
    "optimizer = optim.Adam(model.parameters())\n",
    "loss_fn = torch.nn.BCELoss()\n",
    "\n",
    "train(model, train_sample_dl, 5, optimizer, loss_fn, device)"
   ]
  },
  {
   "cell_type": "markdown",
   "metadata": {},
   "source": [
    "In order to construct a PyTorch model using SageMaker we must provide SageMaker with a training script. We may optionally include a directory which will be copied to the container and from which our training code will be run. When the training container is executed it will check the uploaded directory (if there is one) for a `requirements.txt` file and install any required Python libraries, after which the training script will be run."
   ]
  },
  {
   "cell_type": "markdown",
   "metadata": {},
   "source": [
    "### (TODO) Training the model\n",
    "\n",
    "When a PyTorch model is constructed in SageMaker, an entry point must be specified. This is the Python file which will be executed when the model is trained. Inside of the `train` directory is a file called `train.py` which has been provided and which contains most of the necessary code to train our model. The only thing that is missing is the implementation of the `train()` method which you wrote earlier in this notebook.\n",
    "\n",
    "**TODO**: Copy the `train()` method written above and paste it into the `train/train.py` file where required.\n",
    "\n",
    "The way that SageMaker passes hyperparameters to the training script is by way of arguments. These arguments can then be parsed and used in the training script. To see how this is done take a look at the provided `train/train.py` file."
   ]
  },
  {
   "cell_type": "code",
   "execution_count": 27,
   "metadata": {},
   "outputs": [],
   "source": [
    "from sagemaker.pytorch import PyTorch\n",
    "\n",
    "estimator = PyTorch(entry_point=\"train.py\",\n",
    "                    source_dir=\"train\",\n",
    "                    role=role,\n",
    "                    framework_version='0.4.0',\n",
    "                    train_instance_count=1,\n",
    "                    train_instance_type='ml.m5.4xlarge',\n",
    "                    hyperparameters={\n",
    "                        'epochs': 10,\n",
    "                        'hidden_dim': 200,\n",
    "                    })"
   ]
  },
  {
   "cell_type": "code",
   "execution_count": 28,
   "metadata": {},
   "outputs": [
    {
     "name": "stdout",
     "output_type": "stream",
     "text": [
      "2020-04-12 19:56:31 Starting - Starting the training job...\n",
      "2020-04-12 19:56:32 Starting - Launching requested ML instances......\n",
      "2020-04-12 19:57:34 Starting - Preparing the instances for training...\n",
      "2020-04-12 19:58:29 Downloading - Downloading input data...\n",
      "2020-04-12 19:58:49 Training - Training image download completed. Training in progress.\u001b[34mbash: cannot set terminal process group (-1): Inappropriate ioctl for device\u001b[0m\n",
      "\u001b[34mbash: no job control in this shell\u001b[0m\n",
      "\u001b[34m2020-04-12 19:58:49,634 sagemaker-containers INFO     Imported framework sagemaker_pytorch_container.training\u001b[0m\n",
      "\u001b[34m2020-04-12 19:58:49,637 sagemaker-containers INFO     No GPUs detected (normal if no gpus installed)\u001b[0m\n",
      "\u001b[34m2020-04-12 19:58:49,648 sagemaker_pytorch_container.training INFO     Block until all host DNS lookups succeed.\u001b[0m\n",
      "\u001b[34m2020-04-12 19:58:52,689 sagemaker_pytorch_container.training INFO     Invoking user training script.\u001b[0m\n",
      "\u001b[34m2020-04-12 19:58:52,866 sagemaker-containers INFO     Module train does not provide a setup.py. \u001b[0m\n",
      "\u001b[34mGenerating setup.py\u001b[0m\n",
      "\u001b[34m2020-04-12 19:58:52,866 sagemaker-containers INFO     Generating setup.cfg\u001b[0m\n",
      "\u001b[34m2020-04-12 19:58:52,866 sagemaker-containers INFO     Generating MANIFEST.in\u001b[0m\n",
      "\u001b[34m2020-04-12 19:58:52,867 sagemaker-containers INFO     Installing module with the following command:\u001b[0m\n",
      "\u001b[34m/usr/bin/python -m pip install -U . -r requirements.txt\u001b[0m\n",
      "\u001b[34mProcessing /opt/ml/code\u001b[0m\n",
      "\u001b[34mCollecting pandas (from -r requirements.txt (line 1))\u001b[0m\n",
      "\u001b[34m  Downloading https://files.pythonhosted.org/packages/74/24/0cdbf8907e1e3bc5a8da03345c23cbed7044330bb8f73bb12e711a640a00/pandas-0.24.2-cp35-cp35m-manylinux1_x86_64.whl (10.0MB)\u001b[0m\n",
      "\u001b[34mCollecting numpy (from -r requirements.txt (line 2))\u001b[0m\n",
      "\u001b[34m  Downloading https://files.pythonhosted.org/packages/ff/18/c0b937e2f84095ae230196899e56d1d7d76c8e8424fb235ed7e5bb6d68af/numpy-1.18.2-cp35-cp35m-manylinux1_x86_64.whl (20.0MB)\u001b[0m\n",
      "\u001b[34mCollecting nltk (from -r requirements.txt (line 3))\n",
      "  Downloading https://files.pythonhosted.org/packages/f6/1d/d925cfb4f324ede997f6d47bea4d9babba51b49e87a767c170b77005889d/nltk-3.4.5.zip (1.5MB)\u001b[0m\n",
      "\u001b[34mCollecting beautifulsoup4 (from -r requirements.txt (line 4))\n",
      "  Downloading https://files.pythonhosted.org/packages/e8/b5/7bb03a696f2c9b7af792a8f51b82974e51c268f15e925fc834876a4efa0b/beautifulsoup4-4.9.0-py3-none-any.whl (109kB)\u001b[0m\n",
      "\u001b[34mCollecting html5lib (from -r requirements.txt (line 5))\n",
      "  Downloading https://files.pythonhosted.org/packages/a5/62/bbd2be0e7943ec8504b517e62bab011b4946e1258842bc159e5dfde15b96/html5lib-1.0.1-py2.py3-none-any.whl (117kB)\u001b[0m\n",
      "\u001b[34mCollecting pytz>=2011k (from pandas->-r requirements.txt (line 1))\n",
      "  Downloading https://files.pythonhosted.org/packages/e7/f9/f0b53f88060247251bf481fa6ea62cd0d25bf1b11a87888e53ce5b7c8ad2/pytz-2019.3-py2.py3-none-any.whl (509kB)\u001b[0m\n",
      "\u001b[34mRequirement already satisfied, skipping upgrade: python-dateutil>=2.5.0 in /usr/local/lib/python3.5/dist-packages (from pandas->-r requirements.txt (line 1)) (2.7.5)\u001b[0m\n",
      "\u001b[34mRequirement already satisfied, skipping upgrade: six in /usr/local/lib/python3.5/dist-packages (from nltk->-r requirements.txt (line 3)) (1.11.0)\u001b[0m\n",
      "\u001b[34mCollecting soupsieve>1.2 (from beautifulsoup4->-r requirements.txt (line 4))\n",
      "  Downloading https://files.pythonhosted.org/packages/05/cf/ea245e52f55823f19992447b008bcbb7f78efc5960d77f6c34b5b45b36dd/soupsieve-2.0-py2.py3-none-any.whl\u001b[0m\n",
      "\u001b[34mCollecting webencodings (from html5lib->-r requirements.txt (line 5))\n",
      "  Downloading https://files.pythonhosted.org/packages/f4/24/2a3e3df732393fed8b3ebf2ec078f05546de641fe1b667ee316ec1dcf3b7/webencodings-0.5.1-py2.py3-none-any.whl\u001b[0m\n",
      "\u001b[34mBuilding wheels for collected packages: nltk, train\n",
      "  Running setup.py bdist_wheel for nltk: started\u001b[0m\n",
      "\u001b[34m  Running setup.py bdist_wheel for nltk: finished with status 'done'\n",
      "  Stored in directory: /root/.cache/pip/wheels/96/86/f6/68ab24c23f207c0077381a5e3904b2815136b879538a24b483\n",
      "  Running setup.py bdist_wheel for train: started\n",
      "  Running setup.py bdist_wheel for train: finished with status 'done'\n",
      "  Stored in directory: /tmp/pip-ephem-wheel-cache-p22hulv2/wheels/35/24/16/37574d11bf9bde50616c67372a334f94fa8356bc7164af8ca3\u001b[0m\n",
      "\u001b[34mSuccessfully built nltk train\u001b[0m\n",
      "\u001b[34mInstalling collected packages: pytz, numpy, pandas, nltk, soupsieve, beautifulsoup4, webencodings, html5lib, train\n",
      "  Found existing installation: numpy 1.15.4\n",
      "    Uninstalling numpy-1.15.4:\u001b[0m\n",
      "\u001b[34m      Successfully uninstalled numpy-1.15.4\u001b[0m\n",
      "\u001b[34mSuccessfully installed beautifulsoup4-4.9.0 html5lib-1.0.1 nltk-3.4.5 numpy-1.18.2 pandas-0.24.2 pytz-2019.3 soupsieve-2.0 train-1.0.0 webencodings-0.5.1\u001b[0m\n",
      "\u001b[34mYou are using pip version 18.1, however version 20.0.2 is available.\u001b[0m\n",
      "\u001b[34mYou should consider upgrading via the 'pip install --upgrade pip' command.\u001b[0m\n",
      "\u001b[34m2020-04-12 19:59:02,972 sagemaker-containers INFO     No GPUs detected (normal if no gpus installed)\u001b[0m\n",
      "\u001b[34m2020-04-12 19:59:02,984 sagemaker-containers INFO     Invoking user script\n",
      "\u001b[0m\n",
      "\u001b[34mTraining Env:\n",
      "\u001b[0m\n",
      "\u001b[34m{\n",
      "    \"module_name\": \"train\",\n",
      "    \"resource_config\": {\n",
      "        \"hosts\": [\n",
      "            \"algo-1\"\n",
      "        ],\n",
      "        \"current_host\": \"algo-1\",\n",
      "        \"network_interface_name\": \"eth0\"\n",
      "    },\n",
      "    \"hyperparameters\": {\n",
      "        \"hidden_dim\": 200,\n",
      "        \"epochs\": 10\n",
      "    },\n",
      "    \"network_interface_name\": \"eth0\",\n",
      "    \"framework_module\": \"sagemaker_pytorch_container.training:main\",\n",
      "    \"model_dir\": \"/opt/ml/model\",\n",
      "    \"job_name\": \"sagemaker-pytorch-2020-04-12-19-56-30-720\",\n",
      "    \"module_dir\": \"s3://sagemaker-us-east-1-527392326289/sagemaker-pytorch-2020-04-12-19-56-30-720/source/sourcedir.tar.gz\",\n",
      "    \"hosts\": [\n",
      "        \"algo-1\"\n",
      "    ],\n",
      "    \"channel_input_dirs\": {\n",
      "        \"training\": \"/opt/ml/input/data/training\"\n",
      "    },\n",
      "    \"input_config_dir\": \"/opt/ml/input/config\",\n",
      "    \"user_entry_point\": \"train.py\",\n",
      "    \"input_dir\": \"/opt/ml/input\",\n",
      "    \"input_data_config\": {\n",
      "        \"training\": {\n",
      "            \"S3DistributionType\": \"FullyReplicated\",\n",
      "            \"TrainingInputMode\": \"File\",\n",
      "            \"RecordWrapperType\": \"None\"\n",
      "        }\n",
      "    },\n",
      "    \"num_gpus\": 0,\n",
      "    \"output_data_dir\": \"/opt/ml/output/data\",\n",
      "    \"output_dir\": \"/opt/ml/output\",\n",
      "    \"num_cpus\": 16,\n",
      "    \"output_intermediate_dir\": \"/opt/ml/output/intermediate\",\n",
      "    \"log_level\": 20,\n",
      "    \"current_host\": \"algo-1\",\n",
      "    \"additional_framework_parameters\": {}\u001b[0m\n",
      "\u001b[34m}\n",
      "\u001b[0m\n",
      "\u001b[34mEnvironment variables:\n",
      "\u001b[0m\n",
      "\u001b[34mSM_MODEL_DIR=/opt/ml/model\u001b[0m\n",
      "\u001b[34mSM_USER_ENTRY_POINT=train.py\u001b[0m\n",
      "\u001b[34mSM_HP_HIDDEN_DIM=200\u001b[0m\n",
      "\u001b[34mSM_OUTPUT_DIR=/opt/ml/output\u001b[0m\n",
      "\u001b[34mSM_INPUT_DIR=/opt/ml/input\u001b[0m\n",
      "\u001b[34mSM_NUM_CPUS=16\u001b[0m\n",
      "\u001b[34mSM_TRAINING_ENV={\"additional_framework_parameters\":{},\"channel_input_dirs\":{\"training\":\"/opt/ml/input/data/training\"},\"current_host\":\"algo-1\",\"framework_module\":\"sagemaker_pytorch_container.training:main\",\"hosts\":[\"algo-1\"],\"hyperparameters\":{\"epochs\":10,\"hidden_dim\":200},\"input_config_dir\":\"/opt/ml/input/config\",\"input_data_config\":{\"training\":{\"RecordWrapperType\":\"None\",\"S3DistributionType\":\"FullyReplicated\",\"TrainingInputMode\":\"File\"}},\"input_dir\":\"/opt/ml/input\",\"job_name\":\"sagemaker-pytorch-2020-04-12-19-56-30-720\",\"log_level\":20,\"model_dir\":\"/opt/ml/model\",\"module_dir\":\"s3://sagemaker-us-east-1-527392326289/sagemaker-pytorch-2020-04-12-19-56-30-720/source/sourcedir.tar.gz\",\"module_name\":\"train\",\"network_interface_name\":\"eth0\",\"num_cpus\":16,\"num_gpus\":0,\"output_data_dir\":\"/opt/ml/output/data\",\"output_dir\":\"/opt/ml/output\",\"output_intermediate_dir\":\"/opt/ml/output/intermediate\",\"resource_config\":{\"current_host\":\"algo-1\",\"hosts\":[\"algo-1\"],\"network_interface_name\":\"eth0\"},\"user_entry_point\":\"train.py\"}\u001b[0m\n",
      "\u001b[34mSM_CHANNELS=[\"training\"]\u001b[0m\n",
      "\u001b[34mSM_NETWORK_INTERFACE_NAME=eth0\u001b[0m\n",
      "\u001b[34mSM_MODULE_NAME=train\u001b[0m\n",
      "\u001b[34mSM_CHANNEL_TRAINING=/opt/ml/input/data/training\u001b[0m\n",
      "\u001b[34mSM_OUTPUT_DATA_DIR=/opt/ml/output/data\u001b[0m\n",
      "\u001b[34mSM_INPUT_CONFIG_DIR=/opt/ml/input/config\u001b[0m\n",
      "\u001b[34mSM_HPS={\"epochs\":10,\"hidden_dim\":200}\u001b[0m\n",
      "\u001b[34mSM_HOSTS=[\"algo-1\"]\u001b[0m\n",
      "\u001b[34mSM_MODULE_DIR=s3://sagemaker-us-east-1-527392326289/sagemaker-pytorch-2020-04-12-19-56-30-720/source/sourcedir.tar.gz\u001b[0m\n",
      "\u001b[34mSM_HP_EPOCHS=10\u001b[0m\n",
      "\u001b[34mSM_LOG_LEVEL=20\u001b[0m\n",
      "\u001b[34mSM_USER_ARGS=[\"--epochs\",\"10\",\"--hidden_dim\",\"200\"]\u001b[0m\n",
      "\u001b[34mSM_RESOURCE_CONFIG={\"current_host\":\"algo-1\",\"hosts\":[\"algo-1\"],\"network_interface_name\":\"eth0\"}\u001b[0m\n",
      "\u001b[34mSM_NUM_GPUS=0\u001b[0m\n",
      "\u001b[34mSM_OUTPUT_INTERMEDIATE_DIR=/opt/ml/output/intermediate\u001b[0m\n",
      "\u001b[34mSM_FRAMEWORK_MODULE=sagemaker_pytorch_container.training:main\u001b[0m\n",
      "\u001b[34mSM_CURRENT_HOST=algo-1\u001b[0m\n",
      "\u001b[34mSM_INPUT_DATA_CONFIG={\"training\":{\"RecordWrapperType\":\"None\",\"S3DistributionType\":\"FullyReplicated\",\"TrainingInputMode\":\"File\"}}\u001b[0m\n",
      "\u001b[34mPYTHONPATH=/usr/local/bin:/usr/lib/python35.zip:/usr/lib/python3.5:/usr/lib/python3.5/plat-x86_64-linux-gnu:/usr/lib/python3.5/lib-dynload:/usr/local/lib/python3.5/dist-packages:/usr/lib/python3/dist-packages\u001b[0m\n",
      "\u001b[34mSM_FRAMEWORK_PARAMS={}\n",
      "\u001b[0m\n",
      "\u001b[34mInvoking script with the following command:\n",
      "\u001b[0m\n",
      "\u001b[34m/usr/bin/python -m train --epochs 10 --hidden_dim 200\n",
      "\n",
      "\u001b[0m\n",
      "\u001b[34mUsing device cpu.\u001b[0m\n",
      "\u001b[34mGet train data loader.\u001b[0m\n",
      "\u001b[34mModel loaded with embedding_dim 32, hidden_dim 200, vocab_size 5000.\u001b[0m\n"
     ]
    },
    {
     "name": "stdout",
     "output_type": "stream",
     "text": [
      "\u001b[34mEpoch: 1, BCELoss: 0.6757425081973173\u001b[0m\n",
      "\u001b[34mEpoch: 2, BCELoss: 0.6157690043352089\u001b[0m\n",
      "\u001b[34mEpoch: 3, BCELoss: 0.522940815711508\u001b[0m\n",
      "\u001b[34mEpoch: 4, BCELoss: 0.43033130436527484\u001b[0m\n",
      "\u001b[34mEpoch: 5, BCELoss: 0.3977756840842111\u001b[0m\n",
      "\u001b[34mEpoch: 6, BCELoss: 0.35767341268305874\u001b[0m\n",
      "\u001b[34mEpoch: 7, BCELoss: 0.32863641271785815\u001b[0m\n",
      "\u001b[34mEpoch: 8, BCELoss: 0.31338146207283957\u001b[0m\n",
      "\u001b[34mEpoch: 9, BCELoss: 0.278091729295497\u001b[0m\n",
      "\n",
      "2020-04-12 20:35:21 Uploading - Uploading generated training model\u001b[34mEpoch: 10, BCELoss: 0.26780182031952604\u001b[0m\n",
      "\u001b[34m2020-04-12 20:35:16,704 sagemaker-containers INFO     Reporting training SUCCESS\u001b[0m\n",
      "\n",
      "2020-04-12 20:35:28 Completed - Training job completed\n",
      "Training seconds: 2219\n",
      "Billable seconds: 2219\n"
     ]
    }
   ],
   "source": [
    "estimator.fit({'training': input_data})"
   ]
  },
  {
   "cell_type": "markdown",
   "metadata": {},
   "source": [
    "## Step 5: Testing the model\n",
    "\n",
    "As mentioned at the top of this notebook, we will be testing this model by first deploying it and then sending the testing data to the deployed endpoint. We will do this so that we can make sure that the deployed model is working correctly.\n",
    "\n",
    "## Step 6: Deploy the model for testing\n",
    "\n",
    "Now that we have trained our model, we would like to test it to see how it performs. Currently our model takes input of the form `review_length, review[500]` where `review[500]` is a sequence of `500` integers which describe the words present in the review, encoded using `word_dict`. Fortunately for us, SageMaker provides built-in inference code for models with simple inputs such as this.\n",
    "\n",
    "There is one thing that we need to provide, however, and that is a function which loads the saved model. This function must be called `model_fn()` and takes as its only parameter a path to the directory where the model artifacts are stored. This function must also be present in the python file which we specified as the entry point. In our case the model loading function has been provided and so no changes need to be made.\n",
    "\n",
    "**NOTE**: When the built-in inference code is run it must import the `model_fn()` method from the `train.py` file. This is why the training code is wrapped in a main guard ( ie, `if __name__ == '__main__':` )\n",
    "\n",
    "Since we don't need to change anything in the code that was uploaded during training, we can simply deploy the current model as-is.\n",
    "\n",
    "**NOTE:** When deploying a model you are asking SageMaker to launch an compute instance that will wait for data to be sent to it. As a result, this compute instance will continue to run until *you* shut it down. This is important to know since the cost of a deployed endpoint depends on how long it has been running for.\n",
    "\n",
    "In other words **If you are no longer using a deployed endpoint, shut it down!**\n",
    "\n",
    "**TODO:** Deploy the trained model."
   ]
  },
  {
   "cell_type": "code",
   "execution_count": 29,
   "metadata": {},
   "outputs": [
    {
     "name": "stdout",
     "output_type": "stream",
     "text": [
      "-----------!"
     ]
    }
   ],
   "source": [
    "# TODO: Deploy the trained model\n",
    "predictor = estimator.deploy(initial_instance_count=1, instance_type='ml.m5.4xlarge')"
   ]
  },
  {
   "cell_type": "markdown",
   "metadata": {},
   "source": [
    "## Step 7 - Use the model for testing\n",
    "\n",
    "Once deployed, we can read in the test data and send it off to our deployed model to get some results. Once we collect all of the results we can determine how accurate our model is."
   ]
  },
  {
   "cell_type": "code",
   "execution_count": 30,
   "metadata": {},
   "outputs": [],
   "source": [
    "test_X = pd.concat([pd.DataFrame(test_X_len), pd.DataFrame(test_X)], axis=1)"
   ]
  },
  {
   "cell_type": "code",
   "execution_count": 31,
   "metadata": {},
   "outputs": [],
   "source": [
    "# We split the data into chunks and send each chunk seperately, accumulating the results.\n",
    "\n",
    "def predict(data, rows=512):\n",
    "    split_array = np.array_split(data, int(data.shape[0] / float(rows) + 1))\n",
    "    predictions = np.array([])\n",
    "    for array in split_array:\n",
    "        predictions = np.append(predictions, predictor.predict(array))\n",
    "    \n",
    "    return predictions"
   ]
  },
  {
   "cell_type": "code",
   "execution_count": 32,
   "metadata": {},
   "outputs": [],
   "source": [
    "predictions = predict(test_X.values)\n",
    "predictions = [round(num) for num in predictions]"
   ]
  },
  {
   "cell_type": "code",
   "execution_count": 33,
   "metadata": {},
   "outputs": [
    {
     "data": {
      "text/plain": [
       "0.82284"
      ]
     },
     "execution_count": 33,
     "metadata": {},
     "output_type": "execute_result"
    }
   ],
   "source": [
    "from sklearn.metrics import accuracy_score\n",
    "accuracy_score(test_y, predictions)"
   ]
  },
  {
   "cell_type": "markdown",
   "metadata": {},
   "source": [
    "**Question:** How does this model compare to the XGBoost model you created earlier? Why might these two models perform differently on this dataset? Which do *you* think is better for sentiment analysis?"
   ]
  },
  {
   "cell_type": "markdown",
   "metadata": {},
   "source": [
    "**Answer:**\n",
    "This model makes use of Deep learning LSTM Classification model , which keep track of the word sequence to analyse the sentiment , also in this model a embeded word vector is bring used , where as in XGBoost example we made use of BOW (Bag of Words) and it did not analyse the sequence of words. I think using a Deep learning model which can analyze the word sequence to classifie the reviews shall be better for sentiment analysis."
   ]
  },
  {
   "cell_type": "markdown",
   "metadata": {},
   "source": [
    "### (TODO) More testing\n",
    "\n",
    "We now have a trained model which has been deployed and which we can send processed reviews to and which returns the predicted sentiment. However, ultimately we would like to be able to send our model an unprocessed review. That is, we would like to send the review itself as a string. For example, suppose we wish to send the following review to our model."
   ]
  },
  {
   "cell_type": "code",
   "execution_count": 34,
   "metadata": {},
   "outputs": [],
   "source": [
    "test_review = 'The simplest pleasures in life are the best, and this film is one of them. Combining a rather basic storyline of love and adventure this movie transcends the usual weekend fair with wit and unmitigated charm.'"
   ]
  },
  {
   "cell_type": "markdown",
   "metadata": {},
   "source": [
    "The question we now need to answer is, how do we send this review to our model?\n",
    "\n",
    "Recall in the first section of this notebook we did a bunch of data processing to the IMDb dataset. In particular, we did two specific things to the provided reviews.\n",
    " - Removed any html tags and stemmed the input\n",
    " - Encoded the review as a sequence of integers using `word_dict`\n",
    " \n",
    "In order process the review we will need to repeat these two steps.\n",
    "\n",
    "**TODO**: Using the `review_to_words` and `convert_and_pad` methods from section one, convert `test_review` into a numpy array `test_data` suitable to send to our model. Remember that our model expects input of the form `review_length, review[500]`."
   ]
  },
  {
   "cell_type": "code",
   "execution_count": 35,
   "metadata": {},
   "outputs": [
    {
     "data": {
      "text/plain": [
       "((1, 501), array([  20,    1, 1375,   50,   53]))"
      ]
     },
     "execution_count": 35,
     "metadata": {},
     "output_type": "execute_result"
    }
   ],
   "source": [
    "# TODO: Convert test_review into a form usable by the model and save the results in test_data\n",
    "\n",
    "test_words = review_to_words(test_review)\n",
    "test_words,length = convert_and_pad(word_dict,test_words)\n",
    "\n",
    "test_data = np.array([[length] + test_words])\n",
    "test_data.shape, test_data[0, :5]"
   ]
  },
  {
   "cell_type": "markdown",
   "metadata": {},
   "source": [
    "Now that we have processed the review, we can send the resulting array to our model to predict the sentiment of the review."
   ]
  },
  {
   "cell_type": "code",
   "execution_count": 36,
   "metadata": {},
   "outputs": [
    {
     "data": {
      "text/plain": [
       "array(0.6666787, dtype=float32)"
      ]
     },
     "execution_count": 36,
     "metadata": {},
     "output_type": "execute_result"
    }
   ],
   "source": [
    "predictor.predict(test_data)"
   ]
  },
  {
   "cell_type": "markdown",
   "metadata": {},
   "source": [
    "Since the return value of our model is close to `1`, we can be certain that the review we submitted is positive."
   ]
  },
  {
   "cell_type": "markdown",
   "metadata": {},
   "source": [
    "### Delete the endpoint\n",
    "\n",
    "Of course, just like in the XGBoost notebook, once we've deployed an endpoint it continues to run until we tell it to shut down. Since we are done using our endpoint for now, we can delete it."
   ]
  },
  {
   "cell_type": "code",
   "execution_count": 37,
   "metadata": {},
   "outputs": [],
   "source": [
    "estimator.delete_endpoint()"
   ]
  },
  {
   "cell_type": "markdown",
   "metadata": {},
   "source": [
    "## Step 6 (again) - Deploy the model for the web app\n",
    "\n",
    "Now that we know that our model is working, it's time to create some custom inference code so that we can send the model a review which has not been processed and have it determine the sentiment of the review.\n",
    "\n",
    "As we saw above, by default the estimator which we created, when deployed, will use the entry script and directory which we provided when creating the model. However, since we now wish to accept a string as input and our model expects a processed review, we need to write some custom inference code.\n",
    "\n",
    "We will store the code that we write in the `serve` directory. Provided in this directory is the `model.py` file that we used to construct our model, a `utils.py` file which contains the `review_to_words` and `convert_and_pad` pre-processing functions which we used during the initial data processing, and `predict.py`, the file which will contain our custom inference code. Note also that `requirements.txt` is present which will tell SageMaker what Python libraries are required by our custom inference code.\n",
    "\n",
    "When deploying a PyTorch model in SageMaker, you are expected to provide four functions which the SageMaker inference container will use.\n",
    " - `model_fn`: This function is the same function that we used in the training script and it tells SageMaker how to load our model.\n",
    " - `input_fn`: This function receives the raw serialized input that has been sent to the model's endpoint and its job is to de-serialize and make the input available for the inference code.\n",
    " - `output_fn`: This function takes the output of the inference code and its job is to serialize this output and return it to the caller of the model's endpoint.\n",
    " - `predict_fn`: The heart of the inference script, this is where the actual prediction is done and is the function which you will need to complete.\n",
    "\n",
    "For the simple website that we are constructing during this project, the `input_fn` and `output_fn` methods are relatively straightforward. We only require being able to accept a string as input and we expect to return a single value as output. You might imagine though that in a more complex application the input or output may be image data or some other binary data which would require some effort to serialize.\n",
    "\n",
    "### (TODO) Writing inference code\n",
    "\n",
    "Before writing our custom inference code, we will begin by taking a look at the code which has been provided."
   ]
  },
  {
   "cell_type": "code",
   "execution_count": 38,
   "metadata": {},
   "outputs": [
    {
     "name": "stdout",
     "output_type": "stream",
     "text": [
      "\u001b[34mimport\u001b[39;49;00m \u001b[04m\u001b[36margparse\u001b[39;49;00m\r\n",
      "\u001b[34mimport\u001b[39;49;00m \u001b[04m\u001b[36mjson\u001b[39;49;00m\r\n",
      "\u001b[34mimport\u001b[39;49;00m \u001b[04m\u001b[36mos\u001b[39;49;00m\r\n",
      "\u001b[34mimport\u001b[39;49;00m \u001b[04m\u001b[36mpickle\u001b[39;49;00m\r\n",
      "\u001b[34mimport\u001b[39;49;00m \u001b[04m\u001b[36msys\u001b[39;49;00m\r\n",
      "\u001b[34mimport\u001b[39;49;00m \u001b[04m\u001b[36msagemaker_containers\u001b[39;49;00m\r\n",
      "\u001b[34mimport\u001b[39;49;00m \u001b[04m\u001b[36mpandas\u001b[39;49;00m \u001b[34mas\u001b[39;49;00m \u001b[04m\u001b[36mpd\u001b[39;49;00m\r\n",
      "\u001b[34mimport\u001b[39;49;00m \u001b[04m\u001b[36mnumpy\u001b[39;49;00m \u001b[34mas\u001b[39;49;00m \u001b[04m\u001b[36mnp\u001b[39;49;00m\r\n",
      "\u001b[34mimport\u001b[39;49;00m \u001b[04m\u001b[36mtorch\u001b[39;49;00m\r\n",
      "\u001b[34mimport\u001b[39;49;00m \u001b[04m\u001b[36mtorch.nn\u001b[39;49;00m \u001b[34mas\u001b[39;49;00m \u001b[04m\u001b[36mnn\u001b[39;49;00m\r\n",
      "\u001b[34mimport\u001b[39;49;00m \u001b[04m\u001b[36mtorch.optim\u001b[39;49;00m \u001b[34mas\u001b[39;49;00m \u001b[04m\u001b[36moptim\u001b[39;49;00m\r\n",
      "\u001b[34mimport\u001b[39;49;00m \u001b[04m\u001b[36mtorch.utils.data\u001b[39;49;00m\r\n",
      "\r\n",
      "\u001b[34mfrom\u001b[39;49;00m \u001b[04m\u001b[36mmodel\u001b[39;49;00m \u001b[34mimport\u001b[39;49;00m LSTMClassifier\r\n",
      "\r\n",
      "\u001b[34mfrom\u001b[39;49;00m \u001b[04m\u001b[36mutils\u001b[39;49;00m \u001b[34mimport\u001b[39;49;00m review_to_words, convert_and_pad\r\n",
      "\r\n",
      "\u001b[34mdef\u001b[39;49;00m \u001b[32mmodel_fn\u001b[39;49;00m(model_dir):\r\n",
      "    \u001b[33m\"\"\"Load the PyTorch model from the `model_dir` directory.\"\"\"\u001b[39;49;00m\r\n",
      "    \u001b[34mprint\u001b[39;49;00m(\u001b[33m\"\u001b[39;49;00m\u001b[33mLoading model.\u001b[39;49;00m\u001b[33m\"\u001b[39;49;00m)\r\n",
      "\r\n",
      "    \u001b[37m# First, load the parameters used to create the model.\u001b[39;49;00m\r\n",
      "    model_info = {}\r\n",
      "    model_info_path = os.path.join(model_dir, \u001b[33m'\u001b[39;49;00m\u001b[33mmodel_info.pth\u001b[39;49;00m\u001b[33m'\u001b[39;49;00m)\r\n",
      "    \u001b[34mwith\u001b[39;49;00m \u001b[36mopen\u001b[39;49;00m(model_info_path, \u001b[33m'\u001b[39;49;00m\u001b[33mrb\u001b[39;49;00m\u001b[33m'\u001b[39;49;00m) \u001b[34mas\u001b[39;49;00m f:\r\n",
      "        model_info = torch.load(f)\r\n",
      "\r\n",
      "    \u001b[34mprint\u001b[39;49;00m(\u001b[33m\"\u001b[39;49;00m\u001b[33mmodel_info: {}\u001b[39;49;00m\u001b[33m\"\u001b[39;49;00m.format(model_info))\r\n",
      "\r\n",
      "    \u001b[37m# Determine the device and construct the model.\u001b[39;49;00m\r\n",
      "    device = torch.device(\u001b[33m\"\u001b[39;49;00m\u001b[33mcuda\u001b[39;49;00m\u001b[33m\"\u001b[39;49;00m \u001b[34mif\u001b[39;49;00m torch.cuda.is_available() \u001b[34melse\u001b[39;49;00m \u001b[33m\"\u001b[39;49;00m\u001b[33mcpu\u001b[39;49;00m\u001b[33m\"\u001b[39;49;00m)\r\n",
      "    model = LSTMClassifier(model_info[\u001b[33m'\u001b[39;49;00m\u001b[33membedding_dim\u001b[39;49;00m\u001b[33m'\u001b[39;49;00m], model_info[\u001b[33m'\u001b[39;49;00m\u001b[33mhidden_dim\u001b[39;49;00m\u001b[33m'\u001b[39;49;00m], model_info[\u001b[33m'\u001b[39;49;00m\u001b[33mvocab_size\u001b[39;49;00m\u001b[33m'\u001b[39;49;00m])\r\n",
      "\r\n",
      "    \u001b[37m# Load the store model parameters.\u001b[39;49;00m\r\n",
      "    model_path = os.path.join(model_dir, \u001b[33m'\u001b[39;49;00m\u001b[33mmodel.pth\u001b[39;49;00m\u001b[33m'\u001b[39;49;00m)\r\n",
      "    \u001b[34mwith\u001b[39;49;00m \u001b[36mopen\u001b[39;49;00m(model_path, \u001b[33m'\u001b[39;49;00m\u001b[33mrb\u001b[39;49;00m\u001b[33m'\u001b[39;49;00m) \u001b[34mas\u001b[39;49;00m f:\r\n",
      "        model.load_state_dict(torch.load(f))\r\n",
      "\r\n",
      "    \u001b[37m# Load the saved word_dict.\u001b[39;49;00m\r\n",
      "    word_dict_path = os.path.join(model_dir, \u001b[33m'\u001b[39;49;00m\u001b[33mword_dict.pkl\u001b[39;49;00m\u001b[33m'\u001b[39;49;00m)\r\n",
      "    \u001b[34mwith\u001b[39;49;00m \u001b[36mopen\u001b[39;49;00m(word_dict_path, \u001b[33m'\u001b[39;49;00m\u001b[33mrb\u001b[39;49;00m\u001b[33m'\u001b[39;49;00m) \u001b[34mas\u001b[39;49;00m f:\r\n",
      "        model.word_dict = pickle.load(f)\r\n",
      "\r\n",
      "    model.to(device).eval()\r\n",
      "\r\n",
      "    \u001b[34mprint\u001b[39;49;00m(\u001b[33m\"\u001b[39;49;00m\u001b[33mDone loading model.\u001b[39;49;00m\u001b[33m\"\u001b[39;49;00m)\r\n",
      "    \u001b[34mreturn\u001b[39;49;00m model\r\n",
      "\r\n",
      "\u001b[34mdef\u001b[39;49;00m \u001b[32minput_fn\u001b[39;49;00m(serialized_input_data, content_type):\r\n",
      "    \u001b[34mprint\u001b[39;49;00m(\u001b[33m'\u001b[39;49;00m\u001b[33mDeserializing the input data.\u001b[39;49;00m\u001b[33m'\u001b[39;49;00m)\r\n",
      "    \u001b[34mif\u001b[39;49;00m content_type == \u001b[33m'\u001b[39;49;00m\u001b[33mtext/plain\u001b[39;49;00m\u001b[33m'\u001b[39;49;00m:\r\n",
      "        data = serialized_input_data.decode(\u001b[33m'\u001b[39;49;00m\u001b[33mutf-8\u001b[39;49;00m\u001b[33m'\u001b[39;49;00m)\r\n",
      "        \u001b[34mreturn\u001b[39;49;00m data\r\n",
      "    \u001b[34mraise\u001b[39;49;00m \u001b[36mException\u001b[39;49;00m(\u001b[33m'\u001b[39;49;00m\u001b[33mRequested unsupported ContentType in content_type: \u001b[39;49;00m\u001b[33m'\u001b[39;49;00m + content_type)\r\n",
      "\r\n",
      "\u001b[34mdef\u001b[39;49;00m \u001b[32moutput_fn\u001b[39;49;00m(prediction_output, accept):\r\n",
      "    \u001b[34mprint\u001b[39;49;00m(\u001b[33m'\u001b[39;49;00m\u001b[33mSerializing the generated output.\u001b[39;49;00m\u001b[33m'\u001b[39;49;00m)\r\n",
      "    \u001b[34mreturn\u001b[39;49;00m \u001b[36mstr\u001b[39;49;00m(prediction_output)\r\n",
      "\r\n",
      "\u001b[34mdef\u001b[39;49;00m \u001b[32mpredict_fn\u001b[39;49;00m(input_data, model):\r\n",
      "    \u001b[34mprint\u001b[39;49;00m(\u001b[33m'\u001b[39;49;00m\u001b[33mInferring sentiment of input data.\u001b[39;49;00m\u001b[33m'\u001b[39;49;00m)\r\n",
      "\r\n",
      "    device = torch.device(\u001b[33m\"\u001b[39;49;00m\u001b[33mcuda\u001b[39;49;00m\u001b[33m\"\u001b[39;49;00m \u001b[34mif\u001b[39;49;00m torch.cuda.is_available() \u001b[34melse\u001b[39;49;00m \u001b[33m\"\u001b[39;49;00m\u001b[33mcpu\u001b[39;49;00m\u001b[33m\"\u001b[39;49;00m)\r\n",
      "    \r\n",
      "    \u001b[34mif\u001b[39;49;00m model.word_dict \u001b[35mis\u001b[39;49;00m \u001b[36mNone\u001b[39;49;00m:\r\n",
      "        \u001b[34mraise\u001b[39;49;00m \u001b[36mException\u001b[39;49;00m(\u001b[33m'\u001b[39;49;00m\u001b[33mModel has not been loaded properly, no word_dict.\u001b[39;49;00m\u001b[33m'\u001b[39;49;00m)\r\n",
      "    \r\n",
      "    \u001b[37m# done: Process input_data so that it is ready to be sent to our model.\u001b[39;49;00m\r\n",
      "    \u001b[37m#       You should produce two variables:\u001b[39;49;00m\r\n",
      "    \u001b[37m#         data_X   - A sequence of length 500 which represents the converted review\u001b[39;49;00m\r\n",
      "    \u001b[37m#         data_len - The length of the review\u001b[39;49;00m\r\n",
      "\r\n",
      "    data_X = \u001b[36mNone\u001b[39;49;00m\r\n",
      "    data_len = \u001b[36mNone\u001b[39;49;00m\r\n",
      "    review_words = review_to_words(input_data)\r\n",
      "    data_X, data_len = convert_and_pad(model.word_dict, review_words)\r\n",
      "   \r\n",
      "\r\n",
      "    \u001b[37m# Using data_X and data_len we construct an appropriate input tensor. Remember\u001b[39;49;00m\r\n",
      "    \u001b[37m# that our model expects input data of the form 'len, review[500]'.\u001b[39;49;00m\r\n",
      "    data_pack = np.hstack((data_len, data_X))\r\n",
      "    data_pack = data_pack.reshape(\u001b[34m1\u001b[39;49;00m, -\u001b[34m1\u001b[39;49;00m)\r\n",
      "    \r\n",
      "    data = torch.from_numpy(data_pack)\r\n",
      "    data = data.to(device)\r\n",
      "\r\n",
      "    \u001b[37m# Make sure to put the model into evaluation mode\u001b[39;49;00m\r\n",
      "    model.eval()\r\n",
      "\r\n",
      "    \u001b[37m# TODO: Compute the result of applying the model to the input data. The variable `result` should\u001b[39;49;00m\r\n",
      "    \u001b[37m#       be a numpy array which contains a single integer which is either 1 or 0\u001b[39;49;00m\r\n",
      "\r\n",
      "    y_hat = model(data).detach().cpu().numpy()\r\n",
      "    \u001b[34mprint\u001b[39;49;00m(y_hat)\r\n",
      "    result = np.round(y_hat).astype(np.int)\r\n",
      "    \r\n",
      "   \r\n",
      "\r\n",
      "    \u001b[34mreturn\u001b[39;49;00m result\r\n"
     ]
    }
   ],
   "source": [
    "!pygmentize serve/predict.py"
   ]
  },
  {
   "cell_type": "markdown",
   "metadata": {},
   "source": [
    "As mentioned earlier, the `model_fn` method is the same as the one provided in the training code and the `input_fn` and `output_fn` methods are very simple and your task will be to complete the `predict_fn` method. Make sure that you save the completed file as `predict.py` in the `serve` directory.\n",
    "\n",
    "**TODO**: Complete the `predict_fn()` method in the `serve/predict.py` file."
   ]
  },
  {
   "cell_type": "markdown",
   "metadata": {},
   "source": [
    "### Deploying the model\n",
    "\n",
    "Now that the custom inference code has been written, we will create and deploy our model. To begin with, we need to construct a new PyTorchModel object which points to the model artifacts created during training and also points to the inference code that we wish to use. Then we can call the deploy method to launch the deployment container.\n",
    "\n",
    "**NOTE**: The default behaviour for a deployed PyTorch model is to assume that any input passed to the predictor is a `numpy` array. In our case we want to send a string so we need to construct a simple wrapper around the `RealTimePredictor` class to accomodate simple strings. In a more complicated situation you may want to provide a serialization object, for example if you wanted to sent image data."
   ]
  },
  {
   "cell_type": "code",
   "execution_count": 54,
   "metadata": {},
   "outputs": [
    {
     "name": "stdout",
     "output_type": "stream",
     "text": [
      "------------!"
     ]
    }
   ],
   "source": [
    "from sagemaker.predictor import RealTimePredictor\n",
    "from sagemaker.pytorch import PyTorchModel\n",
    "\n",
    "class StringPredictor(RealTimePredictor):\n",
    "    def __init__(self, endpoint_name, sagemaker_session):\n",
    "        super(StringPredictor, self).__init__(endpoint_name, sagemaker_session, content_type='text/plain')\n",
    "\n",
    "model = PyTorchModel(model_data=estimator.model_data,\n",
    "                     role = role,\n",
    "                     framework_version='0.4.0',\n",
    "                     entry_point='predict.py',\n",
    "                     source_dir='serve',\n",
    "                     predictor_cls=StringPredictor)\n",
    "predictor = model.deploy(initial_instance_count=1, instance_type='ml.m5.4xlarge')"
   ]
  },
  {
   "cell_type": "markdown",
   "metadata": {},
   "source": [
    "### Testing the model\n",
    "\n",
    "Now that we have deployed our model with the custom inference code, we should test to see if everything is working. Here we test our model by loading the first `250` positive and negative reviews and send them to the endpoint, then collect the results. The reason for only sending some of the data is that the amount of time it takes for our model to process the input and then perform inference is quite long and so testing the entire data set would be prohibitive."
   ]
  },
  {
   "cell_type": "code",
   "execution_count": 55,
   "metadata": {},
   "outputs": [],
   "source": [
    "import glob\n",
    "\n",
    "def test_reviews(data_dir='../data/aclImdb', stop=250):\n",
    "    \n",
    "    results = []\n",
    "    ground = []\n",
    "    \n",
    "    # We make sure to test both positive and negative reviews    \n",
    "    for sentiment in ['pos', 'neg']:\n",
    "        \n",
    "        path = os.path.join(data_dir, 'test', sentiment, '*.txt')\n",
    "        files = glob.glob(path)\n",
    "        \n",
    "        files_read = 0\n",
    "        \n",
    "        print('Starting ', sentiment, ' files')\n",
    "        \n",
    "        # Iterate through the files and send them to the predictor\n",
    "        for f in files:\n",
    "            with open(f) as review:\n",
    "                # First, we store the ground truth (was the review positive or negative)\n",
    "                if sentiment == 'pos':\n",
    "                    ground.append(1)\n",
    "                else:\n",
    "                    ground.append(0)\n",
    "                # Read in the review and convert to 'utf-8' for transmission via HTTP\n",
    "                review_input = review.read().encode('utf-8')\n",
    "                # Send the review to the predictor and store the results\n",
    "                results.append(int(predictor.predict(review_input)))\n",
    "                \n",
    "            # Sending reviews to our endpoint one at a time takes a while so we\n",
    "            # only send a small number of reviews\n",
    "            files_read += 1\n",
    "            if files_read == stop:\n",
    "                break\n",
    "            \n",
    "    return ground, results"
   ]
  },
  {
   "cell_type": "code",
   "execution_count": 56,
   "metadata": {},
   "outputs": [
    {
     "name": "stdout",
     "output_type": "stream",
     "text": [
      "Starting  pos  files\n",
      "Starting  neg  files\n"
     ]
    }
   ],
   "source": [
    "ground, results = test_reviews()"
   ]
  },
  {
   "cell_type": "code",
   "execution_count": 58,
   "metadata": {},
   "outputs": [
    {
     "data": {
      "text/plain": [
       "0.836"
      ]
     },
     "execution_count": 58,
     "metadata": {},
     "output_type": "execute_result"
    }
   ],
   "source": [
    "from sklearn.metrics import accuracy_score\n",
    "accuracy_score(ground, results)"
   ]
  },
  {
   "cell_type": "markdown",
   "metadata": {},
   "source": [
    "As an additional test, we can try sending the `test_review` that we looked at earlier."
   ]
  },
  {
   "cell_type": "code",
   "execution_count": 59,
   "metadata": {},
   "outputs": [
    {
     "data": {
      "text/plain": [
       "b'1'"
      ]
     },
     "execution_count": 59,
     "metadata": {},
     "output_type": "execute_result"
    }
   ],
   "source": [
    "predictor.predict(test_review)"
   ]
  },
  {
   "cell_type": "markdown",
   "metadata": {},
   "source": [
    "Now that we know our endpoint is working as expected, we can set up the web page that will interact with it. If you don't have time to finish the project now, make sure to skip down to the end of this notebook and shut down your endpoint. You can deploy it again when you come back."
   ]
  },
  {
   "cell_type": "markdown",
   "metadata": {},
   "source": [
    "## Step 7 (again): Use the model for the web app\n",
    "\n",
    "> **TODO:** This entire section and the next contain tasks for you to complete, mostly using the AWS console.\n",
    "\n",
    "So far we have been accessing our model endpoint by constructing a predictor object which uses the endpoint and then just using the predictor object to perform inference. What if we wanted to create a web app which accessed our model? The way things are set up currently makes that not possible since in order to access a SageMaker endpoint the app would first have to authenticate with AWS using an IAM role which included access to SageMaker endpoints. However, there is an easier way! We just need to use some additional AWS services.\n",
    "\n",
    "<img src=\"Web App Diagram.svg\">\n",
    "\n",
    "The diagram above gives an overview of how the various services will work together. On the far right is the model which we trained above and which is deployed using SageMaker. On the far left is our web app that collects a user's movie review, sends it off and expects a positive or negative sentiment in return.\n",
    "\n",
    "In the middle is where some of the magic happens. We will construct a Lambda function, which you can think of as a straightforward Python function that can be executed whenever a specified event occurs. We will give this function permission to send and recieve data from a SageMaker endpoint.\n",
    "\n",
    "Lastly, the method we will use to execute the Lambda function is a new endpoint that we will create using API Gateway. This endpoint will be a url that listens for data to be sent to it. Once it gets some data it will pass that data on to the Lambda function and then return whatever the Lambda function returns. Essentially it will act as an interface that lets our web app communicate with the Lambda function.\n",
    "\n",
    "### Setting up a Lambda function\n",
    "\n",
    "The first thing we are going to do is set up a Lambda function. This Lambda function will be executed whenever our public API has data sent to it. When it is executed it will receive the data, perform any sort of processing that is required, send the data (the review) to the SageMaker endpoint we've created and then return the result.\n",
    "\n",
    "#### Part A: Create an IAM Role for the Lambda function\n",
    "\n",
    "Since we want the Lambda function to call a SageMaker endpoint, we need to make sure that it has permission to do so. To do this, we will construct a role that we can later give the Lambda function.\n",
    "\n",
    "Using the AWS Console, navigate to the **IAM** page and click on **Roles**. Then, click on **Create role**. Make sure that the **AWS service** is the type of trusted entity selected and choose **Lambda** as the service that will use this role, then click **Next: Permissions**.\n",
    "\n",
    "In the search box type `sagemaker` and select the check box next to the **AmazonSageMakerFullAccess** policy. Then, click on **Next: Review**.\n",
    "\n",
    "Lastly, give this role a name. Make sure you use a name that you will remember later on, for example `LambdaSageMakerRole`. Then, click on **Create role**.\n",
    "\n",
    "#### Part B: Create a Lambda function\n",
    "\n",
    "Now it is time to actually create the Lambda function.\n",
    "\n",
    "Using the AWS Console, navigate to the AWS Lambda page and click on **Create a function**. When you get to the next page, make sure that **Author from scratch** is selected. Now, name your Lambda function, using a name that you will remember later on, for example `sentiment_analysis_func`. Make sure that the **Python 3.6** runtime is selected and then choose the role that you created in the previous part. Then, click on **Create Function**.\n",
    "\n",
    "On the next page you will see some information about the Lambda function you've just created. If you scroll down you should see an editor in which you can write the code that will be executed when your Lambda function is triggered. In our example, we will use the code below. \n",
    "\n",
    "```python\n",
    "# We need to use the low-level library to interact with SageMaker since the SageMaker API\n",
    "# is not available natively through Lambda.\n",
    "import boto3\n",
    "\n",
    "def lambda_handler(event, context):\n",
    "\n",
    "    # The SageMaker runtime is what allows us to invoke the endpoint that we've created.\n",
    "    runtime = boto3.Session().client('sagemaker-runtime')\n",
    "\n",
    "    # Now we use the SageMaker runtime to invoke our endpoint, sending the review we were given\n",
    "    response = runtime.invoke_endpoint(EndpointName = '**ENDPOINT NAME HERE**',    # The name of the endpoint we created\n",
    "                                       ContentType = 'text/plain',                 # The data format that is expected\n",
    "                                       Body = event['body'])                       # The actual review\n",
    "\n",
    "    # The response is an HTTP response whose body contains the result of our inference\n",
    "    result = response['Body'].read().decode('utf-8')\n",
    "\n",
    "    return {\n",
    "        'statusCode' : 200,\n",
    "        'headers' : { 'Content-Type' : 'text/plain', 'Access-Control-Allow-Origin' : '*' },\n",
    "        'body' : result\n",
    "    }\n",
    "```\n",
    "\n",
    "Once you have copy and pasted the code above into the Lambda code editor, replace the `**ENDPOINT NAME HERE**` portion with the name of the endpoint that we deployed earlier. You can determine the name of the endpoint using the code cell below."
   ]
  },
  {
   "cell_type": "code",
   "execution_count": 60,
   "metadata": {},
   "outputs": [
    {
     "data": {
      "text/plain": [
       "'sagemaker-pytorch-2020-04-12-23-40-56-878'"
      ]
     },
     "execution_count": 60,
     "metadata": {},
     "output_type": "execute_result"
    }
   ],
   "source": [
    "predictor.endpoint"
   ]
  },
  {
   "cell_type": "markdown",
   "metadata": {},
   "source": [
    "Once you have added the endpoint name to the Lambda function, click on **Save**. Your Lambda function is now up and running. Next we need to create a way for our web app to execute the Lambda function.\n",
    "\n",
    "### Setting up API Gateway\n",
    "\n",
    "Now that our Lambda function is set up, it is time to create a new API using API Gateway that will trigger the Lambda function we have just created.\n",
    "\n",
    "Using AWS Console, navigate to **Amazon API Gateway** and then click on **Get started**.\n",
    "\n",
    "On the next page, make sure that **New API** is selected and give the new api a name, for example, `sentiment_analysis_api`. Then, click on **Create API**.\n",
    "\n",
    "Now we have created an API, however it doesn't currently do anything. What we want it to do is to trigger the Lambda function that we created earlier.\n",
    "\n",
    "Select the **Actions** dropdown menu and click **Create Method**. A new blank method will be created, select its dropdown menu and select **POST**, then click on the check mark beside it.\n",
    "\n",
    "For the integration point, make sure that **Lambda Function** is selected and click on the **Use Lambda Proxy integration**. This option makes sure that the data that is sent to the API is then sent directly to the Lambda function with no processing. It also means that the return value must be a proper response object as it will also not be processed by API Gateway.\n",
    "\n",
    "Type the name of the Lambda function you created earlier into the **Lambda Function** text entry box and then click on **Save**. Click on **OK** in the pop-up box that then appears, giving permission to API Gateway to invoke the Lambda function you created.\n",
    "\n",
    "The last step in creating the API Gateway is to select the **Actions** dropdown and click on **Deploy API**. You will need to create a new Deployment stage and name it anything you like, for example `prod`.\n",
    "\n",
    "You have now successfully set up a public API to access your SageMaker model. Make sure to copy or write down the URL provided to invoke your newly created public API as this will be needed in the next step. This URL can be found at the top of the page, highlighted in blue next to the text **Invoke URL**."
   ]
  },
  {
   "cell_type": "markdown",
   "metadata": {},
   "source": [
    "## Step 4: Deploying our web app\n",
    "\n",
    "Now that we have a publicly available API, we can start using it in a web app. For our purposes, we have provided a simple static html file which can make use of the public api you created earlier.\n",
    "\n",
    "In the `website` folder there should be a file called `index.html`. Download the file to your computer and open that file up in a text editor of your choice. There should be a line which contains **\\*\\*REPLACE WITH PUBLIC API URL\\*\\***. Replace this string with the url that you wrote down in the last step and then save the file.\n",
    "\n",
    "Now, if you open `index.html` on your local computer, your browser will behave as a local web server and you can use the provided site to interact with your SageMaker model.\n",
    "\n",
    "If you'd like to go further, you can host this html file anywhere you'd like, for example using github or hosting a static site on Amazon's S3. Once you have done this you can share the link with anyone you'd like and have them play with it too!\n",
    "\n",
    "> **Important Note** In order for the web app to communicate with the SageMaker endpoint, the endpoint has to actually be deployed and running. This means that you are paying for it. Make sure that the endpoint is running when you want to use the web app but that you shut it down when you don't need it, otherwise you will end up with a surprisingly large AWS bill.\n",
    "\n",
    "**TODO:** Make sure that you include the edited `index.html` file in your project submission."
   ]
  },
  {
   "cell_type": "markdown",
   "metadata": {},
   "source": [
    "Now that your web app is working, trying playing around with it and see how well it works.\n",
    "\n",
    "**Question**: Give an example of a review that you entered into your web app. What was the predicted sentiment of your example review?"
   ]
  },
  {
   "cell_type": "markdown",
   "metadata": {},
   "source": [
    "**Answer:**\n",
    "\n",
    "Review:It's a very funny movie - and an endlessly, refreshingly cheerful one, which is just as rare.\n",
    "\n",
    "PREDICTION : POSITIVE!\n",
    "\n",
    "\n",
    "Review: There's nothing wrong with the cast of this glossy comedy... Yet even this hugely likable trio can't save a film that strives for subversive laughs and sisterly inspiration and falls short on both counts.\n",
    "\n",
    "PREDICTION : NEGATIVE!\n",
    "\n"
   ]
  },
  {
   "cell_type": "markdown",
   "metadata": {},
   "source": [
    "### Delete the endpoint\n",
    "\n",
    "Remember to always shut down your endpoint if you are no longer using it. You are charged for the length of time that the endpoint is running so if you forget and leave it on you could end up with an unexpectedly large bill."
   ]
  },
  {
   "cell_type": "code",
   "execution_count": 45,
   "metadata": {},
   "outputs": [],
   "source": [
    "predictor.delete_endpoint()"
   ]
  },
  {
   "cell_type": "code",
   "execution_count": null,
   "metadata": {},
   "outputs": [],
   "source": []
  }
 ],
 "metadata": {
  "kernelspec": {
   "display_name": "conda_pytorch_p36",
   "language": "python",
   "name": "conda_pytorch_p36"
  },
  "language_info": {
   "codemirror_mode": {
    "name": "ipython",
    "version": 3
   },
   "file_extension": ".py",
   "mimetype": "text/x-python",
   "name": "python",
   "nbconvert_exporter": "python",
   "pygments_lexer": "ipython3",
   "version": "3.6.5"
  }
 },
 "nbformat": 4,
 "nbformat_minor": 2
}
